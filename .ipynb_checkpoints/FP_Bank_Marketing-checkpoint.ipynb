{
 "cells": [
  {
   "cell_type": "code",
   "execution_count": 5,
   "metadata": {},
   "outputs": [],
   "source": [
    "import numpy as np\n",
    "import pandas as pd\n",
    "import seaborn as sb\n",
    "import matplotlib.pyplot as plt"
   ]
  },
  {
   "cell_type": "code",
   "execution_count": 6,
   "metadata": {
    "colab": {
     "base_uri": "https://localhost:8080/",
     "height": 202
    },
    "colab_type": "code",
    "executionInfo": {
     "elapsed": 2634,
     "status": "ok",
     "timestamp": 1582526404625,
     "user": {
      "displayName": "Rudy Harun",
      "photoUrl": "https://lh3.googleusercontent.com/a-/AAuE7mCT3Fx-iOuTA6Pj1ltySexlcUpy8kFQ-XpcfzQZ=s64",
      "userId": "16923104043717379311"
     },
     "user_tz": -420
    },
    "id": "BtLP0RhqxIdf",
    "outputId": "ae94be3e-053b-44f7-ad3e-17877ff2da51"
   },
   "outputs": [
    {
     "data": {
      "text/html": [
       "<div>\n",
       "<style scoped>\n",
       "    .dataframe tbody tr th:only-of-type {\n",
       "        vertical-align: middle;\n",
       "    }\n",
       "\n",
       "    .dataframe tbody tr th {\n",
       "        vertical-align: top;\n",
       "    }\n",
       "\n",
       "    .dataframe thead th {\n",
       "        text-align: right;\n",
       "    }\n",
       "</style>\n",
       "<table border=\"1\" class=\"dataframe\">\n",
       "  <thead>\n",
       "    <tr style=\"text-align: right;\">\n",
       "      <th></th>\n",
       "      <th>age</th>\n",
       "      <th>job</th>\n",
       "      <th>marital</th>\n",
       "      <th>education</th>\n",
       "      <th>default</th>\n",
       "      <th>balance</th>\n",
       "      <th>housing</th>\n",
       "      <th>loan</th>\n",
       "      <th>contact</th>\n",
       "      <th>day</th>\n",
       "      <th>month</th>\n",
       "      <th>duration</th>\n",
       "      <th>campaign</th>\n",
       "      <th>pdays</th>\n",
       "      <th>previous</th>\n",
       "      <th>poutcome</th>\n",
       "      <th>deposit</th>\n",
       "    </tr>\n",
       "  </thead>\n",
       "  <tbody>\n",
       "    <tr>\n",
       "      <th>0</th>\n",
       "      <td>59</td>\n",
       "      <td>admin.</td>\n",
       "      <td>married</td>\n",
       "      <td>secondary</td>\n",
       "      <td>no</td>\n",
       "      <td>2343</td>\n",
       "      <td>yes</td>\n",
       "      <td>no</td>\n",
       "      <td>unknown</td>\n",
       "      <td>5</td>\n",
       "      <td>may</td>\n",
       "      <td>1042</td>\n",
       "      <td>1</td>\n",
       "      <td>-1</td>\n",
       "      <td>0</td>\n",
       "      <td>unknown</td>\n",
       "      <td>yes</td>\n",
       "    </tr>\n",
       "    <tr>\n",
       "      <th>1</th>\n",
       "      <td>56</td>\n",
       "      <td>admin.</td>\n",
       "      <td>married</td>\n",
       "      <td>secondary</td>\n",
       "      <td>no</td>\n",
       "      <td>45</td>\n",
       "      <td>no</td>\n",
       "      <td>no</td>\n",
       "      <td>unknown</td>\n",
       "      <td>5</td>\n",
       "      <td>may</td>\n",
       "      <td>1467</td>\n",
       "      <td>1</td>\n",
       "      <td>-1</td>\n",
       "      <td>0</td>\n",
       "      <td>unknown</td>\n",
       "      <td>yes</td>\n",
       "    </tr>\n",
       "    <tr>\n",
       "      <th>2</th>\n",
       "      <td>41</td>\n",
       "      <td>technician</td>\n",
       "      <td>married</td>\n",
       "      <td>secondary</td>\n",
       "      <td>no</td>\n",
       "      <td>1270</td>\n",
       "      <td>yes</td>\n",
       "      <td>no</td>\n",
       "      <td>unknown</td>\n",
       "      <td>5</td>\n",
       "      <td>may</td>\n",
       "      <td>1389</td>\n",
       "      <td>1</td>\n",
       "      <td>-1</td>\n",
       "      <td>0</td>\n",
       "      <td>unknown</td>\n",
       "      <td>yes</td>\n",
       "    </tr>\n",
       "    <tr>\n",
       "      <th>3</th>\n",
       "      <td>55</td>\n",
       "      <td>services</td>\n",
       "      <td>married</td>\n",
       "      <td>secondary</td>\n",
       "      <td>no</td>\n",
       "      <td>2476</td>\n",
       "      <td>yes</td>\n",
       "      <td>no</td>\n",
       "      <td>unknown</td>\n",
       "      <td>5</td>\n",
       "      <td>may</td>\n",
       "      <td>579</td>\n",
       "      <td>1</td>\n",
       "      <td>-1</td>\n",
       "      <td>0</td>\n",
       "      <td>unknown</td>\n",
       "      <td>yes</td>\n",
       "    </tr>\n",
       "    <tr>\n",
       "      <th>4</th>\n",
       "      <td>54</td>\n",
       "      <td>admin.</td>\n",
       "      <td>married</td>\n",
       "      <td>tertiary</td>\n",
       "      <td>no</td>\n",
       "      <td>184</td>\n",
       "      <td>no</td>\n",
       "      <td>no</td>\n",
       "      <td>unknown</td>\n",
       "      <td>5</td>\n",
       "      <td>may</td>\n",
       "      <td>673</td>\n",
       "      <td>2</td>\n",
       "      <td>-1</td>\n",
       "      <td>0</td>\n",
       "      <td>unknown</td>\n",
       "      <td>yes</td>\n",
       "    </tr>\n",
       "  </tbody>\n",
       "</table>\n",
       "</div>"
      ],
      "text/plain": [
       "   age         job  marital  education default  balance housing loan  contact  \\\n",
       "0   59      admin.  married  secondary      no     2343     yes   no  unknown   \n",
       "1   56      admin.  married  secondary      no       45      no   no  unknown   \n",
       "2   41  technician  married  secondary      no     1270     yes   no  unknown   \n",
       "3   55    services  married  secondary      no     2476     yes   no  unknown   \n",
       "4   54      admin.  married   tertiary      no      184      no   no  unknown   \n",
       "\n",
       "   day month  duration  campaign  pdays  previous poutcome deposit  \n",
       "0    5   may      1042         1     -1         0  unknown     yes  \n",
       "1    5   may      1467         1     -1         0  unknown     yes  \n",
       "2    5   may      1389         1     -1         0  unknown     yes  \n",
       "3    5   may       579         1     -1         0  unknown     yes  \n",
       "4    5   may       673         2     -1         0  unknown     yes  "
      ]
     },
     "execution_count": 6,
     "metadata": {},
     "output_type": "execute_result"
    }
   ],
   "source": [
    "bank = pd.read_csv('bank.csv')\n",
    "bank.head()"
   ]
  },
  {
   "cell_type": "code",
   "execution_count": 7,
   "metadata": {
    "colab": {
     "base_uri": "https://localhost:8080/",
     "height": 399
    },
    "colab_type": "code",
    "executionInfo": {
     "elapsed": 2235,
     "status": "ok",
     "timestamp": 1582526407510,
     "user": {
      "displayName": "Rudy Harun",
      "photoUrl": "https://lh3.googleusercontent.com/a-/AAuE7mCT3Fx-iOuTA6Pj1ltySexlcUpy8kFQ-XpcfzQZ=s64",
      "userId": "16923104043717379311"
     },
     "user_tz": -420
    },
    "id": "JIh5Y-JjxN3E",
    "outputId": "be4156f4-1fc0-449f-da7b-d339c5aff89c"
   },
   "outputs": [
    {
     "name": "stdout",
     "output_type": "stream",
     "text": [
      "<class 'pandas.core.frame.DataFrame'>\n",
      "RangeIndex: 11162 entries, 0 to 11161\n",
      "Data columns (total 17 columns):\n",
      "age          11162 non-null int64\n",
      "job          11162 non-null object\n",
      "marital      11162 non-null object\n",
      "education    11162 non-null object\n",
      "default      11162 non-null object\n",
      "balance      11162 non-null int64\n",
      "housing      11162 non-null object\n",
      "loan         11162 non-null object\n",
      "contact      11162 non-null object\n",
      "day          11162 non-null int64\n",
      "month        11162 non-null object\n",
      "duration     11162 non-null int64\n",
      "campaign     11162 non-null int64\n",
      "pdays        11162 non-null int64\n",
      "previous     11162 non-null int64\n",
      "poutcome     11162 non-null object\n",
      "deposit      11162 non-null object\n",
      "dtypes: int64(7), object(10)\n",
      "memory usage: 1.4+ MB\n"
     ]
    }
   ],
   "source": [
    "bank.info()"
   ]
  },
  {
   "cell_type": "markdown",
   "metadata": {},
   "source": [
    "Dataset terbagi ke dalam 17 features, 7 numerical, 9 categorical, dan 1 target berupa yes atau no"
   ]
  },
  {
   "cell_type": "code",
   "execution_count": 8,
   "metadata": {
    "colab": {
     "base_uri": "https://localhost:8080/",
     "height": 294
    },
    "colab_type": "code",
    "executionInfo": {
     "elapsed": 2774,
     "status": "ok",
     "timestamp": 1582526410899,
     "user": {
      "displayName": "Rudy Harun",
      "photoUrl": "https://lh3.googleusercontent.com/a-/AAuE7mCT3Fx-iOuTA6Pj1ltySexlcUpy8kFQ-XpcfzQZ=s64",
      "userId": "16923104043717379311"
     },
     "user_tz": -420
    },
    "id": "-JrvHBIB3DC6",
    "outputId": "0030cd44-4981-4e56-fe1a-59d656584d49"
   },
   "outputs": [
    {
     "data": {
      "text/html": [
       "<div>\n",
       "<style scoped>\n",
       "    .dataframe tbody tr th:only-of-type {\n",
       "        vertical-align: middle;\n",
       "    }\n",
       "\n",
       "    .dataframe tbody tr th {\n",
       "        vertical-align: top;\n",
       "    }\n",
       "\n",
       "    .dataframe thead th {\n",
       "        text-align: right;\n",
       "    }\n",
       "</style>\n",
       "<table border=\"1\" class=\"dataframe\">\n",
       "  <thead>\n",
       "    <tr style=\"text-align: right;\">\n",
       "      <th></th>\n",
       "      <th>age</th>\n",
       "      <th>balance</th>\n",
       "      <th>day</th>\n",
       "      <th>duration</th>\n",
       "      <th>campaign</th>\n",
       "      <th>pdays</th>\n",
       "      <th>previous</th>\n",
       "    </tr>\n",
       "  </thead>\n",
       "  <tbody>\n",
       "    <tr>\n",
       "      <th>count</th>\n",
       "      <td>11162.000000</td>\n",
       "      <td>11162.000000</td>\n",
       "      <td>11162.000000</td>\n",
       "      <td>11162.000000</td>\n",
       "      <td>11162.000000</td>\n",
       "      <td>11162.000000</td>\n",
       "      <td>11162.000000</td>\n",
       "    </tr>\n",
       "    <tr>\n",
       "      <th>mean</th>\n",
       "      <td>41.231948</td>\n",
       "      <td>1528.538524</td>\n",
       "      <td>15.658036</td>\n",
       "      <td>371.993818</td>\n",
       "      <td>2.508421</td>\n",
       "      <td>51.330407</td>\n",
       "      <td>0.832557</td>\n",
       "    </tr>\n",
       "    <tr>\n",
       "      <th>std</th>\n",
       "      <td>11.913369</td>\n",
       "      <td>3225.413326</td>\n",
       "      <td>8.420740</td>\n",
       "      <td>347.128386</td>\n",
       "      <td>2.722077</td>\n",
       "      <td>108.758282</td>\n",
       "      <td>2.292007</td>\n",
       "    </tr>\n",
       "    <tr>\n",
       "      <th>min</th>\n",
       "      <td>18.000000</td>\n",
       "      <td>-6847.000000</td>\n",
       "      <td>1.000000</td>\n",
       "      <td>2.000000</td>\n",
       "      <td>1.000000</td>\n",
       "      <td>-1.000000</td>\n",
       "      <td>0.000000</td>\n",
       "    </tr>\n",
       "    <tr>\n",
       "      <th>25%</th>\n",
       "      <td>32.000000</td>\n",
       "      <td>122.000000</td>\n",
       "      <td>8.000000</td>\n",
       "      <td>138.000000</td>\n",
       "      <td>1.000000</td>\n",
       "      <td>-1.000000</td>\n",
       "      <td>0.000000</td>\n",
       "    </tr>\n",
       "    <tr>\n",
       "      <th>50%</th>\n",
       "      <td>39.000000</td>\n",
       "      <td>550.000000</td>\n",
       "      <td>15.000000</td>\n",
       "      <td>255.000000</td>\n",
       "      <td>2.000000</td>\n",
       "      <td>-1.000000</td>\n",
       "      <td>0.000000</td>\n",
       "    </tr>\n",
       "    <tr>\n",
       "      <th>75%</th>\n",
       "      <td>49.000000</td>\n",
       "      <td>1708.000000</td>\n",
       "      <td>22.000000</td>\n",
       "      <td>496.000000</td>\n",
       "      <td>3.000000</td>\n",
       "      <td>20.750000</td>\n",
       "      <td>1.000000</td>\n",
       "    </tr>\n",
       "    <tr>\n",
       "      <th>max</th>\n",
       "      <td>95.000000</td>\n",
       "      <td>81204.000000</td>\n",
       "      <td>31.000000</td>\n",
       "      <td>3881.000000</td>\n",
       "      <td>63.000000</td>\n",
       "      <td>854.000000</td>\n",
       "      <td>58.000000</td>\n",
       "    </tr>\n",
       "  </tbody>\n",
       "</table>\n",
       "</div>"
      ],
      "text/plain": [
       "                age       balance           day      duration      campaign  \\\n",
       "count  11162.000000  11162.000000  11162.000000  11162.000000  11162.000000   \n",
       "mean      41.231948   1528.538524     15.658036    371.993818      2.508421   \n",
       "std       11.913369   3225.413326      8.420740    347.128386      2.722077   \n",
       "min       18.000000  -6847.000000      1.000000      2.000000      1.000000   \n",
       "25%       32.000000    122.000000      8.000000    138.000000      1.000000   \n",
       "50%       39.000000    550.000000     15.000000    255.000000      2.000000   \n",
       "75%       49.000000   1708.000000     22.000000    496.000000      3.000000   \n",
       "max       95.000000  81204.000000     31.000000   3881.000000     63.000000   \n",
       "\n",
       "              pdays      previous  \n",
       "count  11162.000000  11162.000000  \n",
       "mean      51.330407      0.832557  \n",
       "std      108.758282      2.292007  \n",
       "min       -1.000000      0.000000  \n",
       "25%       -1.000000      0.000000  \n",
       "50%       -1.000000      0.000000  \n",
       "75%       20.750000      1.000000  \n",
       "max      854.000000     58.000000  "
      ]
     },
     "execution_count": 8,
     "metadata": {},
     "output_type": "execute_result"
    }
   ],
   "source": [
    "bank.describe()"
   ]
  },
  {
   "cell_type": "code",
   "execution_count": 9,
   "metadata": {
    "colab": {
     "base_uri": "https://localhost:8080/",
     "height": 570
    },
    "colab_type": "code",
    "executionInfo": {
     "elapsed": 1537,
     "status": "ok",
     "timestamp": 1582526414172,
     "user": {
      "displayName": "Rudy Harun",
      "photoUrl": "https://lh3.googleusercontent.com/a-/AAuE7mCT3Fx-iOuTA6Pj1ltySexlcUpy8kFQ-XpcfzQZ=s64",
      "userId": "16923104043717379311"
     },
     "user_tz": -420
    },
    "id": "Q2sF18k-xUOr",
    "outputId": "bdf847ab-8128-4316-e8ac-60cc8adaba5b"
   },
   "outputs": [
    {
     "data": {
      "text/html": [
       "<div>\n",
       "<style scoped>\n",
       "    .dataframe tbody tr th:only-of-type {\n",
       "        vertical-align: middle;\n",
       "    }\n",
       "\n",
       "    .dataframe tbody tr th {\n",
       "        vertical-align: top;\n",
       "    }\n",
       "\n",
       "    .dataframe thead th {\n",
       "        text-align: right;\n",
       "    }\n",
       "</style>\n",
       "<table border=\"1\" class=\"dataframe\">\n",
       "  <thead>\n",
       "    <tr style=\"text-align: right;\">\n",
       "      <th></th>\n",
       "      <th>dataFeatures</th>\n",
       "      <th>dataType</th>\n",
       "      <th>null</th>\n",
       "      <th>nullPct</th>\n",
       "      <th>unique</th>\n",
       "      <th>uniqueSample</th>\n",
       "    </tr>\n",
       "  </thead>\n",
       "  <tbody>\n",
       "    <tr>\n",
       "      <th>0</th>\n",
       "      <td>age</td>\n",
       "      <td>int64</td>\n",
       "      <td>0</td>\n",
       "      <td>0.0</td>\n",
       "      <td>76</td>\n",
       "      <td>[59, 56]</td>\n",
       "    </tr>\n",
       "    <tr>\n",
       "      <th>1</th>\n",
       "      <td>job</td>\n",
       "      <td>object</td>\n",
       "      <td>0</td>\n",
       "      <td>0.0</td>\n",
       "      <td>12</td>\n",
       "      <td>[admin., technician]</td>\n",
       "    </tr>\n",
       "    <tr>\n",
       "      <th>2</th>\n",
       "      <td>marital</td>\n",
       "      <td>object</td>\n",
       "      <td>0</td>\n",
       "      <td>0.0</td>\n",
       "      <td>3</td>\n",
       "      <td>[married, single]</td>\n",
       "    </tr>\n",
       "    <tr>\n",
       "      <th>3</th>\n",
       "      <td>education</td>\n",
       "      <td>object</td>\n",
       "      <td>0</td>\n",
       "      <td>0.0</td>\n",
       "      <td>4</td>\n",
       "      <td>[secondary, tertiary]</td>\n",
       "    </tr>\n",
       "    <tr>\n",
       "      <th>4</th>\n",
       "      <td>default</td>\n",
       "      <td>object</td>\n",
       "      <td>0</td>\n",
       "      <td>0.0</td>\n",
       "      <td>2</td>\n",
       "      <td>[no, yes]</td>\n",
       "    </tr>\n",
       "    <tr>\n",
       "      <th>5</th>\n",
       "      <td>balance</td>\n",
       "      <td>int64</td>\n",
       "      <td>0</td>\n",
       "      <td>0.0</td>\n",
       "      <td>3805</td>\n",
       "      <td>[2343, 45]</td>\n",
       "    </tr>\n",
       "    <tr>\n",
       "      <th>6</th>\n",
       "      <td>housing</td>\n",
       "      <td>object</td>\n",
       "      <td>0</td>\n",
       "      <td>0.0</td>\n",
       "      <td>2</td>\n",
       "      <td>[yes, no]</td>\n",
       "    </tr>\n",
       "    <tr>\n",
       "      <th>7</th>\n",
       "      <td>loan</td>\n",
       "      <td>object</td>\n",
       "      <td>0</td>\n",
       "      <td>0.0</td>\n",
       "      <td>2</td>\n",
       "      <td>[no, yes]</td>\n",
       "    </tr>\n",
       "    <tr>\n",
       "      <th>8</th>\n",
       "      <td>contact</td>\n",
       "      <td>object</td>\n",
       "      <td>0</td>\n",
       "      <td>0.0</td>\n",
       "      <td>3</td>\n",
       "      <td>[unknown, cellular]</td>\n",
       "    </tr>\n",
       "    <tr>\n",
       "      <th>9</th>\n",
       "      <td>day</td>\n",
       "      <td>int64</td>\n",
       "      <td>0</td>\n",
       "      <td>0.0</td>\n",
       "      <td>31</td>\n",
       "      <td>[5, 6]</td>\n",
       "    </tr>\n",
       "    <tr>\n",
       "      <th>10</th>\n",
       "      <td>month</td>\n",
       "      <td>object</td>\n",
       "      <td>0</td>\n",
       "      <td>0.0</td>\n",
       "      <td>12</td>\n",
       "      <td>[may, jun]</td>\n",
       "    </tr>\n",
       "    <tr>\n",
       "      <th>11</th>\n",
       "      <td>duration</td>\n",
       "      <td>int64</td>\n",
       "      <td>0</td>\n",
       "      <td>0.0</td>\n",
       "      <td>1428</td>\n",
       "      <td>[1042, 1467]</td>\n",
       "    </tr>\n",
       "    <tr>\n",
       "      <th>12</th>\n",
       "      <td>campaign</td>\n",
       "      <td>int64</td>\n",
       "      <td>0</td>\n",
       "      <td>0.0</td>\n",
       "      <td>36</td>\n",
       "      <td>[1, 2]</td>\n",
       "    </tr>\n",
       "    <tr>\n",
       "      <th>13</th>\n",
       "      <td>pdays</td>\n",
       "      <td>int64</td>\n",
       "      <td>0</td>\n",
       "      <td>0.0</td>\n",
       "      <td>472</td>\n",
       "      <td>[-1, 166]</td>\n",
       "    </tr>\n",
       "    <tr>\n",
       "      <th>14</th>\n",
       "      <td>previous</td>\n",
       "      <td>int64</td>\n",
       "      <td>0</td>\n",
       "      <td>0.0</td>\n",
       "      <td>34</td>\n",
       "      <td>[0, 1]</td>\n",
       "    </tr>\n",
       "    <tr>\n",
       "      <th>15</th>\n",
       "      <td>poutcome</td>\n",
       "      <td>object</td>\n",
       "      <td>0</td>\n",
       "      <td>0.0</td>\n",
       "      <td>4</td>\n",
       "      <td>[unknown, other]</td>\n",
       "    </tr>\n",
       "    <tr>\n",
       "      <th>16</th>\n",
       "      <td>deposit</td>\n",
       "      <td>object</td>\n",
       "      <td>0</td>\n",
       "      <td>0.0</td>\n",
       "      <td>2</td>\n",
       "      <td>[yes, no]</td>\n",
       "    </tr>\n",
       "  </tbody>\n",
       "</table>\n",
       "</div>"
      ],
      "text/plain": [
       "   dataFeatures dataType  null  nullPct  unique           uniqueSample\n",
       "0           age    int64     0      0.0      76               [59, 56]\n",
       "1           job   object     0      0.0      12   [admin., technician]\n",
       "2       marital   object     0      0.0       3      [married, single]\n",
       "3     education   object     0      0.0       4  [secondary, tertiary]\n",
       "4       default   object     0      0.0       2              [no, yes]\n",
       "5       balance    int64     0      0.0    3805             [2343, 45]\n",
       "6       housing   object     0      0.0       2              [yes, no]\n",
       "7          loan   object     0      0.0       2              [no, yes]\n",
       "8       contact   object     0      0.0       3    [unknown, cellular]\n",
       "9           day    int64     0      0.0      31                 [5, 6]\n",
       "10        month   object     0      0.0      12             [may, jun]\n",
       "11     duration    int64     0      0.0    1428           [1042, 1467]\n",
       "12     campaign    int64     0      0.0      36                 [1, 2]\n",
       "13        pdays    int64     0      0.0     472              [-1, 166]\n",
       "14     previous    int64     0      0.0      34                 [0, 1]\n",
       "15     poutcome   object     0      0.0       4       [unknown, other]\n",
       "16      deposit   object     0      0.0       2              [yes, no]"
      ]
     },
     "execution_count": 9,
     "metadata": {},
     "output_type": "execute_result"
    }
   ],
   "source": [
    "listItem = []\n",
    "for col in bank.columns :\n",
    "  listItem.append([col, bank[col].dtype, bank[col].isna().sum(), round((bank[col].isna().sum() / len(bank[col])) * 100,2),\n",
    "                   bank[col].nunique(), list(bank[col].unique()[:2])]);\n",
    "\n",
    "dfDesc = pd.DataFrame(columns = ['dataFeatures', 'dataType', 'null', 'nullPct', 'unique', 'uniqueSample'], data = listItem)\n",
    "dfDesc"
   ]
  },
  {
   "cell_type": "markdown",
   "metadata": {},
   "source": [
    "## Perbandingan Deposit Yes dan No"
   ]
  },
  {
   "cell_type": "code",
   "execution_count": 10,
   "metadata": {
    "colab": {
     "base_uri": "https://localhost:8080/",
     "height": 392
    },
    "colab_type": "code",
    "executionInfo": {
     "elapsed": 886,
     "status": "ok",
     "timestamp": 1582526417754,
     "user": {
      "displayName": "Rudy Harun",
      "photoUrl": "https://lh3.googleusercontent.com/a-/AAuE7mCT3Fx-iOuTA6Pj1ltySexlcUpy8kFQ-XpcfzQZ=s64",
      "userId": "16923104043717379311"
     },
     "user_tz": -420
    },
    "id": "lTrMUSMn0Ivm",
    "outputId": "ebf7b126-3be2-4857-a6d3-beaffb4ae490"
   },
   "outputs": [
    {
     "data": {
      "image/png": "[encoded data removed]",
      "text/plain": [
       "<Figure size 864x432 with 2 Axes>"
      ]
     },
     "metadata": {
      "needs_background": "light"
     },
     "output_type": "display_data"
    }
   ],
   "source": [
    "plt.figure(figsize = (12, 6))\n",
    "\n",
    "plt.subplot(121)\n",
    "plt.title('Deposit Comparison', size = 15, fontweight = 'bold')\n",
    "\n",
    "a = bank['deposit'].value_counts().index\n",
    "b = bank['deposit'].value_counts()\n",
    "\n",
    "plt.bar(a, b, color = ['blue', 'orange'])\n",
    "for i in range(len(a)):\n",
    "  plt.text(a[i], b[i] + 50, b[i])\n",
    "\n",
    "plt.subplot(122)\n",
    "plt.title('Deposit Percentage', size = 15, fontweight = 'bold')\n",
    "plt.pie(b, labels = a, autopct = '%.2f')\n",
    "\n",
    "plt.show()"
   ]
  },
  {
   "cell_type": "markdown",
   "metadata": {},
   "source": [
    "## Eksplorasi Data Numerical"
   ]
  },
  {
   "cell_type": "code",
   "execution_count": 11,
   "metadata": {
    "colab": {
     "base_uri": "https://localhost:8080/",
     "height": 35
    },
    "colab_type": "code",
    "executionInfo": {
     "elapsed": 725,
     "status": "ok",
     "timestamp": 1582526419964,
     "user": {
      "displayName": "Rudy Harun",
      "photoUrl": "https://lh3.googleusercontent.com/a-/AAuE7mCT3Fx-iOuTA6Pj1ltySexlcUpy8kFQ-XpcfzQZ=s64",
      "userId": "16923104043717379311"
     },
     "user_tz": -420
    },
    "id": "JxF0u6_DWgHL",
    "outputId": "dcb30493-1111-4161-8ecd-d6ff01c6f794"
   },
   "outputs": [
    {
     "data": {
      "text/plain": [
       "['age', 'balance', 'day', 'duration', 'campaign', 'pdays', 'previous']"
      ]
     },
     "execution_count": 11,
     "metadata": {},
     "output_type": "execute_result"
    }
   ],
   "source": [
    "bankCat = dfDesc[dfDesc['dataType'] == 'object']['dataFeatures'].tolist()\n",
    "bankNum = dfDesc[dfDesc['dataType'] == 'int64']['dataFeatures'].tolist()\n",
    "bankNum"
   ]
  },
  {
   "cell_type": "code",
   "execution_count": 12,
   "metadata": {
    "colab": {
     "base_uri": "https://localhost:8080/",
     "height": 882
    },
    "colab_type": "code",
    "executionInfo": {
     "elapsed": 3297,
     "status": "ok",
     "timestamp": 1582526430352,
     "user": {
      "displayName": "Rudy Harun",
      "photoUrl": "https://lh3.googleusercontent.com/a-/AAuE7mCT3Fx-iOuTA6Pj1ltySexlcUpy8kFQ-XpcfzQZ=s64",
      "userId": "16923104043717379311"
     },
     "user_tz": -420
    },
    "id": "-Y0u1zymfqTr",
    "outputId": "15d32b77-29c8-44c8-8ca0-2a0e085ec8ce"
   },
   "outputs": [
    {
     "data": {
      "image/png": "[encoded data removed]",
      "text/plain": [
       "<Figure size 1296x1080 with 7 Axes>"
      ]
     },
     "metadata": {},
     "output_type": "display_data"
    }
   ],
   "source": [
    "sb.set(style = 'darkgrid')\n",
    "plt.figure(figsize = (18, 15))\n",
    "\n",
    "for i in range(len(bankNum)):\n",
    "  plt.subplot(3, 3, i+1)\n",
    "  plt.title(bankNum[i], fontweight = 'bold')\n",
    "  bank[bankNum[i]][bank['deposit'] == 'no'].hist(bins = 10, alpha = .5)\n",
    "  bank[bankNum[i]][bank['deposit'] == 'yes'].hist(bins = 10, alpha = .5)"
   ]
  },
  {
   "cell_type": "markdown",
   "metadata": {},
   "source": [
    "## Perbandingan Data Numerik terhadap Deposit"
   ]
  },
  {
   "cell_type": "code",
   "execution_count": 13,
   "metadata": {
    "colab": {
     "base_uri": "https://localhost:8080/",
     "height": 386
    },
    "colab_type": "code",
    "executionInfo": {
     "elapsed": 766,
     "status": "ok",
     "timestamp": 1582526442548,
     "user": {
      "displayName": "Rudy Harun",
      "photoUrl": "https://lh3.googleusercontent.com/a-/AAuE7mCT3Fx-iOuTA6Pj1ltySexlcUpy8kFQ-XpcfzQZ=s64",
      "userId": "16923104043717379311"
     },
     "user_tz": -420
    },
    "id": "oAWMe3etuQGt",
    "outputId": "568d566b-9340-4dc5-fb3e-6508aae11d05"
   },
   "outputs": [
    {
     "data": {
      "text/html": [
       "<div>\n",
       "<style scoped>\n",
       "    .dataframe tbody tr th:only-of-type {\n",
       "        vertical-align: middle;\n",
       "    }\n",
       "\n",
       "    .dataframe tbody tr th {\n",
       "        vertical-align: top;\n",
       "    }\n",
       "\n",
       "    .dataframe thead th {\n",
       "        text-align: right;\n",
       "    }\n",
       "</style>\n",
       "<table border=\"1\" class=\"dataframe\">\n",
       "  <thead>\n",
       "    <tr style=\"text-align: right;\">\n",
       "      <th></th>\n",
       "      <th>Yes</th>\n",
       "      <th>No</th>\n",
       "      <th>% No</th>\n",
       "    </tr>\n",
       "    <tr>\n",
       "      <th>age</th>\n",
       "      <th></th>\n",
       "      <th></th>\n",
       "      <th></th>\n",
       "    </tr>\n",
       "  </thead>\n",
       "  <tbody>\n",
       "    <tr>\n",
       "      <th>(18, 26]</th>\n",
       "      <td>447</td>\n",
       "      <td>230</td>\n",
       "      <td>33.97</td>\n",
       "    </tr>\n",
       "    <tr>\n",
       "      <th>(26, 34]</th>\n",
       "      <td>1526</td>\n",
       "      <td>1699</td>\n",
       "      <td>52.68</td>\n",
       "    </tr>\n",
       "    <tr>\n",
       "      <th>(34, 42]</th>\n",
       "      <td>1208</td>\n",
       "      <td>1671</td>\n",
       "      <td>58.04</td>\n",
       "    </tr>\n",
       "    <tr>\n",
       "      <th>(42, 50]</th>\n",
       "      <td>788</td>\n",
       "      <td>1114</td>\n",
       "      <td>58.57</td>\n",
       "    </tr>\n",
       "    <tr>\n",
       "      <th>(50, 58]</th>\n",
       "      <td>625</td>\n",
       "      <td>882</td>\n",
       "      <td>58.53</td>\n",
       "    </tr>\n",
       "    <tr>\n",
       "      <th>(58, 66]</th>\n",
       "      <td>392</td>\n",
       "      <td>203</td>\n",
       "      <td>34.12</td>\n",
       "    </tr>\n",
       "    <tr>\n",
       "      <th>(66, 74]</th>\n",
       "      <td>164</td>\n",
       "      <td>34</td>\n",
       "      <td>17.17</td>\n",
       "    </tr>\n",
       "    <tr>\n",
       "      <th>(74, 82]</th>\n",
       "      <td>103</td>\n",
       "      <td>32</td>\n",
       "      <td>23.70</td>\n",
       "    </tr>\n",
       "    <tr>\n",
       "      <th>(82, 90]</th>\n",
       "      <td>24</td>\n",
       "      <td>7</td>\n",
       "      <td>22.58</td>\n",
       "    </tr>\n",
       "    <tr>\n",
       "      <th>(90, 98]</th>\n",
       "      <td>5</td>\n",
       "      <td>0</td>\n",
       "      <td>0.00</td>\n",
       "    </tr>\n",
       "  </tbody>\n",
       "</table>\n",
       "</div>"
      ],
      "text/plain": [
       "           Yes    No   % No\n",
       "age                        \n",
       "(18, 26]   447   230  33.97\n",
       "(26, 34]  1526  1699  52.68\n",
       "(34, 42]  1208  1671  58.04\n",
       "(42, 50]   788  1114  58.57\n",
       "(50, 58]   625   882  58.53\n",
       "(58, 66]   392   203  34.12\n",
       "(66, 74]   164    34  17.17\n",
       "(74, 82]   103    32  23.70\n",
       "(82, 90]    24     7  22.58\n",
       "(90, 98]     5     0   0.00"
      ]
     },
     "execution_count": 13,
     "metadata": {},
     "output_type": "execute_result"
    }
   ],
   "source": [
    "mx = bank['age'].max()\n",
    "mn = bank['age'].min()\n",
    "ranges = np.arange(mn, mx + round((mx-mn)/10), round((mx-mn)/10))\n",
    "\n",
    "age = pd.DataFrame()\n",
    "age['Yes'] = round(bank[bank['deposit'] == 'yes']['deposit'].groupby(pd.cut(bank[bank['deposit'] == 'yes']['age'], ranges)).count())\n",
    "age['No'] = round(bank[bank['deposit'] == 'no']['deposit'].groupby(pd.cut(bank[bank['deposit'] == 'no']['age'], ranges)).count())\n",
    "age['% No'] = round((age['No'] / (age['Yes'] + age['No']) * 100), 2)\n",
    "age"
   ]
  },
  {
   "cell_type": "code",
   "execution_count": 14,
   "metadata": {
    "colab": {
     "base_uri": "https://localhost:8080/",
     "height": 417
    },
    "colab_type": "code",
    "executionInfo": {
     "elapsed": 741,
     "status": "ok",
     "timestamp": 1582526444174,
     "user": {
      "displayName": "Rudy Harun",
      "photoUrl": "https://lh3.googleusercontent.com/a-/AAuE7mCT3Fx-iOuTA6Pj1ltySexlcUpy8kFQ-XpcfzQZ=s64",
      "userId": "16923104043717379311"
     },
     "user_tz": -420
    },
    "id": "Ah-fxE7tyNLN",
    "outputId": "f8f49c87-a396-41b3-b3f2-ebed53384d74"
   },
   "outputs": [
    {
     "data": {
      "text/html": [
       "<div>\n",
       "<style scoped>\n",
       "    .dataframe tbody tr th:only-of-type {\n",
       "        vertical-align: middle;\n",
       "    }\n",
       "\n",
       "    .dataframe tbody tr th {\n",
       "        vertical-align: top;\n",
       "    }\n",
       "\n",
       "    .dataframe thead th {\n",
       "        text-align: right;\n",
       "    }\n",
       "</style>\n",
       "<table border=\"1\" class=\"dataframe\">\n",
       "  <thead>\n",
       "    <tr style=\"text-align: right;\">\n",
       "      <th></th>\n",
       "      <th>Yes</th>\n",
       "      <th>No</th>\n",
       "      <th>% No</th>\n",
       "    </tr>\n",
       "    <tr>\n",
       "      <th>balance</th>\n",
       "      <th></th>\n",
       "      <th></th>\n",
       "      <th></th>\n",
       "    </tr>\n",
       "  </thead>\n",
       "  <tbody>\n",
       "    <tr>\n",
       "      <th>(-6847, 1958]</th>\n",
       "      <td>3848</td>\n",
       "      <td>4824</td>\n",
       "      <td>55.63</td>\n",
       "    </tr>\n",
       "    <tr>\n",
       "      <th>(1958, 10763]</th>\n",
       "      <td>1330</td>\n",
       "      <td>966</td>\n",
       "      <td>42.07</td>\n",
       "    </tr>\n",
       "    <tr>\n",
       "      <th>(10763, 19568]</th>\n",
       "      <td>82</td>\n",
       "      <td>54</td>\n",
       "      <td>39.71</td>\n",
       "    </tr>\n",
       "    <tr>\n",
       "      <th>(19568, 28373]</th>\n",
       "      <td>18</td>\n",
       "      <td>19</td>\n",
       "      <td>51.35</td>\n",
       "    </tr>\n",
       "    <tr>\n",
       "      <th>(28373, 37178]</th>\n",
       "      <td>6</td>\n",
       "      <td>6</td>\n",
       "      <td>50.00</td>\n",
       "    </tr>\n",
       "    <tr>\n",
       "      <th>(37178, 45983]</th>\n",
       "      <td>1</td>\n",
       "      <td>0</td>\n",
       "      <td>0.00</td>\n",
       "    </tr>\n",
       "    <tr>\n",
       "      <th>(45983, 54788]</th>\n",
       "      <td>2</td>\n",
       "      <td>1</td>\n",
       "      <td>33.33</td>\n",
       "    </tr>\n",
       "    <tr>\n",
       "      <th>(54788, 63593]</th>\n",
       "      <td>0</td>\n",
       "      <td>1</td>\n",
       "      <td>100.00</td>\n",
       "    </tr>\n",
       "    <tr>\n",
       "      <th>(63593, 72398]</th>\n",
       "      <td>0</td>\n",
       "      <td>1</td>\n",
       "      <td>100.00</td>\n",
       "    </tr>\n",
       "    <tr>\n",
       "      <th>(72398, 81203]</th>\n",
       "      <td>0</td>\n",
       "      <td>0</td>\n",
       "      <td>NaN</td>\n",
       "    </tr>\n",
       "    <tr>\n",
       "      <th>(81203, 90008]</th>\n",
       "      <td>2</td>\n",
       "      <td>0</td>\n",
       "      <td>0.00</td>\n",
       "    </tr>\n",
       "  </tbody>\n",
       "</table>\n",
       "</div>"
      ],
      "text/plain": [
       "                 Yes    No    % No\n",
       "balance                           \n",
       "(-6847, 1958]   3848  4824   55.63\n",
       "(1958, 10763]   1330   966   42.07\n",
       "(10763, 19568]    82    54   39.71\n",
       "(19568, 28373]    18    19   51.35\n",
       "(28373, 37178]     6     6   50.00\n",
       "(37178, 45983]     1     0    0.00\n",
       "(45983, 54788]     2     1   33.33\n",
       "(54788, 63593]     0     1  100.00\n",
       "(63593, 72398]     0     1  100.00\n",
       "(72398, 81203]     0     0     NaN\n",
       "(81203, 90008]     2     0    0.00"
      ]
     },
     "execution_count": 14,
     "metadata": {},
     "output_type": "execute_result"
    }
   ],
   "source": [
    "mx = bank['balance'].max()\n",
    "mn = bank['balance'].min()\n",
    "ranges = np.arange(mn, mx + round((mx-mn)/10), round((mx-mn)/10))\n",
    "\n",
    "bal = pd.DataFrame()\n",
    "bal['Yes'] = round(bank[bank['deposit'] == 'yes']['deposit'].groupby(pd.cut(bank[bank['deposit'] == 'yes']['balance'], ranges)).count())\n",
    "bal['No'] = round(bank[bank['deposit'] == 'no']['deposit'].groupby(pd.cut(bank[bank['deposit'] == 'no']['balance'], ranges)).count())\n",
    "bal['% No'] = round((bal['No'] / (bal['Yes'] + bal['No']) * 100), 2)\n",
    "bal"
   ]
  },
  {
   "cell_type": "code",
   "execution_count": 15,
   "metadata": {
    "colab": {
     "base_uri": "https://localhost:8080/",
     "height": 386
    },
    "colab_type": "code",
    "executionInfo": {
     "elapsed": 750,
     "status": "ok",
     "timestamp": 1582526446568,
     "user": {
      "displayName": "Rudy Harun",
      "photoUrl": "https://lh3.googleusercontent.com/a-/AAuE7mCT3Fx-iOuTA6Pj1ltySexlcUpy8kFQ-XpcfzQZ=s64",
      "userId": "16923104043717379311"
     },
     "user_tz": -420
    },
    "id": "fWi4Uq5LyOUX",
    "outputId": "f06e64e4-0bf1-4c9a-cc0b-2f8ccc61dd5d"
   },
   "outputs": [
    {
     "data": {
      "text/html": [
       "<div>\n",
       "<style scoped>\n",
       "    .dataframe tbody tr th:only-of-type {\n",
       "        vertical-align: middle;\n",
       "    }\n",
       "\n",
       "    .dataframe tbody tr th {\n",
       "        vertical-align: top;\n",
       "    }\n",
       "\n",
       "    .dataframe thead th {\n",
       "        text-align: right;\n",
       "    }\n",
       "</style>\n",
       "<table border=\"1\" class=\"dataframe\">\n",
       "  <thead>\n",
       "    <tr style=\"text-align: right;\">\n",
       "      <th></th>\n",
       "      <th>Yes</th>\n",
       "      <th>No</th>\n",
       "      <th>% No</th>\n",
       "    </tr>\n",
       "    <tr>\n",
       "      <th>day</th>\n",
       "      <th></th>\n",
       "      <th></th>\n",
       "      <th></th>\n",
       "    </tr>\n",
       "  </thead>\n",
       "  <tbody>\n",
       "    <tr>\n",
       "      <th>(1, 4]</th>\n",
       "      <td>590</td>\n",
       "      <td>452</td>\n",
       "      <td>43.38</td>\n",
       "    </tr>\n",
       "    <tr>\n",
       "      <th>(4, 7]</th>\n",
       "      <td>553</td>\n",
       "      <td>753</td>\n",
       "      <td>57.66</td>\n",
       "    </tr>\n",
       "    <tr>\n",
       "      <th>(7, 10]</th>\n",
       "      <td>501</td>\n",
       "      <td>445</td>\n",
       "      <td>47.04</td>\n",
       "    </tr>\n",
       "    <tr>\n",
       "      <th>(10, 13]</th>\n",
       "      <td>666</td>\n",
       "      <td>605</td>\n",
       "      <td>47.60</td>\n",
       "    </tr>\n",
       "    <tr>\n",
       "      <th>(13, 16]</th>\n",
       "      <td>640</td>\n",
       "      <td>658</td>\n",
       "      <td>50.69</td>\n",
       "    </tr>\n",
       "    <tr>\n",
       "      <th>(16, 19]</th>\n",
       "      <td>526</td>\n",
       "      <td>817</td>\n",
       "      <td>60.83</td>\n",
       "    </tr>\n",
       "    <tr>\n",
       "      <th>(19, 22]</th>\n",
       "      <td>547</td>\n",
       "      <td>744</td>\n",
       "      <td>57.63</td>\n",
       "    </tr>\n",
       "    <tr>\n",
       "      <th>(22, 25]</th>\n",
       "      <td>321</td>\n",
       "      <td>270</td>\n",
       "      <td>45.69</td>\n",
       "    </tr>\n",
       "    <tr>\n",
       "      <th>(25, 28]</th>\n",
       "      <td>409</td>\n",
       "      <td>537</td>\n",
       "      <td>56.77</td>\n",
       "    </tr>\n",
       "    <tr>\n",
       "      <th>(28, 31]</th>\n",
       "      <td>446</td>\n",
       "      <td>560</td>\n",
       "      <td>55.67</td>\n",
       "    </tr>\n",
       "  </tbody>\n",
       "</table>\n",
       "</div>"
      ],
      "text/plain": [
       "          Yes   No   % No\n",
       "day                      \n",
       "(1, 4]    590  452  43.38\n",
       "(4, 7]    553  753  57.66\n",
       "(7, 10]   501  445  47.04\n",
       "(10, 13]  666  605  47.60\n",
       "(13, 16]  640  658  50.69\n",
       "(16, 19]  526  817  60.83\n",
       "(19, 22]  547  744  57.63\n",
       "(22, 25]  321  270  45.69\n",
       "(25, 28]  409  537  56.77\n",
       "(28, 31]  446  560  55.67"
      ]
     },
     "execution_count": 15,
     "metadata": {},
     "output_type": "execute_result"
    }
   ],
   "source": [
    "mx = bank['day'].max()\n",
    "mn = bank['day'].min()\n",
    "ranges = np.arange(mn, mx + round((mx-mn)/10), round((mx-mn)/10))\n",
    "\n",
    "day = pd.DataFrame()\n",
    "day['Yes'] = round(bank[bank['deposit'] == 'yes']['deposit'].groupby(pd.cut(bank[bank['deposit'] == 'yes']['day'], ranges)).count())\n",
    "day['No'] = round(bank[bank['deposit'] == 'no']['deposit'].groupby(pd.cut(bank[bank['deposit'] == 'no']['day'], ranges)).count())\n",
    "day['% No'] = round((day['No'] / (day['Yes'] + day['No']) * 100), 2)\n",
    "day"
   ]
  },
  {
   "cell_type": "markdown",
   "metadata": {},
   "source": [
    "Data day adalah hari terakhir dalam bulan, konsumen tersebut dihubungi, sama dengan penanggalan dalam 1 bulan, maka dari itu tidak ada outliers, dari dataframe di atas, persentase per 10 hari memperlihatkan rata2 yang kurang lebih sama, sehingga features Day tidak memberikan dampak yang signifikan"
   ]
  },
  {
   "cell_type": "code",
   "execution_count": 16,
   "metadata": {
    "colab": {
     "base_uri": "https://localhost:8080/",
     "height": 386
    },
    "colab_type": "code",
    "executionInfo": {
     "elapsed": 880,
     "status": "ok",
     "timestamp": 1582526459056,
     "user": {
      "displayName": "Rudy Harun",
      "photoUrl": "https://lh3.googleusercontent.com/a-/AAuE7mCT3Fx-iOuTA6Pj1ltySexlcUpy8kFQ-XpcfzQZ=s64",
      "userId": "16923104043717379311"
     },
     "user_tz": -420
    },
    "id": "Gr2_jYXAyOkK",
    "outputId": "213cd74f-d476-44dc-85d5-379e76d0e2ec"
   },
   "outputs": [
    {
     "data": {
      "text/html": [
       "<div>\n",
       "<style scoped>\n",
       "    .dataframe tbody tr th:only-of-type {\n",
       "        vertical-align: middle;\n",
       "    }\n",
       "\n",
       "    .dataframe tbody tr th {\n",
       "        vertical-align: top;\n",
       "    }\n",
       "\n",
       "    .dataframe thead th {\n",
       "        text-align: right;\n",
       "    }\n",
       "</style>\n",
       "<table border=\"1\" class=\"dataframe\">\n",
       "  <thead>\n",
       "    <tr style=\"text-align: right;\">\n",
       "      <th></th>\n",
       "      <th>Yes</th>\n",
       "      <th>No</th>\n",
       "      <th>% No</th>\n",
       "    </tr>\n",
       "    <tr>\n",
       "      <th>duration</th>\n",
       "      <th></th>\n",
       "      <th></th>\n",
       "      <th></th>\n",
       "    </tr>\n",
       "  </thead>\n",
       "  <tbody>\n",
       "    <tr>\n",
       "      <th>(2, 390]</th>\n",
       "      <td>2429</td>\n",
       "      <td>5081</td>\n",
       "      <td>67.66</td>\n",
       "    </tr>\n",
       "    <tr>\n",
       "      <th>(390, 778]</th>\n",
       "      <td>1704</td>\n",
       "      <td>640</td>\n",
       "      <td>27.30</td>\n",
       "    </tr>\n",
       "    <tr>\n",
       "      <th>(778, 1166]</th>\n",
       "      <td>777</td>\n",
       "      <td>112</td>\n",
       "      <td>12.60</td>\n",
       "    </tr>\n",
       "    <tr>\n",
       "      <th>(1166, 1554]</th>\n",
       "      <td>262</td>\n",
       "      <td>31</td>\n",
       "      <td>10.58</td>\n",
       "    </tr>\n",
       "    <tr>\n",
       "      <th>(1554, 1942]</th>\n",
       "      <td>78</td>\n",
       "      <td>5</td>\n",
       "      <td>6.02</td>\n",
       "    </tr>\n",
       "    <tr>\n",
       "      <th>(1942, 2330]</th>\n",
       "      <td>22</td>\n",
       "      <td>2</td>\n",
       "      <td>8.33</td>\n",
       "    </tr>\n",
       "    <tr>\n",
       "      <th>(2330, 2718]</th>\n",
       "      <td>8</td>\n",
       "      <td>0</td>\n",
       "      <td>0.00</td>\n",
       "    </tr>\n",
       "    <tr>\n",
       "      <th>(2718, 3106]</th>\n",
       "      <td>6</td>\n",
       "      <td>0</td>\n",
       "      <td>0.00</td>\n",
       "    </tr>\n",
       "    <tr>\n",
       "      <th>(3106, 3494]</th>\n",
       "      <td>2</td>\n",
       "      <td>1</td>\n",
       "      <td>33.33</td>\n",
       "    </tr>\n",
       "    <tr>\n",
       "      <th>(3494, 3882]</th>\n",
       "      <td>1</td>\n",
       "      <td>0</td>\n",
       "      <td>0.00</td>\n",
       "    </tr>\n",
       "  </tbody>\n",
       "</table>\n",
       "</div>"
      ],
      "text/plain": [
       "               Yes    No   % No\n",
       "duration                       \n",
       "(2, 390]      2429  5081  67.66\n",
       "(390, 778]    1704   640  27.30\n",
       "(778, 1166]    777   112  12.60\n",
       "(1166, 1554]   262    31  10.58\n",
       "(1554, 1942]    78     5   6.02\n",
       "(1942, 2330]    22     2   8.33\n",
       "(2330, 2718]     8     0   0.00\n",
       "(2718, 3106]     6     0   0.00\n",
       "(3106, 3494]     2     1  33.33\n",
       "(3494, 3882]     1     0   0.00"
      ]
     },
     "execution_count": 16,
     "metadata": {},
     "output_type": "execute_result"
    }
   ],
   "source": [
    "mx = bank['duration'].max()\n",
    "mn = bank['duration'].min()\n",
    "ranges = np.arange(mn, mx + round((mx-mn)/10), round((mx-mn)/10))\n",
    "\n",
    "dur = pd.DataFrame()\n",
    "dur['Yes'] = round(bank[bank['deposit'] == 'yes']['deposit'].groupby(pd.cut(bank[bank['deposit'] == 'yes']['duration'], ranges)).count())\n",
    "dur['No'] = round(bank[bank['deposit'] == 'no']['deposit'].groupby(pd.cut(bank[bank['deposit'] == 'no']['duration'], ranges)).count())\n",
    "dur['% No'] = round((dur['No'] / (dur['Yes'] + dur['No']) * 100), 2)\n",
    "dur"
   ]
  },
  {
   "cell_type": "markdown",
   "metadata": {},
   "source": [
    "Duration adalah data kontak untuk konsumen tersebut, dalam satuan detik"
   ]
  },
  {
   "cell_type": "code",
   "execution_count": 17,
   "metadata": {
    "colab": {
     "base_uri": "https://localhost:8080/",
     "height": 417
    },
    "colab_type": "code",
    "executionInfo": {
     "elapsed": 645,
     "status": "ok",
     "timestamp": 1582526460208,
     "user": {
      "displayName": "Rudy Harun",
      "photoUrl": "https://lh3.googleusercontent.com/a-/AAuE7mCT3Fx-iOuTA6Pj1ltySexlcUpy8kFQ-XpcfzQZ=s64",
      "userId": "16923104043717379311"
     },
     "user_tz": -420
    },
    "id": "BevHMAIsyO8N",
    "outputId": "d58ef704-e580-4017-8cb3-e48829fbac3b"
   },
   "outputs": [
    {
     "data": {
      "text/html": [
       "<div>\n",
       "<style scoped>\n",
       "    .dataframe tbody tr th:only-of-type {\n",
       "        vertical-align: middle;\n",
       "    }\n",
       "\n",
       "    .dataframe tbody tr th {\n",
       "        vertical-align: top;\n",
       "    }\n",
       "\n",
       "    .dataframe thead th {\n",
       "        text-align: right;\n",
       "    }\n",
       "</style>\n",
       "<table border=\"1\" class=\"dataframe\">\n",
       "  <thead>\n",
       "    <tr style=\"text-align: right;\">\n",
       "      <th></th>\n",
       "      <th>Yes</th>\n",
       "      <th>No</th>\n",
       "      <th>% No</th>\n",
       "    </tr>\n",
       "    <tr>\n",
       "      <th>campaign</th>\n",
       "      <th></th>\n",
       "      <th></th>\n",
       "      <th></th>\n",
       "    </tr>\n",
       "  </thead>\n",
       "  <tbody>\n",
       "    <tr>\n",
       "      <th>(1, 7]</th>\n",
       "      <td>2614</td>\n",
       "      <td>3288</td>\n",
       "      <td>55.71</td>\n",
       "    </tr>\n",
       "    <tr>\n",
       "      <th>(7, 13]</th>\n",
       "      <td>93</td>\n",
       "      <td>258</td>\n",
       "      <td>73.50</td>\n",
       "    </tr>\n",
       "    <tr>\n",
       "      <th>(13, 19]</th>\n",
       "      <td>16</td>\n",
       "      <td>48</td>\n",
       "      <td>75.00</td>\n",
       "    </tr>\n",
       "    <tr>\n",
       "      <th>(19, 25]</th>\n",
       "      <td>3</td>\n",
       "      <td>25</td>\n",
       "      <td>89.29</td>\n",
       "    </tr>\n",
       "    <tr>\n",
       "      <th>(25, 31]</th>\n",
       "      <td>1</td>\n",
       "      <td>11</td>\n",
       "      <td>91.67</td>\n",
       "    </tr>\n",
       "    <tr>\n",
       "      <th>(31, 37]</th>\n",
       "      <td>1</td>\n",
       "      <td>2</td>\n",
       "      <td>66.67</td>\n",
       "    </tr>\n",
       "    <tr>\n",
       "      <th>(37, 43]</th>\n",
       "      <td>0</td>\n",
       "      <td>3</td>\n",
       "      <td>100.00</td>\n",
       "    </tr>\n",
       "    <tr>\n",
       "      <th>(43, 49]</th>\n",
       "      <td>0</td>\n",
       "      <td>0</td>\n",
       "      <td>NaN</td>\n",
       "    </tr>\n",
       "    <tr>\n",
       "      <th>(49, 55]</th>\n",
       "      <td>0</td>\n",
       "      <td>0</td>\n",
       "      <td>NaN</td>\n",
       "    </tr>\n",
       "    <tr>\n",
       "      <th>(55, 61]</th>\n",
       "      <td>0</td>\n",
       "      <td>0</td>\n",
       "      <td>NaN</td>\n",
       "    </tr>\n",
       "    <tr>\n",
       "      <th>(61, 67]</th>\n",
       "      <td>0</td>\n",
       "      <td>1</td>\n",
       "      <td>100.00</td>\n",
       "    </tr>\n",
       "  </tbody>\n",
       "</table>\n",
       "</div>"
      ],
      "text/plain": [
       "           Yes    No    % No\n",
       "campaign                    \n",
       "(1, 7]    2614  3288   55.71\n",
       "(7, 13]     93   258   73.50\n",
       "(13, 19]    16    48   75.00\n",
       "(19, 25]     3    25   89.29\n",
       "(25, 31]     1    11   91.67\n",
       "(31, 37]     1     2   66.67\n",
       "(37, 43]     0     3  100.00\n",
       "(43, 49]     0     0     NaN\n",
       "(49, 55]     0     0     NaN\n",
       "(55, 61]     0     0     NaN\n",
       "(61, 67]     0     1  100.00"
      ]
     },
     "execution_count": 17,
     "metadata": {},
     "output_type": "execute_result"
    }
   ],
   "source": [
    "mx = bank['campaign'].max()\n",
    "mn = bank['campaign'].min()\n",
    "ranges = np.arange(mn, mx + round((mx-mn)/10), round((mx-mn)/10))\n",
    "\n",
    "camp = pd.DataFrame()\n",
    "camp['Yes'] = round(bank[bank['deposit'] == 'yes']['deposit'].groupby(pd.cut(bank[bank['deposit'] == 'yes']['campaign'], ranges)).count())\n",
    "camp['No'] = round(bank[bank['deposit'] == 'no']['deposit'].groupby(pd.cut(bank[bank['deposit'] == 'no']['campaign'], ranges)).count())\n",
    "camp['% No'] = round((camp['No'] / (camp['Yes'] + camp['No']) * 100), 2)\n",
    "camp"
   ]
  },
  {
   "cell_type": "markdown",
   "metadata": {},
   "source": [
    "Campaign adalah berapa banyak kontak dilakukan kepada konsumen tersebut, pada kampanye kali ini"
   ]
  },
  {
   "cell_type": "code",
   "execution_count": 18,
   "metadata": {
    "colab": {
     "base_uri": "https://localhost:8080/",
     "height": 386
    },
    "colab_type": "code",
    "executionInfo": {
     "elapsed": 887,
     "status": "ok",
     "timestamp": 1582526461624,
     "user": {
      "displayName": "Rudy Harun",
      "photoUrl": "https://lh3.googleusercontent.com/a-/AAuE7mCT3Fx-iOuTA6Pj1ltySexlcUpy8kFQ-XpcfzQZ=s64",
      "userId": "16923104043717379311"
     },
     "user_tz": -420
    },
    "id": "RuchraweyPxy",
    "outputId": "6f03202d-1d44-4c21-b2dd-f970e42690c6"
   },
   "outputs": [
    {
     "data": {
      "text/html": [
       "<div>\n",
       "<style scoped>\n",
       "    .dataframe tbody tr th:only-of-type {\n",
       "        vertical-align: middle;\n",
       "    }\n",
       "\n",
       "    .dataframe tbody tr th {\n",
       "        vertical-align: top;\n",
       "    }\n",
       "\n",
       "    .dataframe thead th {\n",
       "        text-align: right;\n",
       "    }\n",
       "</style>\n",
       "<table border=\"1\" class=\"dataframe\">\n",
       "  <thead>\n",
       "    <tr style=\"text-align: right;\">\n",
       "      <th></th>\n",
       "      <th>Yes</th>\n",
       "      <th>No</th>\n",
       "      <th>% No</th>\n",
       "    </tr>\n",
       "    <tr>\n",
       "      <th>pdays</th>\n",
       "      <th></th>\n",
       "      <th></th>\n",
       "      <th></th>\n",
       "    </tr>\n",
       "  </thead>\n",
       "  <tbody>\n",
       "    <tr>\n",
       "      <th>(-1, 85]</th>\n",
       "      <td>151</td>\n",
       "      <td>62</td>\n",
       "      <td>29.11</td>\n",
       "    </tr>\n",
       "    <tr>\n",
       "      <th>(85, 171]</th>\n",
       "      <td>703</td>\n",
       "      <td>239</td>\n",
       "      <td>25.37</td>\n",
       "    </tr>\n",
       "    <tr>\n",
       "      <th>(171, 257]</th>\n",
       "      <td>588</td>\n",
       "      <td>229</td>\n",
       "      <td>28.03</td>\n",
       "    </tr>\n",
       "    <tr>\n",
       "      <th>(257, 343]</th>\n",
       "      <td>206</td>\n",
       "      <td>218</td>\n",
       "      <td>51.42</td>\n",
       "    </tr>\n",
       "    <tr>\n",
       "      <th>(343, 429]</th>\n",
       "      <td>166</td>\n",
       "      <td>169</td>\n",
       "      <td>50.45</td>\n",
       "    </tr>\n",
       "    <tr>\n",
       "      <th>(429, 515]</th>\n",
       "      <td>51</td>\n",
       "      <td>5</td>\n",
       "      <td>8.93</td>\n",
       "    </tr>\n",
       "    <tr>\n",
       "      <th>(515, 601]</th>\n",
       "      <td>21</td>\n",
       "      <td>3</td>\n",
       "      <td>12.50</td>\n",
       "    </tr>\n",
       "    <tr>\n",
       "      <th>(601, 687]</th>\n",
       "      <td>5</td>\n",
       "      <td>1</td>\n",
       "      <td>16.67</td>\n",
       "    </tr>\n",
       "    <tr>\n",
       "      <th>(687, 773]</th>\n",
       "      <td>5</td>\n",
       "      <td>4</td>\n",
       "      <td>44.44</td>\n",
       "    </tr>\n",
       "    <tr>\n",
       "      <th>(773, 859]</th>\n",
       "      <td>9</td>\n",
       "      <td>3</td>\n",
       "      <td>25.00</td>\n",
       "    </tr>\n",
       "  </tbody>\n",
       "</table>\n",
       "</div>"
      ],
      "text/plain": [
       "            Yes   No   % No\n",
       "pdays                      \n",
       "(-1, 85]    151   62  29.11\n",
       "(85, 171]   703  239  25.37\n",
       "(171, 257]  588  229  28.03\n",
       "(257, 343]  206  218  51.42\n",
       "(343, 429]  166  169  50.45\n",
       "(429, 515]   51    5   8.93\n",
       "(515, 601]   21    3  12.50\n",
       "(601, 687]    5    1  16.67\n",
       "(687, 773]    5    4  44.44\n",
       "(773, 859]    9    3  25.00"
      ]
     },
     "execution_count": 18,
     "metadata": {},
     "output_type": "execute_result"
    }
   ],
   "source": [
    "mx = bank['pdays'].max()\n",
    "mn = bank['pdays'].min()\n",
    "ranges = np.arange(mn, mx + round((mx-mn)/10), round((mx-mn)/10))\n",
    "\n",
    "pday = pd.DataFrame()\n",
    "pday['Yes'] = round(bank[bank['deposit'] == 'yes']['deposit'].groupby(pd.cut(bank[bank['deposit'] == 'yes']['pdays'], ranges)).count())\n",
    "pday['No'] = round(bank[bank['deposit'] == 'no']['deposit'].groupby(pd.cut(bank[bank['deposit'] == 'no']['pdays'], ranges)).count())\n",
    "pday['% No'] = round((pday['No'] / (pday['Yes'] + pday['No']) * 100), 2)\n",
    "pday"
   ]
  },
  {
   "cell_type": "markdown",
   "metadata": {},
   "source": [
    "Pdays adalah jumlah hari yang sudah terlewat, setelah kampanye terakhir, namun ada nilai -1 yang agak membingungkan"
   ]
  },
  {
   "cell_type": "code",
   "execution_count": 19,
   "metadata": {
    "colab": {
     "base_uri": "https://localhost:8080/",
     "height": 386
    },
    "colab_type": "code",
    "executionInfo": {
     "elapsed": 1116,
     "status": "ok",
     "timestamp": 1582526467873,
     "user": {
      "displayName": "Rudy Harun",
      "photoUrl": "https://lh3.googleusercontent.com/a-/AAuE7mCT3Fx-iOuTA6Pj1ltySexlcUpy8kFQ-XpcfzQZ=s64",
      "userId": "16923104043717379311"
     },
     "user_tz": -420
    },
    "id": "cEyEpecQyP8a",
    "outputId": "5fb97a7c-068d-444f-f2a3-28a09cbfee16"
   },
   "outputs": [
    {
     "data": {
      "text/html": [
       "<div>\n",
       "<style scoped>\n",
       "    .dataframe tbody tr th:only-of-type {\n",
       "        vertical-align: middle;\n",
       "    }\n",
       "\n",
       "    .dataframe tbody tr th {\n",
       "        vertical-align: top;\n",
       "    }\n",
       "\n",
       "    .dataframe thead th {\n",
       "        text-align: right;\n",
       "    }\n",
       "</style>\n",
       "<table border=\"1\" class=\"dataframe\">\n",
       "  <thead>\n",
       "    <tr style=\"text-align: right;\">\n",
       "      <th></th>\n",
       "      <th>Yes</th>\n",
       "      <th>No</th>\n",
       "      <th>% No</th>\n",
       "    </tr>\n",
       "    <tr>\n",
       "      <th>previous</th>\n",
       "      <th></th>\n",
       "      <th></th>\n",
       "      <th></th>\n",
       "    </tr>\n",
       "  </thead>\n",
       "  <tbody>\n",
       "    <tr>\n",
       "      <th>(0, 6]</th>\n",
       "      <td>1708</td>\n",
       "      <td>833</td>\n",
       "      <td>32.78</td>\n",
       "    </tr>\n",
       "    <tr>\n",
       "      <th>(6, 12]</th>\n",
       "      <td>168</td>\n",
       "      <td>72</td>\n",
       "      <td>30.00</td>\n",
       "    </tr>\n",
       "    <tr>\n",
       "      <th>(12, 18]</th>\n",
       "      <td>18</td>\n",
       "      <td>18</td>\n",
       "      <td>50.00</td>\n",
       "    </tr>\n",
       "    <tr>\n",
       "      <th>(18, 24]</th>\n",
       "      <td>6</td>\n",
       "      <td>4</td>\n",
       "      <td>40.00</td>\n",
       "    </tr>\n",
       "    <tr>\n",
       "      <th>(24, 30]</th>\n",
       "      <td>3</td>\n",
       "      <td>3</td>\n",
       "      <td>50.00</td>\n",
       "    </tr>\n",
       "    <tr>\n",
       "      <th>(30, 36]</th>\n",
       "      <td>0</td>\n",
       "      <td>0</td>\n",
       "      <td>NaN</td>\n",
       "    </tr>\n",
       "    <tr>\n",
       "      <th>(36, 42]</th>\n",
       "      <td>0</td>\n",
       "      <td>3</td>\n",
       "      <td>100.00</td>\n",
       "    </tr>\n",
       "    <tr>\n",
       "      <th>(42, 48]</th>\n",
       "      <td>0</td>\n",
       "      <td>0</td>\n",
       "      <td>NaN</td>\n",
       "    </tr>\n",
       "    <tr>\n",
       "      <th>(48, 54]</th>\n",
       "      <td>0</td>\n",
       "      <td>0</td>\n",
       "      <td>NaN</td>\n",
       "    </tr>\n",
       "    <tr>\n",
       "      <th>(54, 60]</th>\n",
       "      <td>2</td>\n",
       "      <td>0</td>\n",
       "      <td>0.00</td>\n",
       "    </tr>\n",
       "  </tbody>\n",
       "</table>\n",
       "</div>"
      ],
      "text/plain": [
       "           Yes   No    % No\n",
       "previous                   \n",
       "(0, 6]    1708  833   32.78\n",
       "(6, 12]    168   72   30.00\n",
       "(12, 18]    18   18   50.00\n",
       "(18, 24]     6    4   40.00\n",
       "(24, 30]     3    3   50.00\n",
       "(30, 36]     0    0     NaN\n",
       "(36, 42]     0    3  100.00\n",
       "(42, 48]     0    0     NaN\n",
       "(48, 54]     0    0     NaN\n",
       "(54, 60]     2    0    0.00"
      ]
     },
     "execution_count": 19,
     "metadata": {},
     "output_type": "execute_result"
    }
   ],
   "source": [
    "mx = bank['previous'].max()\n",
    "mn = bank['previous'].min()\n",
    "ranges = np.arange(mn, mx + round((mx-mn)/10), round((mx-mn)/10))\n",
    "\n",
    "prev = pd.DataFrame()\n",
    "prev['Yes'] = round(bank[bank['deposit'] == 'yes']['deposit'].groupby(pd.cut(bank[bank['deposit'] == 'yes']['previous'], ranges)).count())\n",
    "prev['No'] = round(bank[bank['deposit'] == 'no']['deposit'].groupby(pd.cut(bank[bank['deposit'] == 'no']['previous'], ranges)).count())\n",
    "prev['% No'] = round((prev['No'] / (prev['Yes'] + prev['No']) * 100), 2)\n",
    "prev"
   ]
  },
  {
   "cell_type": "markdown",
   "metadata": {},
   "source": [
    "Previous adalah berapa banyak kontak dilakukan kepada konsumen tersebut, pada kampanye sebelumnya"
   ]
  },
  {
   "cell_type": "markdown",
   "metadata": {},
   "source": [
    "## Cek Outliers"
   ]
  },
  {
   "cell_type": "code",
   "execution_count": 20,
   "metadata": {
    "colab": {
     "base_uri": "https://localhost:8080/",
     "height": 866
    },
    "colab_type": "code",
    "executionInfo": {
     "elapsed": 2142,
     "status": "ok",
     "timestamp": 1582526470813,
     "user": {
      "displayName": "Rudy Harun",
      "photoUrl": "https://lh3.googleusercontent.com/a-/AAuE7mCT3Fx-iOuTA6Pj1ltySexlcUpy8kFQ-XpcfzQZ=s64",
      "userId": "16923104043717379311"
     },
     "user_tz": -420
    },
    "id": "KZBvgaAviyEC",
    "outputId": "76466837-d2c7-4e2d-c5e5-456ba718b66b"
   },
   "outputs": [
    {
     "data": {
      "image/png": "[encoded data removed]",
      "text/plain": [
       "<Figure size 1296x1080 with 7 Axes>"
      ]
     },
     "metadata": {},
     "output_type": "display_data"
    }
   ],
   "source": [
    "plt.figure(figsize = (18, 15))\n",
    "for i in range(len(bankNum)):\n",
    "  plt.subplot(3, 3, i+1)\n",
    "  bank.boxplot(column = [bankNum[i]])"
   ]
  },
  {
   "cell_type": "code",
   "execution_count": 21,
   "metadata": {
    "colab": {
     "base_uri": "https://localhost:8080/",
     "height": 263
    },
    "colab_type": "code",
    "executionInfo": {
     "elapsed": 778,
     "status": "ok",
     "timestamp": 1582526480666,
     "user": {
      "displayName": "Rudy Harun",
      "photoUrl": "https://lh3.googleusercontent.com/a-/AAuE7mCT3Fx-iOuTA6Pj1ltySexlcUpy8kFQ-XpcfzQZ=s64",
      "userId": "16923104043717379311"
     },
     "user_tz": -420
    },
    "id": "6TxRbi_vlxfk",
    "outputId": "23e87dca-7148-4543-a8d3-1f0d0d2ad67f"
   },
   "outputs": [
    {
     "data": {
      "text/html": [
       "<div>\n",
       "<style scoped>\n",
       "    .dataframe tbody tr th:only-of-type {\n",
       "        vertical-align: middle;\n",
       "    }\n",
       "\n",
       "    .dataframe tbody tr th {\n",
       "        vertical-align: top;\n",
       "    }\n",
       "\n",
       "    .dataframe thead th {\n",
       "        text-align: right;\n",
       "    }\n",
       "</style>\n",
       "<table border=\"1\" class=\"dataframe\">\n",
       "  <thead>\n",
       "    <tr style=\"text-align: right;\">\n",
       "      <th></th>\n",
       "      <th>count</th>\n",
       "      <th>mean</th>\n",
       "      <th>std</th>\n",
       "      <th>min</th>\n",
       "      <th>25%</th>\n",
       "      <th>50%</th>\n",
       "      <th>75%</th>\n",
       "      <th>max</th>\n",
       "    </tr>\n",
       "  </thead>\n",
       "  <tbody>\n",
       "    <tr>\n",
       "      <th>age</th>\n",
       "      <td>11162.0</td>\n",
       "      <td>41.231948</td>\n",
       "      <td>11.913369</td>\n",
       "      <td>18.0</td>\n",
       "      <td>32.0</td>\n",
       "      <td>39.0</td>\n",
       "      <td>49.00</td>\n",
       "      <td>95.0</td>\n",
       "    </tr>\n",
       "    <tr>\n",
       "      <th>balance</th>\n",
       "      <td>11162.0</td>\n",
       "      <td>1528.538524</td>\n",
       "      <td>3225.413326</td>\n",
       "      <td>-6847.0</td>\n",
       "      <td>122.0</td>\n",
       "      <td>550.0</td>\n",
       "      <td>1708.00</td>\n",
       "      <td>81204.0</td>\n",
       "    </tr>\n",
       "    <tr>\n",
       "      <th>day</th>\n",
       "      <td>11162.0</td>\n",
       "      <td>15.658036</td>\n",
       "      <td>8.420740</td>\n",
       "      <td>1.0</td>\n",
       "      <td>8.0</td>\n",
       "      <td>15.0</td>\n",
       "      <td>22.00</td>\n",
       "      <td>31.0</td>\n",
       "    </tr>\n",
       "    <tr>\n",
       "      <th>duration</th>\n",
       "      <td>11162.0</td>\n",
       "      <td>371.993818</td>\n",
       "      <td>347.128386</td>\n",
       "      <td>2.0</td>\n",
       "      <td>138.0</td>\n",
       "      <td>255.0</td>\n",
       "      <td>496.00</td>\n",
       "      <td>3881.0</td>\n",
       "    </tr>\n",
       "    <tr>\n",
       "      <th>campaign</th>\n",
       "      <td>11162.0</td>\n",
       "      <td>2.508421</td>\n",
       "      <td>2.722077</td>\n",
       "      <td>1.0</td>\n",
       "      <td>1.0</td>\n",
       "      <td>2.0</td>\n",
       "      <td>3.00</td>\n",
       "      <td>63.0</td>\n",
       "    </tr>\n",
       "    <tr>\n",
       "      <th>pdays</th>\n",
       "      <td>11162.0</td>\n",
       "      <td>51.330407</td>\n",
       "      <td>108.758282</td>\n",
       "      <td>-1.0</td>\n",
       "      <td>-1.0</td>\n",
       "      <td>-1.0</td>\n",
       "      <td>20.75</td>\n",
       "      <td>854.0</td>\n",
       "    </tr>\n",
       "    <tr>\n",
       "      <th>previous</th>\n",
       "      <td>11162.0</td>\n",
       "      <td>0.832557</td>\n",
       "      <td>2.292007</td>\n",
       "      <td>0.0</td>\n",
       "      <td>0.0</td>\n",
       "      <td>0.0</td>\n",
       "      <td>1.00</td>\n",
       "      <td>58.0</td>\n",
       "    </tr>\n",
       "  </tbody>\n",
       "</table>\n",
       "</div>"
      ],
      "text/plain": [
       "            count         mean          std     min    25%    50%      75%  \\\n",
       "age       11162.0    41.231948    11.913369    18.0   32.0   39.0    49.00   \n",
       "balance   11162.0  1528.538524  3225.413326 -6847.0  122.0  550.0  1708.00   \n",
       "day       11162.0    15.658036     8.420740     1.0    8.0   15.0    22.00   \n",
       "duration  11162.0   371.993818   347.128386     2.0  138.0  255.0   496.00   \n",
       "campaign  11162.0     2.508421     2.722077     1.0    1.0    2.0     3.00   \n",
       "pdays     11162.0    51.330407   108.758282    -1.0   -1.0   -1.0    20.75   \n",
       "previous  11162.0     0.832557     2.292007     0.0    0.0    0.0     1.00   \n",
       "\n",
       "              max  \n",
       "age          95.0  \n",
       "balance   81204.0  \n",
       "day          31.0  \n",
       "duration   3881.0  \n",
       "campaign     63.0  \n",
       "pdays       854.0  \n",
       "previous     58.0  "
      ]
     },
     "execution_count": 21,
     "metadata": {},
     "output_type": "execute_result"
    }
   ],
   "source": [
    "bank.describe().T"
   ]
  },
  {
   "cell_type": "markdown",
   "metadata": {},
   "source": [
    "Jumlah dan persentase outlier dari dataset"
   ]
  },
  {
   "cell_type": "code",
   "execution_count": 22,
   "metadata": {
    "colab": {
     "base_uri": "https://localhost:8080/",
     "height": 171
    },
    "colab_type": "code",
    "executionInfo": {
     "elapsed": 939,
     "status": "ok",
     "timestamp": 1582526482237,
     "user": {
      "displayName": "Rudy Harun",
      "photoUrl": "https://lh3.googleusercontent.com/a-/AAuE7mCT3Fx-iOuTA6Pj1ltySexlcUpy8kFQ-XpcfzQZ=s64",
      "userId": "16923104043717379311"
     },
     "user_tz": -420
    },
    "id": "gTis98Op2v_T",
    "outputId": "7285f4a4-d201-47ed-d5bf-24a25f770334"
   },
   "outputs": [
    {
     "data": {
      "text/html": [
       "<div>\n",
       "<style scoped>\n",
       "    .dataframe tbody tr th:only-of-type {\n",
       "        vertical-align: middle;\n",
       "    }\n",
       "\n",
       "    .dataframe tbody tr th {\n",
       "        vertical-align: top;\n",
       "    }\n",
       "\n",
       "    .dataframe thead th {\n",
       "        text-align: right;\n",
       "    }\n",
       "</style>\n",
       "<table border=\"1\" class=\"dataframe\">\n",
       "  <thead>\n",
       "    <tr style=\"text-align: right;\">\n",
       "      <th></th>\n",
       "      <th>age</th>\n",
       "      <th>balance</th>\n",
       "      <th>day</th>\n",
       "      <th>duration</th>\n",
       "      <th>campaign</th>\n",
       "      <th>pdays</th>\n",
       "      <th>previous</th>\n",
       "    </tr>\n",
       "  </thead>\n",
       "  <tbody>\n",
       "    <tr>\n",
       "      <th>above</th>\n",
       "      <td>74.50</td>\n",
       "      <td>4087.00</td>\n",
       "      <td>43.0</td>\n",
       "      <td>1033.0</td>\n",
       "      <td>6.00</td>\n",
       "      <td>53.375</td>\n",
       "      <td>2.50</td>\n",
       "    </tr>\n",
       "    <tr>\n",
       "      <th>below</th>\n",
       "      <td>6.50</td>\n",
       "      <td>-2257.00</td>\n",
       "      <td>-13.0</td>\n",
       "      <td>-399.0</td>\n",
       "      <td>-2.00</td>\n",
       "      <td>-33.625</td>\n",
       "      <td>-1.50</td>\n",
       "    </tr>\n",
       "    <tr>\n",
       "      <th>number</th>\n",
       "      <td>171.00</td>\n",
       "      <td>1051.00</td>\n",
       "      <td>0.0</td>\n",
       "      <td>636.0</td>\n",
       "      <td>601.00</td>\n",
       "      <td>2750.000</td>\n",
       "      <td>1258.00</td>\n",
       "    </tr>\n",
       "    <tr>\n",
       "      <th>percentage</th>\n",
       "      <td>1.53</td>\n",
       "      <td>9.42</td>\n",
       "      <td>0.0</td>\n",
       "      <td>5.7</td>\n",
       "      <td>5.38</td>\n",
       "      <td>24.640</td>\n",
       "      <td>11.27</td>\n",
       "    </tr>\n",
       "  </tbody>\n",
       "</table>\n",
       "</div>"
      ],
      "text/plain": [
       "               age  balance   day  duration  campaign     pdays  previous\n",
       "above        74.50  4087.00  43.0    1033.0      6.00    53.375      2.50\n",
       "below         6.50 -2257.00 -13.0    -399.0     -2.00   -33.625     -1.50\n",
       "number      171.00  1051.00   0.0     636.0    601.00  2750.000   1258.00\n",
       "percentage    1.53     9.42   0.0       5.7      5.38    24.640     11.27"
      ]
     },
     "execution_count": 22,
     "metadata": {},
     "output_type": "execute_result"
    }
   ],
   "source": [
    "outlier = pd.DataFrame(index = ['above', 'below', 'number', 'percentage'])\n",
    "\n",
    "for i in bankNum:\n",
    "  q1 = bank[i].quantile(0.25)\n",
    "  q3 = bank[i].quantile(0.75)\n",
    "  iqr = q3 - q1\n",
    "  low = q1 - 1.5 * iqr\n",
    "  high = q3 + 1.5 * iqr\n",
    "  number = bank[(bank[i] > high + (bank[i] < low))][i].count()\n",
    "  perc = round(number * 100 / len(bank), 2)\n",
    "  outlier[i] = [high, low, number, perc]\n",
    "\n",
    "outlier"
   ]
  },
  {
   "cell_type": "markdown",
   "metadata": {},
   "source": [
    "Outliers dari Pdays mencapai 24%, dan previous mencapai 11%, sedangkan day tidak ada outlier, karena day lebih seperti label tanggal dalam 1 bulan"
   ]
  },
  {
   "cell_type": "code",
   "execution_count": 23,
   "metadata": {
    "colab": {},
    "colab_type": "code",
    "id": "p6oU2aoGAwtk"
   },
   "outputs": [],
   "source": [
    "bank['deposit_rate'] = bank['deposit'].replace({'yes' : 1, 'no' : 0})"
   ]
  },
  {
   "cell_type": "code",
   "execution_count": 24,
   "metadata": {
    "colab": {
     "base_uri": "https://localhost:8080/",
     "height": 385
    },
    "colab_type": "code",
    "executionInfo": {
     "elapsed": 1781,
     "status": "ok",
     "timestamp": 1582526557407,
     "user": {
      "displayName": "Rudy Harun",
      "photoUrl": "https://lh3.googleusercontent.com/a-/AAuE7mCT3Fx-iOuTA6Pj1ltySexlcUpy8kFQ-XpcfzQZ=s64",
      "userId": "16923104043717379311"
     },
     "user_tz": -420
    },
    "id": "ywA_5wir2GOk",
    "outputId": "cdcdeb3d-a176-4d53-9fd8-44c1b227cc0e"
   },
   "outputs": [
    {
     "data": {
      "image/png": "[encoded data removed]",
      "text/plain": [
       "<Figure size 720x360 with 2 Axes>"
      ]
     },
     "metadata": {},
     "output_type": "display_data"
    }
   ],
   "source": [
    "plt.figure(figsize = (10, 5))\n",
    "sb.heatmap(bank.corr(method = 'pearson'), annot = True)\n",
    "plt.show()"
   ]
  },
  {
   "cell_type": "markdown",
   "metadata": {},
   "source": [
    "Berdasarkan eksplorasi data numerik di atas, saya memutuskan untuk memotong features day, pdays, dan previous"
   ]
  },
  {
   "cell_type": "markdown",
   "metadata": {},
   "source": [
    "## Eksplorasi Data Categorical"
   ]
  },
  {
   "cell_type": "code",
   "execution_count": 25,
   "metadata": {
    "colab": {
     "base_uri": "https://localhost:8080/",
     "height": 191
    },
    "colab_type": "code",
    "executionInfo": {
     "elapsed": 624,
     "status": "ok",
     "timestamp": 1582526558614,
     "user": {
      "displayName": "Rudy Harun",
      "photoUrl": "https://lh3.googleusercontent.com/a-/AAuE7mCT3Fx-iOuTA6Pj1ltySexlcUpy8kFQ-XpcfzQZ=s64",
      "userId": "16923104043717379311"
     },
     "user_tz": -420
    },
    "id": "SmN-8OeC_do2",
    "outputId": "49094386-3434-4e49-b71e-292e5249d0ff"
   },
   "outputs": [
    {
     "data": {
      "text/plain": [
       "['job',\n",
       " 'marital',\n",
       " 'education',\n",
       " 'default',\n",
       " 'housing',\n",
       " 'loan',\n",
       " 'contact',\n",
       " 'month',\n",
       " 'poutcome',\n",
       " 'deposit']"
      ]
     },
     "execution_count": 25,
     "metadata": {},
     "output_type": "execute_result"
    }
   ],
   "source": [
    "bankCat"
   ]
  },
  {
   "cell_type": "code",
   "execution_count": 26,
   "metadata": {
    "colab": {},
    "colab_type": "code",
    "id": "bF_nB768YznN"
   },
   "outputs": [],
   "source": [
    "bankYes = bank[bank['deposit'] == 'yes']\n",
    "bankNo = bank[bank['deposit'] == 'no']"
   ]
  },
  {
   "cell_type": "code",
   "execution_count": 27,
   "metadata": {
    "colab": {},
    "colab_type": "code",
    "id": "0iVM-U8Xdfoh"
   },
   "outputs": [],
   "source": [
    "job = bankCat[0]\n",
    "mar = bankCat[1]\n",
    "edu = bankCat[2]\n",
    "dft = bankCat[3]\n",
    "hos = bankCat[4]\n",
    "lon = bankCat[5]\n",
    "con = bankCat[6]\n",
    "mon = bankCat[7]\n",
    "pot = bankCat[8]"
   ]
  },
  {
   "cell_type": "markdown",
   "metadata": {},
   "source": [
    "PERBANDINGAN JOB TERHADAP DEPOSIT"
   ]
  },
  {
   "cell_type": "code",
   "execution_count": 28,
   "metadata": {
    "colab": {
     "base_uri": "https://localhost:8080/",
     "height": 411
    },
    "colab_type": "code",
    "executionInfo": {
     "elapsed": 1245,
     "status": "ok",
     "timestamp": 1582526565195,
     "user": {
      "displayName": "Rudy Harun",
      "photoUrl": "https://lh3.googleusercontent.com/a-/AAuE7mCT3Fx-iOuTA6Pj1ltySexlcUpy8kFQ-XpcfzQZ=s64",
      "userId": "16923104043717379311"
     },
     "user_tz": -420
    },
    "id": "0XH0x_0IBFRW",
    "outputId": "2b632dfa-ff8c-4a97-c8b1-cb6b606c278f"
   },
   "outputs": [
    {
     "data": {
      "text/plain": [
       "<matplotlib.axes._subplots.AxesSubplot at 0x172d7932088>"
      ]
     },
     "execution_count": 28,
     "metadata": {},
     "output_type": "execute_result"
    },
    {
     "data": {
      "image/png": "[encoded data removed]",
      "text/plain": [
       "<Figure size 1296x432 with 1 Axes>"
      ]
     },
     "metadata": {},
     "output_type": "display_data"
    }
   ],
   "source": [
    "plt.figure(figsize = (18, 6))\n",
    "sb.countplot(x = job, hue = 'deposit', data = bank, palette = 'Set2')"
   ]
  },
  {
   "cell_type": "code",
   "execution_count": 29,
   "metadata": {
    "colab": {
     "base_uri": "https://localhost:8080/",
     "height": 417
    },
    "colab_type": "code",
    "executionInfo": {
     "elapsed": 958,
     "status": "ok",
     "timestamp": 1582526574656,
     "user": {
      "displayName": "Rudy Harun",
      "photoUrl": "https://lh3.googleusercontent.com/a-/AAuE7mCT3Fx-iOuTA6Pj1ltySexlcUpy8kFQ-XpcfzQZ=s64",
      "userId": "16923104043717379311"
     },
     "user_tz": -420
    },
    "id": "wYro3WspbNTV",
    "outputId": "5a85167f-6c5d-4f90-e4dd-b95b3ddb5bb0"
   },
   "outputs": [
    {
     "data": {
      "text/html": [
       "<div>\n",
       "<style scoped>\n",
       "    .dataframe tbody tr th:only-of-type {\n",
       "        vertical-align: middle;\n",
       "    }\n",
       "\n",
       "    .dataframe tbody tr th {\n",
       "        vertical-align: top;\n",
       "    }\n",
       "\n",
       "    .dataframe thead th {\n",
       "        text-align: right;\n",
       "    }\n",
       "</style>\n",
       "<table border=\"1\" class=\"dataframe\">\n",
       "  <thead>\n",
       "    <tr style=\"text-align: right;\">\n",
       "      <th></th>\n",
       "      <th>Yes</th>\n",
       "      <th>No</th>\n",
       "      <th>% Yes</th>\n",
       "      <th>% No</th>\n",
       "    </tr>\n",
       "  </thead>\n",
       "  <tbody>\n",
       "    <tr>\n",
       "      <th>management</th>\n",
       "      <td>1301</td>\n",
       "      <td>1265</td>\n",
       "      <td>50.70</td>\n",
       "      <td>49.30</td>\n",
       "    </tr>\n",
       "    <tr>\n",
       "      <th>technician</th>\n",
       "      <td>840</td>\n",
       "      <td>983</td>\n",
       "      <td>46.08</td>\n",
       "      <td>53.92</td>\n",
       "    </tr>\n",
       "    <tr>\n",
       "      <th>blue-collar</th>\n",
       "      <td>708</td>\n",
       "      <td>1236</td>\n",
       "      <td>36.42</td>\n",
       "      <td>63.58</td>\n",
       "    </tr>\n",
       "    <tr>\n",
       "      <th>admin.</th>\n",
       "      <td>631</td>\n",
       "      <td>703</td>\n",
       "      <td>47.30</td>\n",
       "      <td>52.70</td>\n",
       "    </tr>\n",
       "    <tr>\n",
       "      <th>retired</th>\n",
       "      <td>516</td>\n",
       "      <td>262</td>\n",
       "      <td>66.32</td>\n",
       "      <td>33.68</td>\n",
       "    </tr>\n",
       "    <tr>\n",
       "      <th>services</th>\n",
       "      <td>369</td>\n",
       "      <td>554</td>\n",
       "      <td>39.98</td>\n",
       "      <td>60.02</td>\n",
       "    </tr>\n",
       "    <tr>\n",
       "      <th>student</th>\n",
       "      <td>269</td>\n",
       "      <td>91</td>\n",
       "      <td>74.72</td>\n",
       "      <td>25.28</td>\n",
       "    </tr>\n",
       "    <tr>\n",
       "      <th>unemployed</th>\n",
       "      <td>202</td>\n",
       "      <td>155</td>\n",
       "      <td>56.58</td>\n",
       "      <td>43.42</td>\n",
       "    </tr>\n",
       "    <tr>\n",
       "      <th>self-employed</th>\n",
       "      <td>187</td>\n",
       "      <td>218</td>\n",
       "      <td>46.17</td>\n",
       "      <td>53.83</td>\n",
       "    </tr>\n",
       "    <tr>\n",
       "      <th>entrepreneur</th>\n",
       "      <td>123</td>\n",
       "      <td>205</td>\n",
       "      <td>37.50</td>\n",
       "      <td>62.50</td>\n",
       "    </tr>\n",
       "    <tr>\n",
       "      <th>housemaid</th>\n",
       "      <td>109</td>\n",
       "      <td>165</td>\n",
       "      <td>39.78</td>\n",
       "      <td>60.22</td>\n",
       "    </tr>\n",
       "    <tr>\n",
       "      <th>unknown</th>\n",
       "      <td>34</td>\n",
       "      <td>36</td>\n",
       "      <td>48.57</td>\n",
       "      <td>51.43</td>\n",
       "    </tr>\n",
       "  </tbody>\n",
       "</table>\n",
       "</div>"
      ],
      "text/plain": [
       "                Yes    No  % Yes   % No\n",
       "management     1301  1265  50.70  49.30\n",
       "technician      840   983  46.08  53.92\n",
       "blue-collar     708  1236  36.42  63.58\n",
       "admin.          631   703  47.30  52.70\n",
       "retired         516   262  66.32  33.68\n",
       "services        369   554  39.98  60.02\n",
       "student         269    91  74.72  25.28\n",
       "unemployed      202   155  56.58  43.42\n",
       "self-employed   187   218  46.17  53.83\n",
       "entrepreneur    123   205  37.50  62.50\n",
       "housemaid       109   165  39.78  60.22\n",
       "unknown          34    36  48.57  51.43"
      ]
     },
     "execution_count": 29,
     "metadata": {},
     "output_type": "execute_result"
    }
   ],
   "source": [
    "valYes = bankYes.loc[:, job].value_counts()\n",
    "valNo = bankNo.loc[:, job].value_counts()\n",
    "\n",
    "dfJob = pd.DataFrame()\n",
    "dfJob['Yes'] = valYes\n",
    "dfJob['No'] = valNo\n",
    "dfJob['% Yes'] = round((valYes / (valYes + valNo)) * 100, 2)\n",
    "dfJob['% No'] = round((valNo / (valYes + valNo)) * 100, 2)\n",
    "dfJob"
   ]
  },
  {
   "cell_type": "markdown",
   "metadata": {},
   "source": [
    "TOP 5 JOB"
   ]
  },
  {
   "cell_type": "code",
   "execution_count": 30,
   "metadata": {
    "colab": {
     "base_uri": "https://localhost:8080/",
     "height": 220
    },
    "colab_type": "code",
    "executionInfo": {
     "elapsed": 1295,
     "status": "ok",
     "timestamp": 1582526583058,
     "user": {
      "displayName": "Rudy Harun",
      "photoUrl": "https://lh3.googleusercontent.com/a-/AAuE7mCT3Fx-iOuTA6Pj1ltySexlcUpy8kFQ-XpcfzQZ=s64",
      "userId": "16923104043717379311"
     },
     "user_tz": -420
    },
    "id": "htaP4s-NEIEB",
    "outputId": "b9672c83-30e7-4a1b-9902-9fbb9b40b2fd"
   },
   "outputs": [
    {
     "data": {
      "image/png": "[encoded data removed]",
      "text/plain": [
       "<Figure size 1296x1080 with 5 Axes>"
      ]
     },
     "metadata": {},
     "output_type": "display_data"
    }
   ],
   "source": [
    "plt.figure(figsize = (18, 15))\n",
    "for i in range(len(dfJob.head())):\n",
    "  plt.subplot(1, 5, i+1)\n",
    "  plt.title(dfJob.head().index[i])\n",
    "  plt.pie((dfJob.head()['Yes'][i], dfJob.head()['No'][i]), labels= ['Yes', 'No'], autopct= '%.2f')\n",
    "plt.show()"
   ]
  },
  {
   "cell_type": "markdown",
   "metadata": {},
   "source": [
    "PERBANDINGAN MARITAL DAN EDICATION TERHADAP DEPOSIT"
   ]
  },
  {
   "cell_type": "code",
   "execution_count": 31,
   "metadata": {
    "colab": {
     "base_uri": "https://localhost:8080/",
     "height": 394
    },
    "colab_type": "code",
    "executionInfo": {
     "elapsed": 2395,
     "status": "ok",
     "timestamp": 1582526586443,
     "user": {
      "displayName": "Rudy Harun",
      "photoUrl": "https://lh3.googleusercontent.com/a-/AAuE7mCT3Fx-iOuTA6Pj1ltySexlcUpy8kFQ-XpcfzQZ=s64",
      "userId": "16923104043717379311"
     },
     "user_tz": -420
    },
    "id": "uI3k5xInjOaZ",
    "outputId": "89db5426-fdb7-489b-bf64-cac1096a2e28"
   },
   "outputs": [
    {
     "data": {
      "image/png": "[encoded data removed]",
      "text/plain": [
       "<Figure size 1296x432 with 2 Axes>"
      ]
     },
     "metadata": {},
     "output_type": "display_data"
    }
   ],
   "source": [
    "col = ['marital', 'education']\n",
    "plt.figure(figsize = (18, 6))\n",
    "for i in range(len(col)):\n",
    "  plt.subplot(1, 2, i+1)\n",
    "  sb.countplot(x = col[i], hue = 'deposit', data = bank, palette = 'Set2')\n",
    "plt.show()"
   ]
  },
  {
   "cell_type": "code",
   "execution_count": 32,
   "metadata": {
    "colab": {
     "base_uri": "https://localhost:8080/",
     "height": 141
    },
    "colab_type": "code",
    "executionInfo": {
     "elapsed": 799,
     "status": "ok",
     "timestamp": 1582526592144,
     "user": {
      "displayName": "Rudy Harun",
      "photoUrl": "https://lh3.googleusercontent.com/a-/AAuE7mCT3Fx-iOuTA6Pj1ltySexlcUpy8kFQ-XpcfzQZ=s64",
      "userId": "16923104043717379311"
     },
     "user_tz": -420
    },
    "id": "hkNZeCGEZgr6",
    "outputId": "7f1076e0-3d6b-4379-918a-e9bc238f5b6c"
   },
   "outputs": [
    {
     "data": {
      "text/html": [
       "<div>\n",
       "<style scoped>\n",
       "    .dataframe tbody tr th:only-of-type {\n",
       "        vertical-align: middle;\n",
       "    }\n",
       "\n",
       "    .dataframe tbody tr th {\n",
       "        vertical-align: top;\n",
       "    }\n",
       "\n",
       "    .dataframe thead th {\n",
       "        text-align: right;\n",
       "    }\n",
       "</style>\n",
       "<table border=\"1\" class=\"dataframe\">\n",
       "  <thead>\n",
       "    <tr style=\"text-align: right;\">\n",
       "      <th></th>\n",
       "      <th>Yes</th>\n",
       "      <th>No</th>\n",
       "      <th>% Yes</th>\n",
       "      <th>% No</th>\n",
       "    </tr>\n",
       "  </thead>\n",
       "  <tbody>\n",
       "    <tr>\n",
       "      <th>married</th>\n",
       "      <td>2755</td>\n",
       "      <td>3596</td>\n",
       "      <td>43.38</td>\n",
       "      <td>56.62</td>\n",
       "    </tr>\n",
       "    <tr>\n",
       "      <th>single</th>\n",
       "      <td>1912</td>\n",
       "      <td>1606</td>\n",
       "      <td>54.35</td>\n",
       "      <td>45.65</td>\n",
       "    </tr>\n",
       "    <tr>\n",
       "      <th>divorced</th>\n",
       "      <td>622</td>\n",
       "      <td>671</td>\n",
       "      <td>48.11</td>\n",
       "      <td>51.89</td>\n",
       "    </tr>\n",
       "  </tbody>\n",
       "</table>\n",
       "</div>"
      ],
      "text/plain": [
       "           Yes    No  % Yes   % No\n",
       "married   2755  3596  43.38  56.62\n",
       "single    1912  1606  54.35  45.65\n",
       "divorced   622   671  48.11  51.89"
      ]
     },
     "execution_count": 32,
     "metadata": {},
     "output_type": "execute_result"
    }
   ],
   "source": [
    "valYes = bankYes.loc[:, mar].value_counts()\n",
    "valNo = bankNo.loc[:, mar].value_counts()\n",
    "\n",
    "dfMar = pd.DataFrame()\n",
    "dfMar['Yes'] = valYes\n",
    "dfMar['No'] = valNo\n",
    "dfMar['% Yes'] = round((valYes * 100 / (valYes + valNo)), 2)\n",
    "dfMar['% No'] = round((valNo * 100 / (valYes + valNo)), 2)\n",
    "dfMar"
   ]
  },
  {
   "cell_type": "code",
   "execution_count": 33,
   "metadata": {
    "colab": {
     "base_uri": "https://localhost:8080/",
     "height": 342
    },
    "colab_type": "code",
    "executionInfo": {
     "elapsed": 1330,
     "status": "ok",
     "timestamp": 1582526598442,
     "user": {
      "displayName": "Rudy Harun",
      "photoUrl": "https://lh3.googleusercontent.com/a-/AAuE7mCT3Fx-iOuTA6Pj1ltySexlcUpy8kFQ-XpcfzQZ=s64",
      "userId": "16923104043717379311"
     },
     "user_tz": -420
    },
    "id": "sd60z-BsGP3U",
    "outputId": "92662c63-b5a3-48a9-a301-d65b53a28ece"
   },
   "outputs": [
    {
     "data": {
      "image/png": "[encoded data removed]",
      "text/plain": [
       "<Figure size 1296x1080 with 3 Axes>"
      ]
     },
     "metadata": {},
     "output_type": "display_data"
    }
   ],
   "source": [
    "plt.figure(figsize = (18, 15))\n",
    "for i in range(len(dfMar)):\n",
    "  plt.subplot(1, 3, i+1)\n",
    "  plt.title(dfMar.index[i])\n",
    "  plt.pie((dfMar['Yes'][i], dfMar['No'][i]), labels = ['Yes', 'No'], autopct = '%.2f')\n",
    "plt.show()"
   ]
  },
  {
   "cell_type": "code",
   "execution_count": 34,
   "metadata": {
    "colab": {
     "base_uri": "https://localhost:8080/",
     "height": 171
    },
    "colab_type": "code",
    "executionInfo": {
     "elapsed": 777,
     "status": "ok",
     "timestamp": 1582526650466,
     "user": {
      "displayName": "Rudy Harun",
      "photoUrl": "https://lh3.googleusercontent.com/a-/AAuE7mCT3Fx-iOuTA6Pj1ltySexlcUpy8kFQ-XpcfzQZ=s64",
      "userId": "16923104043717379311"
     },
     "user_tz": -420
    },
    "id": "QImUeveSg8AO",
    "outputId": "1fe4781c-b711-49b3-a2e9-8bd4d0018fc2"
   },
   "outputs": [
    {
     "data": {
      "text/html": [
       "<div>\n",
       "<style scoped>\n",
       "    .dataframe tbody tr th:only-of-type {\n",
       "        vertical-align: middle;\n",
       "    }\n",
       "\n",
       "    .dataframe tbody tr th {\n",
       "        vertical-align: top;\n",
       "    }\n",
       "\n",
       "    .dataframe thead th {\n",
       "        text-align: right;\n",
       "    }\n",
       "</style>\n",
       "<table border=\"1\" class=\"dataframe\">\n",
       "  <thead>\n",
       "    <tr style=\"text-align: right;\">\n",
       "      <th></th>\n",
       "      <th>Yes</th>\n",
       "      <th>No</th>\n",
       "      <th>% Yes</th>\n",
       "      <th>% No</th>\n",
       "    </tr>\n",
       "  </thead>\n",
       "  <tbody>\n",
       "    <tr>\n",
       "      <th>secondary</th>\n",
       "      <td>2450</td>\n",
       "      <td>3026</td>\n",
       "      <td>44.74</td>\n",
       "      <td>55.26</td>\n",
       "    </tr>\n",
       "    <tr>\n",
       "      <th>tertiary</th>\n",
       "      <td>1996</td>\n",
       "      <td>1693</td>\n",
       "      <td>54.11</td>\n",
       "      <td>45.89</td>\n",
       "    </tr>\n",
       "    <tr>\n",
       "      <th>primary</th>\n",
       "      <td>591</td>\n",
       "      <td>909</td>\n",
       "      <td>39.40</td>\n",
       "      <td>60.60</td>\n",
       "    </tr>\n",
       "    <tr>\n",
       "      <th>unknown</th>\n",
       "      <td>252</td>\n",
       "      <td>245</td>\n",
       "      <td>50.70</td>\n",
       "      <td>49.30</td>\n",
       "    </tr>\n",
       "  </tbody>\n",
       "</table>\n",
       "</div>"
      ],
      "text/plain": [
       "            Yes    No  % Yes   % No\n",
       "secondary  2450  3026  44.74  55.26\n",
       "tertiary   1996  1693  54.11  45.89\n",
       "primary     591   909  39.40  60.60\n",
       "unknown     252   245  50.70  49.30"
      ]
     },
     "execution_count": 34,
     "metadata": {},
     "output_type": "execute_result"
    }
   ],
   "source": [
    "valYes = bankYes.loc[:, edu].value_counts()\n",
    "valNo = bankNo.loc[:, edu].value_counts()\n",
    "\n",
    "dfEdu = pd.DataFrame()\n",
    "dfEdu['Yes'] = valYes\n",
    "dfEdu['No'] = valNo\n",
    "dfEdu['% Yes'] = round((valYes * 100 / (valYes + valNo)), 2)\n",
    "dfEdu['% No'] = round((valNo * 100 / (valYes + valNo)), 2)\n",
    "dfEdu"
   ]
  },
  {
   "cell_type": "code",
   "execution_count": 35,
   "metadata": {
    "colab": {
     "base_uri": "https://localhost:8080/",
     "height": 265
    },
    "colab_type": "code",
    "executionInfo": {
     "elapsed": 1370,
     "status": "ok",
     "timestamp": 1582526652336,
     "user": {
      "displayName": "Rudy Harun",
      "photoUrl": "https://lh3.googleusercontent.com/a-/AAuE7mCT3Fx-iOuTA6Pj1ltySexlcUpy8kFQ-XpcfzQZ=s64",
      "userId": "16923104043717379311"
     },
     "user_tz": -420
    },
    "id": "nLohQKFGOixe",
    "outputId": "3fdb425a-de31-4691-9e42-c21f06db171e"
   },
   "outputs": [
    {
     "data": {
      "image/png": "[encoded data removed]",
      "text/plain": [
       "<Figure size 1296x1080 with 4 Axes>"
      ]
     },
     "metadata": {},
     "output_type": "display_data"
    }
   ],
   "source": [
    "plt.figure(figsize = (18, 15))\n",
    "for i in range(len(dfEdu)):\n",
    "  plt.subplot(1, 4, i+1)\n",
    "  plt.title(dfEdu.index[i])\n",
    "  plt.pie((dfEdu['Yes'][i], dfEdu['No'][i]), labels = ['Yes', 'No'], autopct = '%.2f')\n",
    "plt.show()"
   ]
  },
  {
   "cell_type": "markdown",
   "metadata": {},
   "source": [
    "PERBANDINGAN DEFAULT, HOUSING DAN LOAN TERHADAP DEPOSIT"
   ]
  },
  {
   "cell_type": "code",
   "execution_count": 36,
   "metadata": {
    "colab": {
     "base_uri": "https://localhost:8080/",
     "height": 396
    },
    "colab_type": "code",
    "executionInfo": {
     "elapsed": 1582,
     "status": "ok",
     "timestamp": 1582526654223,
     "user": {
      "displayName": "Rudy Harun",
      "photoUrl": "https://lh3.googleusercontent.com/a-/AAuE7mCT3Fx-iOuTA6Pj1ltySexlcUpy8kFQ-XpcfzQZ=s64",
      "userId": "16923104043717379311"
     },
     "user_tz": -420
    },
    "id": "Nfj5a7X9OseS",
    "outputId": "9c013374-e995-46d2-d3b3-95f8b5eafcab"
   },
   "outputs": [
    {
     "data": {
      "image/png": "[encoded data removed]",
      "text/plain": [
       "<Figure size 1296x432 with 3 Axes>"
      ]
     },
     "metadata": {},
     "output_type": "display_data"
    }
   ],
   "source": [
    "col = ['default', 'housing', 'loan']\n",
    "plt.figure(figsize = (18, 6))\n",
    "for i in range(len(col)):\n",
    "  plt.subplot(1, 3, i+1)\n",
    "  sb.countplot(x = col[i], hue = 'deposit', data = bank, palette = 'Set2')\n",
    "plt.show()"
   ]
  },
  {
   "cell_type": "code",
   "execution_count": 37,
   "metadata": {
    "colab": {
     "base_uri": "https://localhost:8080/",
     "height": 110
    },
    "colab_type": "code",
    "executionInfo": {
     "elapsed": 892,
     "status": "ok",
     "timestamp": 1582526656089,
     "user": {
      "displayName": "Rudy Harun",
      "photoUrl": "https://lh3.googleusercontent.com/a-/AAuE7mCT3Fx-iOuTA6Pj1ltySexlcUpy8kFQ-XpcfzQZ=s64",
      "userId": "16923104043717379311"
     },
     "user_tz": -420
    },
    "id": "knzd2KO_QVeX",
    "outputId": "ad495286-bd89-493c-bcee-af4207bf7c4d"
   },
   "outputs": [
    {
     "data": {
      "text/html": [
       "<div>\n",
       "<style scoped>\n",
       "    .dataframe tbody tr th:only-of-type {\n",
       "        vertical-align: middle;\n",
       "    }\n",
       "\n",
       "    .dataframe tbody tr th {\n",
       "        vertical-align: top;\n",
       "    }\n",
       "\n",
       "    .dataframe thead th {\n",
       "        text-align: right;\n",
       "    }\n",
       "</style>\n",
       "<table border=\"1\" class=\"dataframe\">\n",
       "  <thead>\n",
       "    <tr style=\"text-align: right;\">\n",
       "      <th></th>\n",
       "      <th>Yes</th>\n",
       "      <th>No</th>\n",
       "      <th>% Yes</th>\n",
       "      <th>% No</th>\n",
       "    </tr>\n",
       "  </thead>\n",
       "  <tbody>\n",
       "    <tr>\n",
       "      <th>no</th>\n",
       "      <td>5237</td>\n",
       "      <td>5757</td>\n",
       "      <td>47.64</td>\n",
       "      <td>52.36</td>\n",
       "    </tr>\n",
       "    <tr>\n",
       "      <th>yes</th>\n",
       "      <td>52</td>\n",
       "      <td>116</td>\n",
       "      <td>30.95</td>\n",
       "      <td>69.05</td>\n",
       "    </tr>\n",
       "  </tbody>\n",
       "</table>\n",
       "</div>"
      ],
      "text/plain": [
       "      Yes    No  % Yes   % No\n",
       "no   5237  5757  47.64  52.36\n",
       "yes    52   116  30.95  69.05"
      ]
     },
     "execution_count": 37,
     "metadata": {},
     "output_type": "execute_result"
    }
   ],
   "source": [
    "valYes = bankYes.loc[:, dft].value_counts()\n",
    "valNo = bankNo.loc[:, dft].value_counts()\n",
    "\n",
    "dfDft = pd.DataFrame()\n",
    "dfDft['Yes'] = valYes\n",
    "dfDft['No'] = valNo\n",
    "dfDft['% Yes'] = round((valYes * 100 / (valYes + valNo)), 2)\n",
    "dfDft['% No'] = round((valNo * 100 / (valYes + valNo)), 2)\n",
    "dfDft"
   ]
  },
  {
   "cell_type": "code",
   "execution_count": 38,
   "metadata": {
    "colab": {
     "base_uri": "https://localhost:8080/",
     "height": 110
    },
    "colab_type": "code",
    "executionInfo": {
     "elapsed": 844,
     "status": "ok",
     "timestamp": 1582526693826,
     "user": {
      "displayName": "Rudy Harun",
      "photoUrl": "https://lh3.googleusercontent.com/a-/AAuE7mCT3Fx-iOuTA6Pj1ltySexlcUpy8kFQ-XpcfzQZ=s64",
      "userId": "16923104043717379311"
     },
     "user_tz": -420
    },
    "id": "2-z8oAoYRm4c",
    "outputId": "902796a1-e6a0-4460-a8dd-fac3a40abb6d"
   },
   "outputs": [
    {
     "data": {
      "text/html": [
       "<div>\n",
       "<style scoped>\n",
       "    .dataframe tbody tr th:only-of-type {\n",
       "        vertical-align: middle;\n",
       "    }\n",
       "\n",
       "    .dataframe tbody tr th {\n",
       "        vertical-align: top;\n",
       "    }\n",
       "\n",
       "    .dataframe thead th {\n",
       "        text-align: right;\n",
       "    }\n",
       "</style>\n",
       "<table border=\"1\" class=\"dataframe\">\n",
       "  <thead>\n",
       "    <tr style=\"text-align: right;\">\n",
       "      <th></th>\n",
       "      <th>Yes</th>\n",
       "      <th>No</th>\n",
       "      <th>% Yes</th>\n",
       "      <th>% No</th>\n",
       "    </tr>\n",
       "  </thead>\n",
       "  <tbody>\n",
       "    <tr>\n",
       "      <th>no</th>\n",
       "      <td>3354</td>\n",
       "      <td>2527</td>\n",
       "      <td>57.03</td>\n",
       "      <td>42.97</td>\n",
       "    </tr>\n",
       "    <tr>\n",
       "      <th>yes</th>\n",
       "      <td>1935</td>\n",
       "      <td>3346</td>\n",
       "      <td>36.64</td>\n",
       "      <td>63.36</td>\n",
       "    </tr>\n",
       "  </tbody>\n",
       "</table>\n",
       "</div>"
      ],
      "text/plain": [
       "      Yes    No  % Yes   % No\n",
       "no   3354  2527  57.03  42.97\n",
       "yes  1935  3346  36.64  63.36"
      ]
     },
     "execution_count": 38,
     "metadata": {},
     "output_type": "execute_result"
    }
   ],
   "source": [
    "valYes = bankYes.loc[:, hos].value_counts()\n",
    "valNo = bankNo.loc[:, hos].value_counts()\n",
    "\n",
    "dfHos = pd.DataFrame()\n",
    "dfHos['Yes'] = valYes\n",
    "dfHos['No'] = valNo\n",
    "dfHos['% Yes'] = round((valYes * 100 / (valYes + valNo)), 2)\n",
    "dfHos['% No'] = round((valNo * 100 / (valYes + valNo)), 2)\n",
    "dfHos"
   ]
  },
  {
   "cell_type": "code",
   "execution_count": 39,
   "metadata": {
    "colab": {
     "base_uri": "https://localhost:8080/",
     "height": 110
    },
    "colab_type": "code",
    "executionInfo": {
     "elapsed": 991,
     "status": "ok",
     "timestamp": 1582526982908,
     "user": {
      "displayName": "Rudy Harun",
      "photoUrl": "https://lh3.googleusercontent.com/a-/AAuE7mCT3Fx-iOuTA6Pj1ltySexlcUpy8kFQ-XpcfzQZ=s64",
      "userId": "16923104043717379311"
     },
     "user_tz": -420
    },
    "id": "qG3QZyGHX4VG",
    "outputId": "73cfdf8a-9c2f-4543-91ad-2ec394e4fcd8"
   },
   "outputs": [
    {
     "data": {
      "text/html": [
       "<div>\n",
       "<style scoped>\n",
       "    .dataframe tbody tr th:only-of-type {\n",
       "        vertical-align: middle;\n",
       "    }\n",
       "\n",
       "    .dataframe tbody tr th {\n",
       "        vertical-align: top;\n",
       "    }\n",
       "\n",
       "    .dataframe thead th {\n",
       "        text-align: right;\n",
       "    }\n",
       "</style>\n",
       "<table border=\"1\" class=\"dataframe\">\n",
       "  <thead>\n",
       "    <tr style=\"text-align: right;\">\n",
       "      <th></th>\n",
       "      <th>Yes</th>\n",
       "      <th>No</th>\n",
       "      <th>% Yes</th>\n",
       "      <th>% No</th>\n",
       "    </tr>\n",
       "  </thead>\n",
       "  <tbody>\n",
       "    <tr>\n",
       "      <th>no</th>\n",
       "      <td>4805</td>\n",
       "      <td>4897</td>\n",
       "      <td>49.53</td>\n",
       "      <td>50.47</td>\n",
       "    </tr>\n",
       "    <tr>\n",
       "      <th>yes</th>\n",
       "      <td>484</td>\n",
       "      <td>976</td>\n",
       "      <td>33.15</td>\n",
       "      <td>66.85</td>\n",
       "    </tr>\n",
       "  </tbody>\n",
       "</table>\n",
       "</div>"
      ],
      "text/plain": [
       "      Yes    No  % Yes   % No\n",
       "no   4805  4897  49.53  50.47\n",
       "yes   484   976  33.15  66.85"
      ]
     },
     "execution_count": 39,
     "metadata": {},
     "output_type": "execute_result"
    }
   ],
   "source": [
    "valYes = bankYes.loc[:, lon].value_counts()\n",
    "valNo = bankNo.loc[:, lon].value_counts()\n",
    "\n",
    "dfLon = pd.DataFrame()\n",
    "dfLon['Yes'] = valYes\n",
    "dfLon['No'] = valNo\n",
    "dfLon['% Yes'] = round((valYes * 100 / (valYes + valNo)), 2)\n",
    "dfLon['% No'] = round((valNo * 100 / (valYes + valNo)), 2)\n",
    "dfLon"
   ]
  },
  {
   "cell_type": "markdown",
   "metadata": {},
   "source": [
    "PERBANDINGAN CONTACT DAN POUTCOME TERHADAP DEPOSIT"
   ]
  },
  {
   "cell_type": "code",
   "execution_count": 40,
   "metadata": {
    "colab": {
     "base_uri": "https://localhost:8080/",
     "height": 394
    },
    "colab_type": "code",
    "executionInfo": {
     "elapsed": 1983,
     "status": "ok",
     "timestamp": 1582527022040,
     "user": {
      "displayName": "Rudy Harun",
      "photoUrl": "https://lh3.googleusercontent.com/a-/AAuE7mCT3Fx-iOuTA6Pj1ltySexlcUpy8kFQ-XpcfzQZ=s64",
      "userId": "16923104043717379311"
     },
     "user_tz": -420
    },
    "id": "pWkb8gTFi-Lt",
    "outputId": "fac6a7d1-c43f-4552-b65f-3025258fc3a6"
   },
   "outputs": [
    {
     "data": {
      "image/png": "[encoded data removed]",
      "text/plain": [
       "<Figure size 1296x432 with 2 Axes>"
      ]
     },
     "metadata": {},
     "output_type": "display_data"
    }
   ],
   "source": [
    "col = ['contact', 'poutcome']\n",
    "plt.figure(figsize = (18, 6))\n",
    "for i in range(len(col)):\n",
    "  plt.subplot(1, 2, i+1)\n",
    "  sb.countplot(x = col[i], hue = 'deposit', data = bank, palette = 'Set2')\n",
    "plt.show()"
   ]
  },
  {
   "cell_type": "markdown",
   "metadata": {},
   "source": [
    "Data poutcome adalah hasil konsumen terhadap promosi produk sebelumnya, apakah berhasil atau tidak, namun ada unknown dan other yang membingungkan, padahal unknown mayoritas"
   ]
  },
  {
   "cell_type": "code",
   "execution_count": 41,
   "metadata": {
    "colab": {
     "base_uri": "https://localhost:8080/",
     "height": 141
    },
    "colab_type": "code",
    "executionInfo": {
     "elapsed": 931,
     "status": "ok",
     "timestamp": 1582527023698,
     "user": {
      "displayName": "Rudy Harun",
      "photoUrl": "https://lh3.googleusercontent.com/a-/AAuE7mCT3Fx-iOuTA6Pj1ltySexlcUpy8kFQ-XpcfzQZ=s64",
      "userId": "16923104043717379311"
     },
     "user_tz": -420
    },
    "id": "lyVm2uDfj5u6",
    "outputId": "6fbc934c-b2d9-4579-d741-e42102f022d7"
   },
   "outputs": [
    {
     "data": {
      "text/html": [
       "<div>\n",
       "<style scoped>\n",
       "    .dataframe tbody tr th:only-of-type {\n",
       "        vertical-align: middle;\n",
       "    }\n",
       "\n",
       "    .dataframe tbody tr th {\n",
       "        vertical-align: top;\n",
       "    }\n",
       "\n",
       "    .dataframe thead th {\n",
       "        text-align: right;\n",
       "    }\n",
       "</style>\n",
       "<table border=\"1\" class=\"dataframe\">\n",
       "  <thead>\n",
       "    <tr style=\"text-align: right;\">\n",
       "      <th></th>\n",
       "      <th>Yes</th>\n",
       "      <th>No</th>\n",
       "      <th>% Yes</th>\n",
       "      <th>% No</th>\n",
       "    </tr>\n",
       "  </thead>\n",
       "  <tbody>\n",
       "    <tr>\n",
       "      <th>cellular</th>\n",
       "      <td>4369</td>\n",
       "      <td>3673</td>\n",
       "      <td>54.33</td>\n",
       "      <td>45.67</td>\n",
       "    </tr>\n",
       "    <tr>\n",
       "      <th>unknown</th>\n",
       "      <td>530</td>\n",
       "      <td>1816</td>\n",
       "      <td>22.59</td>\n",
       "      <td>77.41</td>\n",
       "    </tr>\n",
       "    <tr>\n",
       "      <th>telephone</th>\n",
       "      <td>390</td>\n",
       "      <td>384</td>\n",
       "      <td>50.39</td>\n",
       "      <td>49.61</td>\n",
       "    </tr>\n",
       "  </tbody>\n",
       "</table>\n",
       "</div>"
      ],
      "text/plain": [
       "            Yes    No  % Yes   % No\n",
       "cellular   4369  3673  54.33  45.67\n",
       "unknown     530  1816  22.59  77.41\n",
       "telephone   390   384  50.39  49.61"
      ]
     },
     "execution_count": 41,
     "metadata": {},
     "output_type": "execute_result"
    }
   ],
   "source": [
    "valYes = bankYes.loc[:, con].value_counts()\n",
    "valNo = bankNo.loc[:, con].value_counts()\n",
    "\n",
    "dfCon = pd.DataFrame()\n",
    "dfCon['Yes'] = valYes\n",
    "dfCon['No'] = valNo\n",
    "dfCon['% Yes'] = round((valYes * 100 / (valYes + valNo)), 2)\n",
    "dfCon['% No'] = round((valNo * 100 / (valYes + valNo)), 2)\n",
    "dfCon"
   ]
  },
  {
   "cell_type": "code",
   "execution_count": 42,
   "metadata": {
    "colab": {
     "base_uri": "https://localhost:8080/",
     "height": 342
    },
    "colab_type": "code",
    "executionInfo": {
     "elapsed": 1163,
     "status": "ok",
     "timestamp": 1582527025965,
     "user": {
      "displayName": "Rudy Harun",
      "photoUrl": "https://lh3.googleusercontent.com/a-/AAuE7mCT3Fx-iOuTA6Pj1ltySexlcUpy8kFQ-XpcfzQZ=s64",
      "userId": "16923104043717379311"
     },
     "user_tz": -420
    },
    "id": "SFYVK3CWkZ_q",
    "outputId": "a058c137-bc55-44f3-8d7c-8ed324b9cdcd"
   },
   "outputs": [
    {
     "data": {
      "image/png": "[encoded data removed]",
      "text/plain": [
       "<Figure size 1296x1080 with 3 Axes>"
      ]
     },
     "metadata": {},
     "output_type": "display_data"
    }
   ],
   "source": [
    "plt.figure(figsize = (18, 15))\n",
    "for i in range(len(dfCon)):\n",
    "  plt.subplot(1, 3, i+1)\n",
    "  plt.title(dfCon.index[i])\n",
    "  plt.pie((dfCon['Yes'][i], dfCon['No'][i]), labels = ['Yes', 'No'], autopct = '%.2f')\n",
    "plt.show()"
   ]
  },
  {
   "cell_type": "code",
   "execution_count": 43,
   "metadata": {
    "colab": {
     "base_uri": "https://localhost:8080/",
     "height": 171
    },
    "colab_type": "code",
    "executionInfo": {
     "elapsed": 761,
     "status": "ok",
     "timestamp": 1582527030862,
     "user": {
      "displayName": "Rudy Harun",
      "photoUrl": "https://lh3.googleusercontent.com/a-/AAuE7mCT3Fx-iOuTA6Pj1ltySexlcUpy8kFQ-XpcfzQZ=s64",
      "userId": "16923104043717379311"
     },
     "user_tz": -420
    },
    "id": "lUhCJ1cPkMb6",
    "outputId": "b782fa31-e28b-479d-ea06-14c75dbf8498"
   },
   "outputs": [
    {
     "data": {
      "text/html": [
       "<div>\n",
       "<style scoped>\n",
       "    .dataframe tbody tr th:only-of-type {\n",
       "        vertical-align: middle;\n",
       "    }\n",
       "\n",
       "    .dataframe tbody tr th {\n",
       "        vertical-align: top;\n",
       "    }\n",
       "\n",
       "    .dataframe thead th {\n",
       "        text-align: right;\n",
       "    }\n",
       "</style>\n",
       "<table border=\"1\" class=\"dataframe\">\n",
       "  <thead>\n",
       "    <tr style=\"text-align: right;\">\n",
       "      <th></th>\n",
       "      <th>Yes</th>\n",
       "      <th>No</th>\n",
       "      <th>% Yes</th>\n",
       "      <th>% No</th>\n",
       "    </tr>\n",
       "  </thead>\n",
       "  <tbody>\n",
       "    <tr>\n",
       "      <th>unknown</th>\n",
       "      <td>3386</td>\n",
       "      <td>4940</td>\n",
       "      <td>40.67</td>\n",
       "      <td>59.33</td>\n",
       "    </tr>\n",
       "    <tr>\n",
       "      <th>success</th>\n",
       "      <td>978</td>\n",
       "      <td>93</td>\n",
       "      <td>91.32</td>\n",
       "      <td>8.68</td>\n",
       "    </tr>\n",
       "    <tr>\n",
       "      <th>failure</th>\n",
       "      <td>618</td>\n",
       "      <td>610</td>\n",
       "      <td>50.33</td>\n",
       "      <td>49.67</td>\n",
       "    </tr>\n",
       "    <tr>\n",
       "      <th>other</th>\n",
       "      <td>307</td>\n",
       "      <td>230</td>\n",
       "      <td>57.17</td>\n",
       "      <td>42.83</td>\n",
       "    </tr>\n",
       "  </tbody>\n",
       "</table>\n",
       "</div>"
      ],
      "text/plain": [
       "          Yes    No  % Yes   % No\n",
       "unknown  3386  4940  40.67  59.33\n",
       "success   978    93  91.32   8.68\n",
       "failure   618   610  50.33  49.67\n",
       "other     307   230  57.17  42.83"
      ]
     },
     "execution_count": 43,
     "metadata": {},
     "output_type": "execute_result"
    }
   ],
   "source": [
    "valYes = bankYes.loc[:, pot].value_counts()\n",
    "valNo = bankNo.loc[:, pot].value_counts()\n",
    "\n",
    "dfPot = pd.DataFrame()\n",
    "dfPot['Yes'] = valYes\n",
    "dfPot['No'] = valNo\n",
    "dfPot['% Yes'] = round((valYes * 100 / (valYes + valNo)), 2)\n",
    "dfPot['% No'] = round((valNo * 100 / (valYes + valNo)), 2)\n",
    "dfPot"
   ]
  },
  {
   "cell_type": "code",
   "execution_count": 44,
   "metadata": {
    "colab": {
     "base_uri": "https://localhost:8080/",
     "height": 265
    },
    "colab_type": "code",
    "executionInfo": {
     "elapsed": 1283,
     "status": "ok",
     "timestamp": 1582527033957,
     "user": {
      "displayName": "Rudy Harun",
      "photoUrl": "https://lh3.googleusercontent.com/a-/AAuE7mCT3Fx-iOuTA6Pj1ltySexlcUpy8kFQ-XpcfzQZ=s64",
      "userId": "16923104043717379311"
     },
     "user_tz": -420
    },
    "id": "4ZtQR0pOkVfS",
    "outputId": "ce5a317d-600d-482f-ec80-bc3a3c8606fc"
   },
   "outputs": [
    {
     "data": {
      "image/png": "[encoded data removed]",
      "text/plain": [
       "<Figure size 1296x1080 with 4 Axes>"
      ]
     },
     "metadata": {},
     "output_type": "display_data"
    }
   ],
   "source": [
    "plt.figure(figsize = (18, 15))\n",
    "for i in range(len(dfPot)):\n",
    "  plt.subplot(1, 4, i+1)\n",
    "  plt.title(dfPot.index[i])\n",
    "  plt.pie((dfPot['Yes'][i], dfPot['No'][i]), labels = ['Yes', 'No'], autopct = '%.2f')\n",
    "plt.show()"
   ]
  },
  {
   "cell_type": "markdown",
   "metadata": {},
   "source": [
    "PERBANDINGAN MONTH TERHADAP DEPOSIT"
   ]
  },
  {
   "cell_type": "code",
   "execution_count": 45,
   "metadata": {
    "colab": {
     "base_uri": "https://localhost:8080/",
     "height": 411
    },
    "colab_type": "code",
    "executionInfo": {
     "elapsed": 1297,
     "status": "ok",
     "timestamp": 1582527084446,
     "user": {
      "displayName": "Rudy Harun",
      "photoUrl": "https://lh3.googleusercontent.com/a-/AAuE7mCT3Fx-iOuTA6Pj1ltySexlcUpy8kFQ-XpcfzQZ=s64",
      "userId": "16923104043717379311"
     },
     "user_tz": -420
    },
    "id": "inkHYOw8kuii",
    "outputId": "d88f8cee-b6a0-4e43-c98d-ab33df5f25a9"
   },
   "outputs": [
    {
     "data": {
      "text/plain": [
       "<matplotlib.axes._subplots.AxesSubplot at 0x172d794ce88>"
      ]
     },
     "execution_count": 45,
     "metadata": {},
     "output_type": "execute_result"
    },
    {
     "data": {
      "image/png": "[encoded data removed]",
      "text/plain": [
       "<Figure size 1296x432 with 1 Axes>"
      ]
     },
     "metadata": {},
     "output_type": "display_data"
    }
   ],
   "source": [
    "plt.figure(figsize = (18, 6))\n",
    "sb.countplot(x = mon, hue = 'deposit', data = bank, palette = 'Set2')"
   ]
  },
  {
   "cell_type": "code",
   "execution_count": 46,
   "metadata": {
    "colab": {
     "base_uri": "https://localhost:8080/",
     "height": 417
    },
    "colab_type": "code",
    "executionInfo": {
     "elapsed": 827,
     "status": "ok",
     "timestamp": 1582527088656,
     "user": {
      "displayName": "Rudy Harun",
      "photoUrl": "https://lh3.googleusercontent.com/a-/AAuE7mCT3Fx-iOuTA6Pj1ltySexlcUpy8kFQ-XpcfzQZ=s64",
      "userId": "16923104043717379311"
     },
     "user_tz": -420
    },
    "id": "1d1e62Knk9k4",
    "outputId": "72b8f531-26ad-475e-ec19-43f66b2e2827"
   },
   "outputs": [
    {
     "data": {
      "text/html": [
       "<div>\n",
       "<style scoped>\n",
       "    .dataframe tbody tr th:only-of-type {\n",
       "        vertical-align: middle;\n",
       "    }\n",
       "\n",
       "    .dataframe tbody tr th {\n",
       "        vertical-align: top;\n",
       "    }\n",
       "\n",
       "    .dataframe thead th {\n",
       "        text-align: right;\n",
       "    }\n",
       "</style>\n",
       "<table border=\"1\" class=\"dataframe\">\n",
       "  <thead>\n",
       "    <tr style=\"text-align: right;\">\n",
       "      <th></th>\n",
       "      <th>Yes</th>\n",
       "      <th>No</th>\n",
       "      <th>% Yes</th>\n",
       "      <th>% No</th>\n",
       "    </tr>\n",
       "  </thead>\n",
       "  <tbody>\n",
       "    <tr>\n",
       "      <th>may</th>\n",
       "      <td>925</td>\n",
       "      <td>1899</td>\n",
       "      <td>32.75</td>\n",
       "      <td>67.25</td>\n",
       "    </tr>\n",
       "    <tr>\n",
       "      <th>aug</th>\n",
       "      <td>688</td>\n",
       "      <td>831</td>\n",
       "      <td>45.29</td>\n",
       "      <td>54.71</td>\n",
       "    </tr>\n",
       "    <tr>\n",
       "      <th>jul</th>\n",
       "      <td>627</td>\n",
       "      <td>887</td>\n",
       "      <td>41.41</td>\n",
       "      <td>58.59</td>\n",
       "    </tr>\n",
       "    <tr>\n",
       "      <th>apr</th>\n",
       "      <td>577</td>\n",
       "      <td>346</td>\n",
       "      <td>62.51</td>\n",
       "      <td>37.49</td>\n",
       "    </tr>\n",
       "    <tr>\n",
       "      <th>jun</th>\n",
       "      <td>546</td>\n",
       "      <td>676</td>\n",
       "      <td>44.68</td>\n",
       "      <td>55.32</td>\n",
       "    </tr>\n",
       "    <tr>\n",
       "      <th>feb</th>\n",
       "      <td>441</td>\n",
       "      <td>335</td>\n",
       "      <td>56.83</td>\n",
       "      <td>43.17</td>\n",
       "    </tr>\n",
       "    <tr>\n",
       "      <th>nov</th>\n",
       "      <td>403</td>\n",
       "      <td>540</td>\n",
       "      <td>42.74</td>\n",
       "      <td>57.26</td>\n",
       "    </tr>\n",
       "    <tr>\n",
       "      <th>oct</th>\n",
       "      <td>323</td>\n",
       "      <td>69</td>\n",
       "      <td>82.40</td>\n",
       "      <td>17.60</td>\n",
       "    </tr>\n",
       "    <tr>\n",
       "      <th>sep</th>\n",
       "      <td>269</td>\n",
       "      <td>50</td>\n",
       "      <td>84.33</td>\n",
       "      <td>15.67</td>\n",
       "    </tr>\n",
       "    <tr>\n",
       "      <th>mar</th>\n",
       "      <td>248</td>\n",
       "      <td>28</td>\n",
       "      <td>89.86</td>\n",
       "      <td>10.14</td>\n",
       "    </tr>\n",
       "    <tr>\n",
       "      <th>jan</th>\n",
       "      <td>142</td>\n",
       "      <td>202</td>\n",
       "      <td>41.28</td>\n",
       "      <td>58.72</td>\n",
       "    </tr>\n",
       "    <tr>\n",
       "      <th>dec</th>\n",
       "      <td>100</td>\n",
       "      <td>10</td>\n",
       "      <td>90.91</td>\n",
       "      <td>9.09</td>\n",
       "    </tr>\n",
       "  </tbody>\n",
       "</table>\n",
       "</div>"
      ],
      "text/plain": [
       "     Yes    No  % Yes   % No\n",
       "may  925  1899  32.75  67.25\n",
       "aug  688   831  45.29  54.71\n",
       "jul  627   887  41.41  58.59\n",
       "apr  577   346  62.51  37.49\n",
       "jun  546   676  44.68  55.32\n",
       "feb  441   335  56.83  43.17\n",
       "nov  403   540  42.74  57.26\n",
       "oct  323    69  82.40  17.60\n",
       "sep  269    50  84.33  15.67\n",
       "mar  248    28  89.86  10.14\n",
       "jan  142   202  41.28  58.72\n",
       "dec  100    10  90.91   9.09"
      ]
     },
     "execution_count": 46,
     "metadata": {},
     "output_type": "execute_result"
    }
   ],
   "source": [
    "valYes = bankYes.loc[:, mon].value_counts()\n",
    "valNo = bankNo.loc[:, mon].value_counts()\n",
    "\n",
    "dfMon = pd.DataFrame()\n",
    "dfMon['Yes'] = valYes\n",
    "dfMon['No'] = valNo\n",
    "dfMon['% Yes'] = round((valYes / (valYes + valNo)) * 100, 2)\n",
    "dfMon['% No'] = round((valNo / (valYes + valNo)) * 100, 2)\n",
    "dfMon"
   ]
  },
  {
   "cell_type": "markdown",
   "metadata": {},
   "source": [
    "TOP 5 MONTH"
   ]
  },
  {
   "cell_type": "code",
   "execution_count": 47,
   "metadata": {
    "colab": {
     "base_uri": "https://localhost:8080/",
     "height": 220
    },
    "colab_type": "code",
    "executionInfo": {
     "elapsed": 1374,
     "status": "ok",
     "timestamp": 1582527092114,
     "user": {
      "displayName": "Rudy Harun",
      "photoUrl": "https://lh3.googleusercontent.com/a-/AAuE7mCT3Fx-iOuTA6Pj1ltySexlcUpy8kFQ-XpcfzQZ=s64",
      "userId": "16923104043717379311"
     },
     "user_tz": -420
    },
    "id": "UNzyYmrUlRn4",
    "outputId": "795f9972-b9d5-4480-c916-c8753b3d68ea"
   },
   "outputs": [
    {
     "data": {
      "image/png": "[encoded data removed]",
      "text/plain": [
       "<Figure size 1296x1080 with 5 Axes>"
      ]
     },
     "metadata": {},
     "output_type": "display_data"
    }
   ],
   "source": [
    "plt.figure(figsize = (18, 15))\n",
    "for i in range(len(dfMon.head())):\n",
    "  plt.subplot(1, 5, i+1)\n",
    "  plt.title(dfMon.head().index[i])\n",
    "  plt.pie((dfMon.head()['Yes'][i], dfMon.head()['No'][i]), labels= ['Yes', 'No'], autopct= '%.2f')\n",
    "plt.show()"
   ]
  },
  {
   "cell_type": "markdown",
   "metadata": {},
   "source": [
    "MEMPERSIAPKAN DATA UNTUK MACHINE LEARNING"
   ]
  },
  {
   "cell_type": "code",
   "execution_count": 48,
   "metadata": {
    "colab": {
     "base_uri": "https://localhost:8080/",
     "height": 202
    },
    "colab_type": "code",
    "executionInfo": {
     "elapsed": 825,
     "status": "ok",
     "timestamp": 1582527297231,
     "user": {
      "displayName": "Rudy Harun",
      "photoUrl": "https://lh3.googleusercontent.com/a-/AAuE7mCT3Fx-iOuTA6Pj1ltySexlcUpy8kFQ-XpcfzQZ=s64",
      "userId": "16923104043717379311"
     },
     "user_tz": -420
    },
    "id": "iJ5S48SjleQG",
    "outputId": "8f068106-8cd5-49cf-b10a-da38f95f389d"
   },
   "outputs": [
    {
     "data": {
      "text/html": [
       "<div>\n",
       "<style scoped>\n",
       "    .dataframe tbody tr th:only-of-type {\n",
       "        vertical-align: middle;\n",
       "    }\n",
       "\n",
       "    .dataframe tbody tr th {\n",
       "        vertical-align: top;\n",
       "    }\n",
       "\n",
       "    .dataframe thead th {\n",
       "        text-align: right;\n",
       "    }\n",
       "</style>\n",
       "<table border=\"1\" class=\"dataframe\">\n",
       "  <thead>\n",
       "    <tr style=\"text-align: right;\">\n",
       "      <th></th>\n",
       "      <th>age</th>\n",
       "      <th>job</th>\n",
       "      <th>marital</th>\n",
       "      <th>education</th>\n",
       "      <th>default</th>\n",
       "      <th>balance</th>\n",
       "      <th>housing</th>\n",
       "      <th>loan</th>\n",
       "      <th>contact</th>\n",
       "      <th>month</th>\n",
       "      <th>duration</th>\n",
       "      <th>campaign</th>\n",
       "      <th>deposit_rate</th>\n",
       "    </tr>\n",
       "  </thead>\n",
       "  <tbody>\n",
       "    <tr>\n",
       "      <th>0</th>\n",
       "      <td>59</td>\n",
       "      <td>admin.</td>\n",
       "      <td>married</td>\n",
       "      <td>secondary</td>\n",
       "      <td>no</td>\n",
       "      <td>2343</td>\n",
       "      <td>yes</td>\n",
       "      <td>no</td>\n",
       "      <td>unknown</td>\n",
       "      <td>may</td>\n",
       "      <td>1042</td>\n",
       "      <td>1</td>\n",
       "      <td>1</td>\n",
       "    </tr>\n",
       "    <tr>\n",
       "      <th>1</th>\n",
       "      <td>56</td>\n",
       "      <td>admin.</td>\n",
       "      <td>married</td>\n",
       "      <td>secondary</td>\n",
       "      <td>no</td>\n",
       "      <td>45</td>\n",
       "      <td>no</td>\n",
       "      <td>no</td>\n",
       "      <td>unknown</td>\n",
       "      <td>may</td>\n",
       "      <td>1467</td>\n",
       "      <td>1</td>\n",
       "      <td>1</td>\n",
       "    </tr>\n",
       "    <tr>\n",
       "      <th>2</th>\n",
       "      <td>41</td>\n",
       "      <td>technician</td>\n",
       "      <td>married</td>\n",
       "      <td>secondary</td>\n",
       "      <td>no</td>\n",
       "      <td>1270</td>\n",
       "      <td>yes</td>\n",
       "      <td>no</td>\n",
       "      <td>unknown</td>\n",
       "      <td>may</td>\n",
       "      <td>1389</td>\n",
       "      <td>1</td>\n",
       "      <td>1</td>\n",
       "    </tr>\n",
       "    <tr>\n",
       "      <th>3</th>\n",
       "      <td>55</td>\n",
       "      <td>services</td>\n",
       "      <td>married</td>\n",
       "      <td>secondary</td>\n",
       "      <td>no</td>\n",
       "      <td>2476</td>\n",
       "      <td>yes</td>\n",
       "      <td>no</td>\n",
       "      <td>unknown</td>\n",
       "      <td>may</td>\n",
       "      <td>579</td>\n",
       "      <td>1</td>\n",
       "      <td>1</td>\n",
       "    </tr>\n",
       "    <tr>\n",
       "      <th>4</th>\n",
       "      <td>54</td>\n",
       "      <td>admin.</td>\n",
       "      <td>married</td>\n",
       "      <td>tertiary</td>\n",
       "      <td>no</td>\n",
       "      <td>184</td>\n",
       "      <td>no</td>\n",
       "      <td>no</td>\n",
       "      <td>unknown</td>\n",
       "      <td>may</td>\n",
       "      <td>673</td>\n",
       "      <td>2</td>\n",
       "      <td>1</td>\n",
       "    </tr>\n",
       "  </tbody>\n",
       "</table>\n",
       "</div>"
      ],
      "text/plain": [
       "   age         job  marital  education default  balance housing loan  contact  \\\n",
       "0   59      admin.  married  secondary      no     2343     yes   no  unknown   \n",
       "1   56      admin.  married  secondary      no       45      no   no  unknown   \n",
       "2   41  technician  married  secondary      no     1270     yes   no  unknown   \n",
       "3   55    services  married  secondary      no     2476     yes   no  unknown   \n",
       "4   54      admin.  married   tertiary      no      184      no   no  unknown   \n",
       "\n",
       "  month  duration  campaign  deposit_rate  \n",
       "0   may      1042         1             1  \n",
       "1   may      1467         1             1  \n",
       "2   may      1389         1             1  \n",
       "3   may       579         1             1  \n",
       "4   may       673         2             1  "
      ]
     },
     "execution_count": 48,
     "metadata": {},
     "output_type": "execute_result"
    }
   ],
   "source": [
    "bankDrop = bank.drop(['day', 'pdays', 'previous', 'poutcome', 'deposit'], axis = 1)\n",
    "bankDrop.head()"
   ]
  },
  {
   "cell_type": "markdown",
   "metadata": {},
   "source": [
    "DROP DEPOSIT SEBAGAI TARGET, BUAT DUMMIES UNTUK DATA CATEGORICAL"
   ]
  },
  {
   "cell_type": "code",
   "execution_count": 49,
   "metadata": {
    "colab": {},
    "colab_type": "code",
    "id": "U9LHHM1e-ekq"
   },
   "outputs": [],
   "source": [
    "y = bankDrop['deposit_rate']\n",
    "X = pd.get_dummies(bankDrop.drop(['deposit_rate'], axis = 1))"
   ]
  },
  {
   "cell_type": "code",
   "execution_count": 50,
   "metadata": {
    "colab": {
     "base_uri": "https://localhost:8080/",
     "height": 225
    },
    "colab_type": "code",
    "executionInfo": {
     "elapsed": 872,
     "status": "ok",
     "timestamp": 1582527460259,
     "user": {
      "displayName": "Rudy Harun",
      "photoUrl": "https://lh3.googleusercontent.com/a-/AAuE7mCT3Fx-iOuTA6Pj1ltySexlcUpy8kFQ-XpcfzQZ=s64",
      "userId": "16923104043717379311"
     },
     "user_tz": -420
    },
    "id": "RpRBKrSt_BeD",
    "outputId": "2e7f9624-286b-4824-f4d2-242d3cb508c5"
   },
   "outputs": [
    {
     "data": {
      "text/plain": [
       "0        1\n",
       "1        1\n",
       "2        1\n",
       "3        1\n",
       "4        1\n",
       "        ..\n",
       "11157    0\n",
       "11158    0\n",
       "11159    0\n",
       "11160    0\n",
       "11161    0\n",
       "Name: deposit_rate, Length: 11162, dtype: int64"
      ]
     },
     "execution_count": 50,
     "metadata": {},
     "output_type": "execute_result"
    }
   ],
   "source": [
    "y"
   ]
  },
  {
   "cell_type": "code",
   "execution_count": 51,
   "metadata": {
    "colab": {
     "base_uri": "https://localhost:8080/",
     "height": 453
    },
    "colab_type": "code",
    "executionInfo": {
     "elapsed": 560,
     "status": "ok",
     "timestamp": 1582527461304,
     "user": {
      "displayName": "Rudy Harun",
      "photoUrl": "https://lh3.googleusercontent.com/a-/AAuE7mCT3Fx-iOuTA6Pj1ltySexlcUpy8kFQ-XpcfzQZ=s64",
      "userId": "16923104043717379311"
     },
     "user_tz": -420
    },
    "id": "sGXhP-2M_CGV",
    "outputId": "c4be37f9-05d8-428c-9e52-0a7d89412efb"
   },
   "outputs": [
    {
     "data": {
      "text/html": [
       "<div>\n",
       "<style scoped>\n",
       "    .dataframe tbody tr th:only-of-type {\n",
       "        vertical-align: middle;\n",
       "    }\n",
       "\n",
       "    .dataframe tbody tr th {\n",
       "        vertical-align: top;\n",
       "    }\n",
       "\n",
       "    .dataframe thead th {\n",
       "        text-align: right;\n",
       "    }\n",
       "</style>\n",
       "<table border=\"1\" class=\"dataframe\">\n",
       "  <thead>\n",
       "    <tr style=\"text-align: right;\">\n",
       "      <th></th>\n",
       "      <th>age</th>\n",
       "      <th>balance</th>\n",
       "      <th>duration</th>\n",
       "      <th>campaign</th>\n",
       "      <th>job_admin.</th>\n",
       "      <th>job_blue-collar</th>\n",
       "      <th>job_entrepreneur</th>\n",
       "      <th>job_housemaid</th>\n",
       "      <th>job_management</th>\n",
       "      <th>job_retired</th>\n",
       "      <th>...</th>\n",
       "      <th>month_dec</th>\n",
       "      <th>month_feb</th>\n",
       "      <th>month_jan</th>\n",
       "      <th>month_jul</th>\n",
       "      <th>month_jun</th>\n",
       "      <th>month_mar</th>\n",
       "      <th>month_may</th>\n",
       "      <th>month_nov</th>\n",
       "      <th>month_oct</th>\n",
       "      <th>month_sep</th>\n",
       "    </tr>\n",
       "  </thead>\n",
       "  <tbody>\n",
       "    <tr>\n",
       "      <th>0</th>\n",
       "      <td>59</td>\n",
       "      <td>2343</td>\n",
       "      <td>1042</td>\n",
       "      <td>1</td>\n",
       "      <td>1</td>\n",
       "      <td>0</td>\n",
       "      <td>0</td>\n",
       "      <td>0</td>\n",
       "      <td>0</td>\n",
       "      <td>0</td>\n",
       "      <td>...</td>\n",
       "      <td>0</td>\n",
       "      <td>0</td>\n",
       "      <td>0</td>\n",
       "      <td>0</td>\n",
       "      <td>0</td>\n",
       "      <td>0</td>\n",
       "      <td>1</td>\n",
       "      <td>0</td>\n",
       "      <td>0</td>\n",
       "      <td>0</td>\n",
       "    </tr>\n",
       "    <tr>\n",
       "      <th>1</th>\n",
       "      <td>56</td>\n",
       "      <td>45</td>\n",
       "      <td>1467</td>\n",
       "      <td>1</td>\n",
       "      <td>1</td>\n",
       "      <td>0</td>\n",
       "      <td>0</td>\n",
       "      <td>0</td>\n",
       "      <td>0</td>\n",
       "      <td>0</td>\n",
       "      <td>...</td>\n",
       "      <td>0</td>\n",
       "      <td>0</td>\n",
       "      <td>0</td>\n",
       "      <td>0</td>\n",
       "      <td>0</td>\n",
       "      <td>0</td>\n",
       "      <td>1</td>\n",
       "      <td>0</td>\n",
       "      <td>0</td>\n",
       "      <td>0</td>\n",
       "    </tr>\n",
       "    <tr>\n",
       "      <th>2</th>\n",
       "      <td>41</td>\n",
       "      <td>1270</td>\n",
       "      <td>1389</td>\n",
       "      <td>1</td>\n",
       "      <td>0</td>\n",
       "      <td>0</td>\n",
       "      <td>0</td>\n",
       "      <td>0</td>\n",
       "      <td>0</td>\n",
       "      <td>0</td>\n",
       "      <td>...</td>\n",
       "      <td>0</td>\n",
       "      <td>0</td>\n",
       "      <td>0</td>\n",
       "      <td>0</td>\n",
       "      <td>0</td>\n",
       "      <td>0</td>\n",
       "      <td>1</td>\n",
       "      <td>0</td>\n",
       "      <td>0</td>\n",
       "      <td>0</td>\n",
       "    </tr>\n",
       "    <tr>\n",
       "      <th>3</th>\n",
       "      <td>55</td>\n",
       "      <td>2476</td>\n",
       "      <td>579</td>\n",
       "      <td>1</td>\n",
       "      <td>0</td>\n",
       "      <td>0</td>\n",
       "      <td>0</td>\n",
       "      <td>0</td>\n",
       "      <td>0</td>\n",
       "      <td>0</td>\n",
       "      <td>...</td>\n",
       "      <td>0</td>\n",
       "      <td>0</td>\n",
       "      <td>0</td>\n",
       "      <td>0</td>\n",
       "      <td>0</td>\n",
       "      <td>0</td>\n",
       "      <td>1</td>\n",
       "      <td>0</td>\n",
       "      <td>0</td>\n",
       "      <td>0</td>\n",
       "    </tr>\n",
       "    <tr>\n",
       "      <th>4</th>\n",
       "      <td>54</td>\n",
       "      <td>184</td>\n",
       "      <td>673</td>\n",
       "      <td>2</td>\n",
       "      <td>1</td>\n",
       "      <td>0</td>\n",
       "      <td>0</td>\n",
       "      <td>0</td>\n",
       "      <td>0</td>\n",
       "      <td>0</td>\n",
       "      <td>...</td>\n",
       "      <td>0</td>\n",
       "      <td>0</td>\n",
       "      <td>0</td>\n",
       "      <td>0</td>\n",
       "      <td>0</td>\n",
       "      <td>0</td>\n",
       "      <td>1</td>\n",
       "      <td>0</td>\n",
       "      <td>0</td>\n",
       "      <td>0</td>\n",
       "    </tr>\n",
       "    <tr>\n",
       "      <th>...</th>\n",
       "      <td>...</td>\n",
       "      <td>...</td>\n",
       "      <td>...</td>\n",
       "      <td>...</td>\n",
       "      <td>...</td>\n",
       "      <td>...</td>\n",
       "      <td>...</td>\n",
       "      <td>...</td>\n",
       "      <td>...</td>\n",
       "      <td>...</td>\n",
       "      <td>...</td>\n",
       "      <td>...</td>\n",
       "      <td>...</td>\n",
       "      <td>...</td>\n",
       "      <td>...</td>\n",
       "      <td>...</td>\n",
       "      <td>...</td>\n",
       "      <td>...</td>\n",
       "      <td>...</td>\n",
       "      <td>...</td>\n",
       "      <td>...</td>\n",
       "    </tr>\n",
       "    <tr>\n",
       "      <th>11157</th>\n",
       "      <td>33</td>\n",
       "      <td>1</td>\n",
       "      <td>257</td>\n",
       "      <td>1</td>\n",
       "      <td>0</td>\n",
       "      <td>1</td>\n",
       "      <td>0</td>\n",
       "      <td>0</td>\n",
       "      <td>0</td>\n",
       "      <td>0</td>\n",
       "      <td>...</td>\n",
       "      <td>0</td>\n",
       "      <td>0</td>\n",
       "      <td>0</td>\n",
       "      <td>0</td>\n",
       "      <td>0</td>\n",
       "      <td>0</td>\n",
       "      <td>0</td>\n",
       "      <td>0</td>\n",
       "      <td>0</td>\n",
       "      <td>0</td>\n",
       "    </tr>\n",
       "    <tr>\n",
       "      <th>11158</th>\n",
       "      <td>39</td>\n",
       "      <td>733</td>\n",
       "      <td>83</td>\n",
       "      <td>4</td>\n",
       "      <td>0</td>\n",
       "      <td>0</td>\n",
       "      <td>0</td>\n",
       "      <td>0</td>\n",
       "      <td>0</td>\n",
       "      <td>0</td>\n",
       "      <td>...</td>\n",
       "      <td>0</td>\n",
       "      <td>0</td>\n",
       "      <td>0</td>\n",
       "      <td>0</td>\n",
       "      <td>1</td>\n",
       "      <td>0</td>\n",
       "      <td>0</td>\n",
       "      <td>0</td>\n",
       "      <td>0</td>\n",
       "      <td>0</td>\n",
       "    </tr>\n",
       "    <tr>\n",
       "      <th>11159</th>\n",
       "      <td>32</td>\n",
       "      <td>29</td>\n",
       "      <td>156</td>\n",
       "      <td>2</td>\n",
       "      <td>0</td>\n",
       "      <td>0</td>\n",
       "      <td>0</td>\n",
       "      <td>0</td>\n",
       "      <td>0</td>\n",
       "      <td>0</td>\n",
       "      <td>...</td>\n",
       "      <td>0</td>\n",
       "      <td>0</td>\n",
       "      <td>0</td>\n",
       "      <td>0</td>\n",
       "      <td>0</td>\n",
       "      <td>0</td>\n",
       "      <td>0</td>\n",
       "      <td>0</td>\n",
       "      <td>0</td>\n",
       "      <td>0</td>\n",
       "    </tr>\n",
       "    <tr>\n",
       "      <th>11160</th>\n",
       "      <td>43</td>\n",
       "      <td>0</td>\n",
       "      <td>9</td>\n",
       "      <td>2</td>\n",
       "      <td>0</td>\n",
       "      <td>0</td>\n",
       "      <td>0</td>\n",
       "      <td>0</td>\n",
       "      <td>0</td>\n",
       "      <td>0</td>\n",
       "      <td>...</td>\n",
       "      <td>0</td>\n",
       "      <td>0</td>\n",
       "      <td>0</td>\n",
       "      <td>0</td>\n",
       "      <td>0</td>\n",
       "      <td>0</td>\n",
       "      <td>1</td>\n",
       "      <td>0</td>\n",
       "      <td>0</td>\n",
       "      <td>0</td>\n",
       "    </tr>\n",
       "    <tr>\n",
       "      <th>11161</th>\n",
       "      <td>34</td>\n",
       "      <td>0</td>\n",
       "      <td>628</td>\n",
       "      <td>1</td>\n",
       "      <td>0</td>\n",
       "      <td>0</td>\n",
       "      <td>0</td>\n",
       "      <td>0</td>\n",
       "      <td>0</td>\n",
       "      <td>0</td>\n",
       "      <td>...</td>\n",
       "      <td>0</td>\n",
       "      <td>0</td>\n",
       "      <td>0</td>\n",
       "      <td>1</td>\n",
       "      <td>0</td>\n",
       "      <td>0</td>\n",
       "      <td>0</td>\n",
       "      <td>0</td>\n",
       "      <td>0</td>\n",
       "      <td>0</td>\n",
       "    </tr>\n",
       "  </tbody>\n",
       "</table>\n",
       "<p>11162 rows × 44 columns</p>\n",
       "</div>"
      ],
      "text/plain": [
       "       age  balance  duration  campaign  job_admin.  job_blue-collar  \\\n",
       "0       59     2343      1042         1           1                0   \n",
       "1       56       45      1467         1           1                0   \n",
       "2       41     1270      1389         1           0                0   \n",
       "3       55     2476       579         1           0                0   \n",
       "4       54      184       673         2           1                0   \n",
       "...    ...      ...       ...       ...         ...              ...   \n",
       "11157   33        1       257         1           0                1   \n",
       "11158   39      733        83         4           0                0   \n",
       "11159   32       29       156         2           0                0   \n",
       "11160   43        0         9         2           0                0   \n",
       "11161   34        0       628         1           0                0   \n",
       "\n",
       "       job_entrepreneur  job_housemaid  job_management  job_retired  ...  \\\n",
       "0                     0              0               0            0  ...   \n",
       "1                     0              0               0            0  ...   \n",
       "2                     0              0               0            0  ...   \n",
       "3                     0              0               0            0  ...   \n",
       "4                     0              0               0            0  ...   \n",
       "...                 ...            ...             ...          ...  ...   \n",
       "11157                 0              0               0            0  ...   \n",
       "11158                 0              0               0            0  ...   \n",
       "11159                 0              0               0            0  ...   \n",
       "11160                 0              0               0            0  ...   \n",
       "11161                 0              0               0            0  ...   \n",
       "\n",
       "       month_dec  month_feb  month_jan  month_jul  month_jun  month_mar  \\\n",
       "0              0          0          0          0          0          0   \n",
       "1              0          0          0          0          0          0   \n",
       "2              0          0          0          0          0          0   \n",
       "3              0          0          0          0          0          0   \n",
       "4              0          0          0          0          0          0   \n",
       "...          ...        ...        ...        ...        ...        ...   \n",
       "11157          0          0          0          0          0          0   \n",
       "11158          0          0          0          0          1          0   \n",
       "11159          0          0          0          0          0          0   \n",
       "11160          0          0          0          0          0          0   \n",
       "11161          0          0          0          1          0          0   \n",
       "\n",
       "       month_may  month_nov  month_oct  month_sep  \n",
       "0              1          0          0          0  \n",
       "1              1          0          0          0  \n",
       "2              1          0          0          0  \n",
       "3              1          0          0          0  \n",
       "4              1          0          0          0  \n",
       "...          ...        ...        ...        ...  \n",
       "11157          0          0          0          0  \n",
       "11158          0          0          0          0  \n",
       "11159          0          0          0          0  \n",
       "11160          1          0          0          0  \n",
       "11161          0          0          0          0  \n",
       "\n",
       "[11162 rows x 44 columns]"
      ]
     },
     "execution_count": 51,
     "metadata": {},
     "output_type": "execute_result"
    }
   ],
   "source": [
    "X"
   ]
  },
  {
   "cell_type": "code",
   "execution_count": 52,
   "metadata": {
    "colab": {},
    "colab_type": "code",
    "id": "uZ_jzveg_b9s"
   },
   "outputs": [],
   "source": [
    "from sklearn.model_selection import train_test_split as tts\n",
    "from sklearn.linear_model import LogisticRegression as lr\n",
    "from sklearn.tree import DecisionTreeClassifier as dt\n",
    "from sklearn.ensemble import RandomForestClassifier as rf\n",
    "from sklearn.model_selection import cross_val_score as cvs\n",
    "from sklearn.model_selection import RandomizedSearchCV as rscv\n",
    "import warnings\n",
    "warnings.filterwarnings('ignore')"
   ]
  },
  {
   "cell_type": "markdown",
   "metadata": {},
   "source": [
    "SPLIT DAN TRAIN DATA"
   ]
  },
  {
   "cell_type": "code",
   "execution_count": 53,
   "metadata": {
    "colab": {},
    "colab_type": "code",
    "id": "tDMzuJFCBuVE"
   },
   "outputs": [],
   "source": [
    "Xtr, Xts, ytr, yts = tts(X, y, test_size = .2, random_state = 42)"
   ]
  },
  {
   "cell_type": "code",
   "execution_count": 54,
   "metadata": {
    "colab": {
     "base_uri": "https://localhost:8080/",
     "height": 156
    },
    "colab_type": "code",
    "executionInfo": {
     "elapsed": 2419,
     "status": "ok",
     "timestamp": 1582532544422,
     "user": {
      "displayName": "Rudy Harun",
      "photoUrl": "https://lh3.googleusercontent.com/a-/AAuE7mCT3Fx-iOuTA6Pj1ltySexlcUpy8kFQ-XpcfzQZ=s64",
      "userId": "16923104043717379311"
     },
     "user_tz": -420
    },
    "id": "Fy_Adns4CQOk",
    "outputId": "5f058f40-04ef-43a8-8c31-d8acb9206226"
   },
   "outputs": [
    {
     "data": {
      "text/plain": [
       "RandomForestClassifier(bootstrap=True, ccp_alpha=0.0, class_weight=None,\n",
       "                       criterion='gini', max_depth=None, max_features='auto',\n",
       "                       max_leaf_nodes=None, max_samples=None,\n",
       "                       min_impurity_decrease=0.0, min_impurity_split=None,\n",
       "                       min_samples_leaf=1, min_samples_split=2,\n",
       "                       min_weight_fraction_leaf=0.0, n_estimators=100,\n",
       "                       n_jobs=None, oob_score=False, random_state=None,\n",
       "                       verbose=0, warm_start=False)"
      ]
     },
     "execution_count": 54,
     "metadata": {},
     "output_type": "execute_result"
    }
   ],
   "source": [
    "LR = lr()\n",
    "DT = dt()\n",
    "RF = rf()\n",
    "\n",
    "LR.fit(Xtr, ytr)\n",
    "DT.fit(Xtr, ytr)\n",
    "RF.fit(Xtr, ytr)"
   ]
  },
  {
   "cell_type": "markdown",
   "metadata": {},
   "source": [
    "RETRAIN"
   ]
  },
  {
   "cell_type": "code",
   "execution_count": 55,
   "metadata": {
    "colab": {},
    "colab_type": "code",
    "id": "cyiGJLaSD9nA"
   },
   "outputs": [],
   "source": [
    "LRCV = cvs(LR, Xtr, ytr, cv = 5, scoring = 'accuracy').mean()\n",
    "DTCV = cvs(DT, Xtr, ytr, cv = 5, scoring = 'accuracy').mean()\n",
    "RFCV = cvs(RF, Xtr, ytr, cv = 5, scoring = 'accuracy').mean()"
   ]
  },
  {
   "cell_type": "markdown",
   "metadata": {},
   "source": [
    "SCORE"
   ]
  },
  {
   "cell_type": "code",
   "execution_count": 56,
   "metadata": {
    "colab": {
     "base_uri": "https://localhost:8080/",
     "height": 141
    },
    "colab_type": "code",
    "executionInfo": {
     "elapsed": 955,
     "status": "ok",
     "timestamp": 1582532554232,
     "user": {
      "displayName": "Rudy Harun",
      "photoUrl": "https://lh3.googleusercontent.com/a-/AAuE7mCT3Fx-iOuTA6Pj1ltySexlcUpy8kFQ-XpcfzQZ=s64",
      "userId": "16923104043717379311"
     },
     "user_tz": -420
    },
    "id": "lRvWTEbrHSHL",
    "outputId": "92f6cc1c-3abc-40c2-819a-1ece9a1b05e5"
   },
   "outputs": [
    {
     "data": {
      "text/html": [
       "<div>\n",
       "<style scoped>\n",
       "    .dataframe tbody tr th:only-of-type {\n",
       "        vertical-align: middle;\n",
       "    }\n",
       "\n",
       "    .dataframe tbody tr th {\n",
       "        vertical-align: top;\n",
       "    }\n",
       "\n",
       "    .dataframe thead th {\n",
       "        text-align: right;\n",
       "    }\n",
       "</style>\n",
       "<table border=\"1\" class=\"dataframe\">\n",
       "  <thead>\n",
       "    <tr style=\"text-align: right;\">\n",
       "      <th></th>\n",
       "      <th>Models</th>\n",
       "      <th>Score</th>\n",
       "    </tr>\n",
       "  </thead>\n",
       "  <tbody>\n",
       "    <tr>\n",
       "      <th>0</th>\n",
       "      <td>Logistic Model</td>\n",
       "      <td>0.799977</td>\n",
       "    </tr>\n",
       "    <tr>\n",
       "      <th>1</th>\n",
       "      <td>Decision Tree Classifier</td>\n",
       "      <td>0.759435</td>\n",
       "    </tr>\n",
       "    <tr>\n",
       "      <th>2</th>\n",
       "      <td>Random Forest Classifier</td>\n",
       "      <td>0.829320</td>\n",
       "    </tr>\n",
       "  </tbody>\n",
       "</table>\n",
       "</div>"
      ],
      "text/plain": [
       "                     Models     Score\n",
       "0            Logistic Model  0.799977\n",
       "1  Decision Tree Classifier  0.759435\n",
       "2  Random Forest Classifier  0.829320"
      ]
     },
     "execution_count": 56,
     "metadata": {},
     "output_type": "execute_result"
    }
   ],
   "source": [
    "models = pd.DataFrame({\n",
    "                'Models': ['Logistic Model', 'Decision Tree Classifier', 'Random Forest Classifier'],\n",
    "                'Score':  [LRCV, DTCV, RFCV]})\n",
    "\n",
    "models"
   ]
  },
  {
   "cell_type": "markdown",
   "metadata": {},
   "source": [
    "HYPERPARAMETER TUNING\n",
    "\n",
    "Mencari hyperparameter terbaik untuk masing-masing model, menggunakan RandomizedSearchCV"
   ]
  },
  {
   "cell_type": "code",
   "execution_count": 57,
   "metadata": {
    "colab": {},
    "colab_type": "code",
    "id": "oZv-MW7eH17s"
   },
   "outputs": [],
   "source": [
    "parLR = {'penalty' : ['l1', 'l2', 'elasticnet', 'none'], 'solver' : ['newton-cg', 'lbfgs', 'liblinear', 'sag', 'saga'],\n",
    "         'multi_class' : ['auto', 'ovr', 'multinomial']}\n",
    "\n",
    "parDT = {'criterion' : ['gini', 'entropy'], 'splitter' : ['best', 'random'], 'max_features' : ['none', 'auto', 'sqrt', 'log2']}\n",
    "\n",
    "parRF = {'criterion':['gini','entropy'], 'max_features': ['none', 'auto', 'sqrt', 'log2'], 'warm_start' : ['True', 'False']}"
   ]
  },
  {
   "cell_type": "code",
   "execution_count": 58,
   "metadata": {
    "colab": {
     "base_uri": "https://localhost:8080/",
     "height": 347
    },
    "colab_type": "code",
    "executionInfo": {
     "elapsed": 35604,
     "status": "ok",
     "timestamp": 1582532592909,
     "user": {
      "displayName": "Rudy Harun",
      "photoUrl": "https://lh3.googleusercontent.com/a-/AAuE7mCT3Fx-iOuTA6Pj1ltySexlcUpy8kFQ-XpcfzQZ=s64",
      "userId": "16923104043717379311"
     },
     "user_tz": -420
    },
    "id": "l-OUZFecId0Z",
    "outputId": "c30aaeab-bc66-4fad-8171-d9d99c510cf9"
   },
   "outputs": [
    {
     "data": {
      "text/plain": [
       "RandomizedSearchCV(cv=5, error_score=nan,\n",
       "                   estimator=LogisticRegression(C=1.0, class_weight=None,\n",
       "                                                dual=False, fit_intercept=True,\n",
       "                                                intercept_scaling=1,\n",
       "                                                l1_ratio=None, max_iter=100,\n",
       "                                                multi_class='auto', n_jobs=None,\n",
       "                                                penalty='l2', random_state=None,\n",
       "                                                solver='lbfgs', tol=0.0001,\n",
       "                                                verbose=0, warm_start=False),\n",
       "                   iid='deprecated', n_iter=10, n_jobs=None,\n",
       "                   param_distributions={'multi_class': ['auto', 'ovr',\n",
       "                                                        'multinomial'],\n",
       "                                        'penalty': ['l1', 'l2', 'elasticnet',\n",
       "                                                    'none'],\n",
       "                                        'solver': ['newton-cg', 'lbfgs',\n",
       "                                                   'liblinear', 'sag',\n",
       "                                                   'saga']},\n",
       "                   pre_dispatch='2*n_jobs', random_state=None, refit=True,\n",
       "                   return_train_score=False, scoring=None, verbose=0)"
      ]
     },
     "execution_count": 58,
     "metadata": {},
     "output_type": "execute_result"
    }
   ],
   "source": [
    "LRrs = rscv(LR, parLR, cv = 5)\n",
    "LRrs.fit(Xtr, ytr)"
   ]
  },
  {
   "cell_type": "code",
   "execution_count": 59,
   "metadata": {
    "colab": {
     "base_uri": "https://localhost:8080/",
     "height": 399
    },
    "colab_type": "code",
    "executionInfo": {
     "elapsed": 1363,
     "status": "ok",
     "timestamp": 1582532596990,
     "user": {
      "displayName": "Rudy Harun",
      "photoUrl": "https://lh3.googleusercontent.com/a-/AAuE7mCT3Fx-iOuTA6Pj1ltySexlcUpy8kFQ-XpcfzQZ=s64",
      "userId": "16923104043717379311"
     },
     "user_tz": -420
    },
    "id": "4CGkWl6hIr-F",
    "outputId": "dc735b57-5f4a-4ea1-9796-86f1b6a3d325"
   },
   "outputs": [
    {
     "data": {
      "text/plain": [
       "RandomizedSearchCV(cv=5, error_score=nan,\n",
       "                   estimator=DecisionTreeClassifier(ccp_alpha=0.0,\n",
       "                                                    class_weight=None,\n",
       "                                                    criterion='gini',\n",
       "                                                    max_depth=None,\n",
       "                                                    max_features=None,\n",
       "                                                    max_leaf_nodes=None,\n",
       "                                                    min_impurity_decrease=0.0,\n",
       "                                                    min_impurity_split=None,\n",
       "                                                    min_samples_leaf=1,\n",
       "                                                    min_samples_split=2,\n",
       "                                                    min_weight_fraction_leaf=0.0,\n",
       "                                                    presort='deprecated',\n",
       "                                                    random_state=None,\n",
       "                                                    splitter='best'),\n",
       "                   iid='deprecated', n_iter=10, n_jobs=None,\n",
       "                   param_distributions={'criterion': ['gini', 'entropy'],\n",
       "                                        'max_features': ['none', 'auto', 'sqrt',\n",
       "                                                         'log2'],\n",
       "                                        'splitter': ['best', 'random']},\n",
       "                   pre_dispatch='2*n_jobs', random_state=None, refit=True,\n",
       "                   return_train_score=False, scoring=None, verbose=0)"
      ]
     },
     "execution_count": 59,
     "metadata": {},
     "output_type": "execute_result"
    }
   ],
   "source": [
    "DTrs = rscv(DT, parDT, cv = 5)\n",
    "DTrs.fit(Xtr, ytr)"
   ]
  },
  {
   "cell_type": "code",
   "execution_count": 60,
   "metadata": {
    "colab": {
     "base_uri": "https://localhost:8080/",
     "height": 485
    },
    "colab_type": "code",
    "executionInfo": {
     "elapsed": 40844,
     "status": "ok",
     "timestamp": 1582532638330,
     "user": {
      "displayName": "Rudy Harun",
      "photoUrl": "https://lh3.googleusercontent.com/a-/AAuE7mCT3Fx-iOuTA6Pj1ltySexlcUpy8kFQ-XpcfzQZ=s64",
      "userId": "16923104043717379311"
     },
     "user_tz": -420
    },
    "id": "yQ2D2jgxIrxe",
    "outputId": "77059a3d-c413-4297-9d6f-9ad4bbab14a2"
   },
   "outputs": [
    {
     "data": {
      "text/plain": [
       "RandomizedSearchCV(cv=5, error_score=nan,\n",
       "                   estimator=RandomForestClassifier(bootstrap=True,\n",
       "                                                    ccp_alpha=0.0,\n",
       "                                                    class_weight=None,\n",
       "                                                    criterion='gini',\n",
       "                                                    max_depth=None,\n",
       "                                                    max_features='auto',\n",
       "                                                    max_leaf_nodes=None,\n",
       "                                                    max_samples=None,\n",
       "                                                    min_impurity_decrease=0.0,\n",
       "                                                    min_impurity_split=None,\n",
       "                                                    min_samples_leaf=1,\n",
       "                                                    min_samples_split=2,\n",
       "                                                    min_weight_fraction_leaf=0.0,\n",
       "                                                    n_estimators=100,\n",
       "                                                    n_jobs=None,\n",
       "                                                    oob_score=False,\n",
       "                                                    random_state=None,\n",
       "                                                    verbose=0,\n",
       "                                                    warm_start=False),\n",
       "                   iid='deprecated', n_iter=10, n_jobs=None,\n",
       "                   param_distributions={'criterion': ['gini', 'entropy'],\n",
       "                                        'max_features': ['none', 'auto', 'sqrt',\n",
       "                                                         'log2'],\n",
       "                                        'warm_start': ['True', 'False']},\n",
       "                   pre_dispatch='2*n_jobs', random_state=None, refit=True,\n",
       "                   return_train_score=False, scoring=None, verbose=0)"
      ]
     },
     "execution_count": 60,
     "metadata": {},
     "output_type": "execute_result"
    }
   ],
   "source": [
    "RFrs = rscv(RF, parRF, cv = 5)\n",
    "RFrs.fit(Xtr, ytr)"
   ]
  },
  {
   "cell_type": "markdown",
   "metadata": {},
   "source": [
    "BEST PARAMETER"
   ]
  },
  {
   "cell_type": "code",
   "execution_count": 61,
   "metadata": {
    "colab": {
     "base_uri": "https://localhost:8080/",
     "height": 69
    },
    "colab_type": "code",
    "executionInfo": {
     "elapsed": 1741,
     "status": "ok",
     "timestamp": 1582532655039,
     "user": {
      "displayName": "Rudy Harun",
      "photoUrl": "https://lh3.googleusercontent.com/a-/AAuE7mCT3Fx-iOuTA6Pj1ltySexlcUpy8kFQ-XpcfzQZ=s64",
      "userId": "16923104043717379311"
     },
     "user_tz": -420
    },
    "id": "mcv-FduLI65j",
    "outputId": "8d83e212-c625-42ef-bac4-f72ee7caf734"
   },
   "outputs": [
    {
     "name": "stdout",
     "output_type": "stream",
     "text": [
      "Best Hyper Parameters LR RandomizedSearchCV : {'solver': 'liblinear', 'penalty': 'l2', 'multi_class': 'auto'}\n",
      "Best Hyper Parameters DT RandomizedSearchCV : {'splitter': 'best', 'max_features': 'auto', 'criterion': 'entropy'}\n",
      "Best Hyper Parameters RF RandomizedSearchCV : {'warm_start': 'True', 'max_features': 'auto', 'criterion': 'entropy'}\n"
     ]
    }
   ],
   "source": [
    "listRS = [LRrs, DTrs, RFrs]\n",
    "label = ['LR', 'DT', 'RF']\n",
    "\n",
    "for i in range(len(label)):\n",
    "  print(f'Best Hyper Parameters {label[i]} RandomizedSearchCV :', listRS[i].best_params_)"
   ]
  },
  {
   "cell_type": "markdown",
   "metadata": {},
   "source": [
    "TRAIN DENGAN HYPERPARAMETER"
   ]
  },
  {
   "cell_type": "code",
   "execution_count": 62,
   "metadata": {
    "colab": {
     "base_uri": "https://localhost:8080/",
     "height": 156
    },
    "colab_type": "code",
    "executionInfo": {
     "elapsed": 2186,
     "status": "ok",
     "timestamp": 1582532684857,
     "user": {
      "displayName": "Rudy Harun",
      "photoUrl": "https://lh3.googleusercontent.com/a-/AAuE7mCT3Fx-iOuTA6Pj1ltySexlcUpy8kFQ-XpcfzQZ=s64",
      "userId": "16923104043717379311"
     },
     "user_tz": -420
    },
    "id": "sDLnfq-JLxp1",
    "outputId": "da60499f-6c77-4fb2-e527-128a7ac4d798"
   },
   "outputs": [
    {
     "data": {
      "text/plain": [
       "RandomForestClassifier(bootstrap=True, ccp_alpha=0.0, class_weight=None,\n",
       "                       criterion='entropy', max_depth=None, max_features='auto',\n",
       "                       max_leaf_nodes=None, max_samples=None,\n",
       "                       min_impurity_decrease=0.0, min_impurity_split=None,\n",
       "                       min_samples_leaf=1, min_samples_split=2,\n",
       "                       min_weight_fraction_leaf=0.0, n_estimators=100,\n",
       "                       n_jobs=None, oob_score=False, random_state=None,\n",
       "                       verbose=0, warm_start='True')"
      ]
     },
     "execution_count": 62,
     "metadata": {},
     "output_type": "execute_result"
    }
   ],
   "source": [
    "LRtun = lr(solver = 'liblinear', penalty = 'l2', multi_class = 'auto')\n",
    "DTtun = dt(splitter = 'best', max_features = 'auto', criterion = 'entropy')\n",
    "RFtun = rf(warm_start = 'True', max_features = 'auto', criterion = 'entropy')\n",
    "\n",
    "LRtun.fit(Xtr, ytr)\n",
    "DTtun.fit(Xtr, ytr)\n",
    "RFtun.fit(Xtr, ytr)"
   ]
  },
  {
   "cell_type": "code",
   "execution_count": 63,
   "metadata": {
    "colab": {},
    "colab_type": "code",
    "id": "roEBn7WiMCno"
   },
   "outputs": [],
   "source": [
    "LRCVtun = cvs(LRtun, Xtr, ytr, cv = 5, scoring = 'accuracy').mean()\n",
    "DTCVtun = cvs(DTtun, Xtr, ytr, cv = 5, scoring = 'accuracy').mean()\n",
    "RFCVtun = cvs(RFtun, Xtr, ytr, cv = 5, scoring = 'accuracy').mean()"
   ]
  },
  {
   "cell_type": "markdown",
   "metadata": {},
   "source": [
    "HYPERPARAMETER SCORE"
   ]
  },
  {
   "cell_type": "code",
   "execution_count": 64,
   "metadata": {
    "colab": {
     "base_uri": "https://localhost:8080/",
     "height": 141
    },
    "colab_type": "code",
    "executionInfo": {
     "elapsed": 838,
     "status": "ok",
     "timestamp": 1582532697744,
     "user": {
      "displayName": "Rudy Harun",
      "photoUrl": "https://lh3.googleusercontent.com/a-/AAuE7mCT3Fx-iOuTA6Pj1ltySexlcUpy8kFQ-XpcfzQZ=s64",
      "userId": "16923104043717379311"
     },
     "user_tz": -420
    },
    "id": "tuBDfClqMWTC",
    "outputId": "09c1865a-7e8d-4237-f91d-bf0de9887915"
   },
   "outputs": [
    {
     "data": {
      "text/html": [
       "<div>\n",
       "<style scoped>\n",
       "    .dataframe tbody tr th:only-of-type {\n",
       "        vertical-align: middle;\n",
       "    }\n",
       "\n",
       "    .dataframe tbody tr th {\n",
       "        vertical-align: top;\n",
       "    }\n",
       "\n",
       "    .dataframe thead th {\n",
       "        text-align: right;\n",
       "    }\n",
       "</style>\n",
       "<table border=\"1\" class=\"dataframe\">\n",
       "  <thead>\n",
       "    <tr style=\"text-align: right;\">\n",
       "      <th></th>\n",
       "      <th>Models</th>\n",
       "      <th>Score</th>\n",
       "      <th>Hyper Tuning</th>\n",
       "    </tr>\n",
       "  </thead>\n",
       "  <tbody>\n",
       "    <tr>\n",
       "      <th>0</th>\n",
       "      <td>Logistic Model</td>\n",
       "      <td>0.799977</td>\n",
       "      <td>0.811624</td>\n",
       "    </tr>\n",
       "    <tr>\n",
       "      <th>1</th>\n",
       "      <td>Decision Tree Classifier</td>\n",
       "      <td>0.759435</td>\n",
       "      <td>0.736588</td>\n",
       "    </tr>\n",
       "    <tr>\n",
       "      <th>2</th>\n",
       "      <td>Random Forest Classifier</td>\n",
       "      <td>0.829320</td>\n",
       "      <td>0.831224</td>\n",
       "    </tr>\n",
       "  </tbody>\n",
       "</table>\n",
       "</div>"
      ],
      "text/plain": [
       "                     Models     Score  Hyper Tuning\n",
       "0            Logistic Model  0.799977      0.811624\n",
       "1  Decision Tree Classifier  0.759435      0.736588\n",
       "2  Random Forest Classifier  0.829320      0.831224"
      ]
     },
     "execution_count": 64,
     "metadata": {},
     "output_type": "execute_result"
    }
   ],
   "source": [
    "models['Hyper Tuning'] = [LRCVtun, DTCVtun, RFCVtun]\n",
    "models"
   ]
  },
  {
   "cell_type": "markdown",
   "metadata": {},
   "source": [
    "Untuk Logistic Regression dan Random Forest, score hyperparameter mengalami kenaikan\n",
    "sedangkan untuk Decision Tree, mengalami penurunan.\n"
   ]
  },
  {
   "cell_type": "markdown",
   "metadata": {},
   "source": [
    "ROC/AUC SCORE"
   ]
  },
  {
   "cell_type": "code",
   "execution_count": 65,
   "metadata": {
    "colab": {},
    "colab_type": "code",
    "id": "E2RWiIixOGMK"
   },
   "outputs": [],
   "source": [
    "from sklearn.metrics import roc_auc_score, roc_curve, auc"
   ]
  },
  {
   "cell_type": "code",
   "execution_count": 66,
   "metadata": {
    "colab": {
     "base_uri": "https://localhost:8080/",
     "height": 437
    },
    "colab_type": "code",
    "executionInfo": {
     "elapsed": 2295,
     "status": "ok",
     "timestamp": 1582532702294,
     "user": {
      "displayName": "Rudy Harun",
      "photoUrl": "https://lh3.googleusercontent.com/a-/AAuE7mCT3Fx-iOuTA6Pj1ltySexlcUpy8kFQ-XpcfzQZ=s64",
      "userId": "16923104043717379311"
     },
     "user_tz": -420
    },
    "id": "r2nT1dIxOw4P",
    "outputId": "a9842d12-011f-4a66-bf0f-de601e7afaa9"
   },
   "outputs": [
    {
     "data": {
      "image/png": "[encoded data removed]",
      "text/plain": [
       "<Figure size 1080x432 with 3 Axes>"
      ]
     },
     "metadata": {},
     "output_type": "display_data"
    }
   ],
   "source": [
    "fig, (ax1, ax2, ax3) = plt.subplots(nrows = 1, ncols = 3, figsize = (15, 6))\n",
    "\n",
    "#LOGMODEL\n",
    "probs = LRtun.predict_proba(Xts)\n",
    "preds = probs[:, 1]\n",
    "fprLr, tprLr, thrLr = roc_curve(yts, preds)\n",
    "roc_auc_lr = auc(fprLr, tprLr)\n",
    "\n",
    "ax1.plot(fprLr, tprLr, 'b', label = 'AUC Logistic = %0.2f' % roc_auc_lr)\n",
    "ax1.plot([0, 1], [0, 1], 'r--')\n",
    "ax1.set_title('Receiver Operating Characteristic Logistic ', fontsize = 10)\n",
    "ax1.set_ylabel('True Positive Rate', fontsize = 10)\n",
    "ax1.set_xlabel('False Positive Rate', fontsize = 10)\n",
    "ax1.legend(loc = 'lower right', prop = {'size': 10})\n",
    "\n",
    "#DECISION TREE ---------------------\n",
    "probs = DTtun.predict_proba(Xts)\n",
    "preds = probs[:, 1]\n",
    "fprDt, tprDt, thrDt = roc_curve(yts, preds)\n",
    "roc_auc_dt = auc(fprDt, tprDt)\n",
    "\n",
    "ax2.plot(fprDt, tprDt, 'b', label = 'AUC Decision Tree = %0.2f' % roc_auc_dt)\n",
    "ax2.plot([0, 1], [0, 1], 'r--')\n",
    "ax2.set_title('Receiver Operating Characteristic Decision Tree ', fontsize = 10)\n",
    "ax2.set_ylabel('True Positive Rate', fontsize = 10)\n",
    "ax2.set_xlabel('False Positive Rate', fontsize = 10)\n",
    "ax2.legend(loc = 'lower right', prop = {'size': 10})\n",
    "\n",
    "#RANDOM FOREST --------------------\n",
    "probs = RFtun.predict_proba(Xts)\n",
    "preds = probs[:, 1]\n",
    "fprRf, tprRf, thrRf = roc_curve(yts, preds)\n",
    "roc_auc_rf = auc(fprRf, tprRf)\n",
    "\n",
    "ax3.plot(fprRf, tprRf, 'b', label = 'AUC Random Forest = %0.2f' % roc_auc_rf)\n",
    "ax3.plot([0, 1], [0, 1], 'r--')\n",
    "ax3.set_title('Receiver Operating Characteristic Random Forest ', fontsize = 10)\n",
    "ax3.set_ylabel('True Positive Rate', fontsize = 10)\n",
    "ax3.set_xlabel('False Positive Rate', fontsize = 10)\n",
    "ax3.legend(loc = 'lower right', prop = {'size': 10})\n",
    "\n",
    "plt.subplots_adjust(wspace=0.2)\n",
    "plt.tight_layout() "
   ]
  },
  {
   "cell_type": "markdown",
   "metadata": {},
   "source": [
    "AUC Score adalah luas ruang di bawah kurva lengkung, score dengan nilai mendekati 1, menunjukkan performa yang lebih baik"
   ]
  },
  {
   "cell_type": "code",
   "execution_count": 67,
   "metadata": {
    "colab": {
     "base_uri": "https://localhost:8080/",
     "height": 141
    },
    "colab_type": "code",
    "executionInfo": {
     "elapsed": 775,
     "status": "ok",
     "timestamp": 1582532707083,
     "user": {
      "displayName": "Rudy Harun",
      "photoUrl": "https://lh3.googleusercontent.com/a-/AAuE7mCT3Fx-iOuTA6Pj1ltySexlcUpy8kFQ-XpcfzQZ=s64",
      "userId": "16923104043717379311"
     },
     "user_tz": -420
    },
    "id": "aKu-6ouQPr8X",
    "outputId": "bf5e204e-b00e-4492-8695-88c0ffad7069"
   },
   "outputs": [
    {
     "data": {
      "text/html": [
       "<div>\n",
       "<style scoped>\n",
       "    .dataframe tbody tr th:only-of-type {\n",
       "        vertical-align: middle;\n",
       "    }\n",
       "\n",
       "    .dataframe tbody tr th {\n",
       "        vertical-align: top;\n",
       "    }\n",
       "\n",
       "    .dataframe thead th {\n",
       "        text-align: right;\n",
       "    }\n",
       "</style>\n",
       "<table border=\"1\" class=\"dataframe\">\n",
       "  <thead>\n",
       "    <tr style=\"text-align: right;\">\n",
       "      <th></th>\n",
       "      <th>Models</th>\n",
       "      <th>Score</th>\n",
       "      <th>Hyper Tuning</th>\n",
       "      <th>AUC Score</th>\n",
       "    </tr>\n",
       "  </thead>\n",
       "  <tbody>\n",
       "    <tr>\n",
       "      <th>0</th>\n",
       "      <td>Logistic Model</td>\n",
       "      <td>0.799977</td>\n",
       "      <td>0.811624</td>\n",
       "      <td>0.884613</td>\n",
       "    </tr>\n",
       "    <tr>\n",
       "      <th>1</th>\n",
       "      <td>Decision Tree Classifier</td>\n",
       "      <td>0.759435</td>\n",
       "      <td>0.736588</td>\n",
       "      <td>0.722211</td>\n",
       "    </tr>\n",
       "    <tr>\n",
       "      <th>2</th>\n",
       "      <td>Random Forest Classifier</td>\n",
       "      <td>0.829320</td>\n",
       "      <td>0.831224</td>\n",
       "      <td>0.896057</td>\n",
       "    </tr>\n",
       "  </tbody>\n",
       "</table>\n",
       "</div>"
      ],
      "text/plain": [
       "                     Models     Score  Hyper Tuning  AUC Score\n",
       "0            Logistic Model  0.799977      0.811624   0.884613\n",
       "1  Decision Tree Classifier  0.759435      0.736588   0.722211\n",
       "2  Random Forest Classifier  0.829320      0.831224   0.896057"
      ]
     },
     "execution_count": 67,
     "metadata": {},
     "output_type": "execute_result"
    }
   ],
   "source": [
    "models['AUC Score'] = [roc_auc_lr, roc_auc_dt, roc_auc_rf]\n",
    "models"
   ]
  },
  {
   "cell_type": "markdown",
   "metadata": {},
   "source": [
    "CONFUSION MATRIX"
   ]
  },
  {
   "cell_type": "markdown",
   "metadata": {},
   "source": [
    "- True : y prediksi == y aktual\n",
    "- False : y prediksi != y aktual\n",
    "- Positive : model y prediksi = 1\n",
    "- Negative : model y prediksi = 0\n",
    "- True Positive (TP) : y prediksi == y aktual & model prediksi = 1 (y = 1 & yp = 1)\n",
    "- True Negative (TN) : y prediksi == y aktual & model prediksi = 0 (y = 0 & yp = 0)\n",
    "- False Positive (FP) : y prediksi != y aktual & model prediksi = 1 (y = 0 & yp = 1)\n",
    "- False Negative (FN) : y prediksi != y aktual & model prediksi = 0 (y = 1 & yp = 0)"
   ]
  },
  {
   "cell_type": "code",
   "execution_count": 68,
   "metadata": {
    "colab": {},
    "colab_type": "code",
    "id": "0RiiZSm9QeDh"
   },
   "outputs": [],
   "source": [
    "from sklearn.metrics import confusion_matrix, plot_confusion_matrix, classification_report, precision_score, recall_score, f1_score, accuracy_score"
   ]
  },
  {
   "cell_type": "code",
   "execution_count": 69,
   "metadata": {
    "colab": {},
    "colab_type": "code",
    "id": "Q2fouOZ_Uugs"
   },
   "outputs": [],
   "source": [
    "tunLRpr = LRtun.predict(Xts)\n",
    "tunDTpr = DTtun.predict(Xts)\n",
    "tunRFpr = RFtun.predict(Xts)"
   ]
  },
  {
   "cell_type": "code",
   "execution_count": 70,
   "metadata": {
    "colab": {
     "base_uri": "https://localhost:8080/",
     "height": 208
    },
    "colab_type": "code",
    "executionInfo": {
     "elapsed": 808,
     "status": "ok",
     "timestamp": 1582533214928,
     "user": {
      "displayName": "Rudy Harun",
      "photoUrl": "https://lh3.googleusercontent.com/a-/AAuE7mCT3Fx-iOuTA6Pj1ltySexlcUpy8kFQ-XpcfzQZ=s64",
      "userId": "16923104043717379311"
     },
     "user_tz": -420
    },
    "id": "_d7BCZovU8vR",
    "outputId": "6377eda8-1e7f-4cf5-89f8-8b73b834d69d"
   },
   "outputs": [
    {
     "name": "stdout",
     "output_type": "stream",
     "text": [
      "Logistic Regression Confusion Matrix\n",
      " [[963 203]\n",
      " [258 809]] \n",
      "\n",
      "Decision Tree Confusion Matrix\n",
      " [[881 285]\n",
      " [332 735]] \n",
      "\n",
      "Random Forest Confusion Matrix\n",
      " [[930 236]\n",
      " [175 892]]\n"
     ]
    }
   ],
   "source": [
    "print('Logistic Regression Confusion Matrix\\n', confusion_matrix(yts, tunLRpr), '\\n')\n",
    "print('Decision Tree Confusion Matrix\\n', confusion_matrix(yts, tunDTpr), '\\n')\n",
    "print('Random Forest Confusion Matrix\\n', confusion_matrix(yts, tunRFpr))"
   ]
  },
  {
   "cell_type": "code",
   "execution_count": 71,
   "metadata": {
    "colab": {
     "base_uri": "https://localhost:8080/",
     "height": 821
    },
    "colab_type": "code",
    "executionInfo": {
     "elapsed": 1521,
     "status": "ok",
     "timestamp": 1582533239872,
     "user": {
      "displayName": "Rudy Harun",
      "photoUrl": "https://lh3.googleusercontent.com/a-/AAuE7mCT3Fx-iOuTA6Pj1ltySexlcUpy8kFQ-XpcfzQZ=s64",
      "userId": "16923104043717379311"
     },
     "user_tz": -420
    },
    "id": "LgNYStTeTaJX",
    "outputId": "4c6eb2e4-77b3-424c-a75f-26648abb202e"
   },
   "outputs": [
    {
     "data": {
      "image/png": "[encoded data removed]",
      "text/plain": [
       "<Figure size 432x288 with 2 Axes>"
      ]
     },
     "metadata": {},
     "output_type": "display_data"
    },
    {
     "data": {
      "image/png": "[encoded data removed]",
      "text/plain": [
       "<Figure size 432x288 with 2 Axes>"
      ]
     },
     "metadata": {},
     "output_type": "display_data"
    },
    {
     "data": {
      "image/png": "[encoded data removed]",
      "text/plain": [
       "<Figure size 432x288 with 2 Axes>"
      ]
     },
     "metadata": {},
     "output_type": "display_data"
    }
   ],
   "source": [
    "plot_confusion_matrix(LRtun, Xts, yts, values_format = '0.0f'),\n",
    "plot_confusion_matrix(DTtun, Xts, yts, values_format = '0.0f'),\n",
    "plot_confusion_matrix(RFtun, Xts, yts, values_format = '0.0f')\n",
    "plt.show()"
   ]
  },
  {
   "cell_type": "markdown",
   "metadata": {},
   "source": [
    "RECALL SCORE"
   ]
  },
  {
   "cell_type": "markdown",
   "metadata": {},
   "source": [
    "- TP Rate / Sensitivity / Recall(+) : kalau ya = 1, seberapa sering model prediksi yp = 1 (1, 1)\n",
    "\n",
    "$\\displaystyle \\frac {TP} {TP + FN}$\n",
    "\n",
    "\n",
    "- TN Rate / Specificity / Selectifity / Recall(-) : kalau ya = 0, seberapa sering yp = 0 (0, 0)\n",
    "\n",
    "$\\displaystyle \\frac {TN} {TN + FP}$"
   ]
  },
  {
   "cell_type": "code",
   "execution_count": 72,
   "metadata": {
    "colab": {},
    "colab_type": "code",
    "id": "m0CQMpjnXMxy"
   },
   "outputs": [],
   "source": [
    "LRrecPos = recall_score(yts, LRtun.predict(Xts), pos_label = 1)\n",
    "LRrecNeg = recall_score(yts, LRtun.predict(Xts), pos_label = 0)\n",
    "DTrecPos = recall_score(yts, DTtun.predict(Xts), pos_label = 1)\n",
    "DTrecNeg = recall_score(yts, DTtun.predict(Xts), pos_label = 0)\n",
    "RFrecPos = recall_score(yts, RFtun.predict(Xts), pos_label = 1)\n",
    "RFrecNeg = recall_score(yts, RFtun.predict(Xts), pos_label = 0)"
   ]
  },
  {
   "cell_type": "code",
   "execution_count": 73,
   "metadata": {
    "colab": {
     "base_uri": "https://localhost:8080/",
     "height": 338
    },
    "colab_type": "code",
    "executionInfo": {
     "elapsed": 886,
     "status": "ok",
     "timestamp": 1582534306576,
     "user": {
      "displayName": "Rudy Harun",
      "photoUrl": "https://lh3.googleusercontent.com/a-/AAuE7mCT3Fx-iOuTA6Pj1ltySexlcUpy8kFQ-XpcfzQZ=s64",
      "userId": "16923104043717379311"
     },
     "user_tz": -420
    },
    "id": "ip8R_WMlYH61",
    "outputId": "d789e168-1c7c-4c5d-fe5a-c5dae7086710"
   },
   "outputs": [
    {
     "data": {
      "image/png": "[encoded data removed]",
      "text/plain": [
       "<Figure size 864x360 with 1 Axes>"
      ]
     },
     "metadata": {},
     "output_type": "display_data"
    }
   ],
   "source": [
    "plt.figure(figsize = (12, 5))\n",
    "plt.title('Recall Score')\n",
    "plt.plot(['Logistic', 'Decision Tree', 'Random Forest'], [LRrecPos, DTrecPos, RFrecPos])\n",
    "plt.plot(['Logistic', 'Decision Tree', 'Random Forest'], [LRrecNeg, DTrecNeg, RFrecNeg])\n",
    "plt.legend(['Churn', 'Not Churn'])\n",
    "plt.plot([LRrecPos, DTrecPos, RFrecPos], 'ro')\n",
    "plt.plot([LRrecNeg, DTrecNeg, RFrecNeg], 'ro')\n",
    "plt.yticks(np.arange(0, 1.2, 0.2))\n",
    "plt.show()"
   ]
  },
  {
   "cell_type": "markdown",
   "metadata": {},
   "source": [
    "PRECISION SCORE"
   ]
  },
  {
   "cell_type": "markdown",
   "metadata": {},
   "source": [
    "- Precision(+) : kalau yp = 1, seberapa sering benar? atau (yp = 1) == ya\n",
    "\n",
    "$\\displaystyle \\frac {TP} {TP + FP}$\n",
    "\n",
    "- Precision(-) : kalau yp = 0, seberapa sering benar? atau (yp = 0) == ya\n",
    "\n",
    "$\\displaystyle \\frac {TN} {TN + FN}$"
   ]
  },
  {
   "cell_type": "code",
   "execution_count": 74,
   "metadata": {
    "colab": {},
    "colab_type": "code",
    "id": "dlXOIOO5YvNw"
   },
   "outputs": [],
   "source": [
    "LRprecPos = precision_score(yts, LRtun.predict(Xts), pos_label = 1)\n",
    "LRprecNeg = precision_score(yts, LRtun.predict(Xts), pos_label = 0)\n",
    "DTprecPos = precision_score(yts, DTtun.predict(Xts), pos_label = 1)\n",
    "DTprecNeg = precision_score(yts, DTtun.predict(Xts), pos_label = 0)\n",
    "RFprecPos = precision_score(yts, RFtun.predict(Xts), pos_label = 1)\n",
    "RFprecNeg = precision_score(yts, RFtun.predict(Xts), pos_label = 0)"
   ]
  },
  {
   "cell_type": "code",
   "execution_count": 75,
   "metadata": {
    "colab": {
     "base_uri": "https://localhost:8080/",
     "height": 338
    },
    "colab_type": "code",
    "executionInfo": {
     "elapsed": 813,
     "status": "ok",
     "timestamp": 1582534337474,
     "user": {
      "displayName": "Rudy Harun",
      "photoUrl": "https://lh3.googleusercontent.com/a-/AAuE7mCT3Fx-iOuTA6Pj1ltySexlcUpy8kFQ-XpcfzQZ=s64",
      "userId": "16923104043717379311"
     },
     "user_tz": -420
    },
    "id": "e5YxXVnHZOxT",
    "outputId": "1bb6cb8c-cca5-4d91-c1f1-dfb001c0009c"
   },
   "outputs": [
    {
     "data": {
      "image/png": "[encoded data removed]",
      "text/plain": [
       "<Figure size 864x360 with 1 Axes>"
      ]
     },
     "metadata": {},
     "output_type": "display_data"
    }
   ],
   "source": [
    "plt.figure(figsize = (12, 5))\n",
    "plt.title('Precision Score')\n",
    "plt.plot(['Logistic', 'Decision Tree', 'Random Forest'], [LRprecPos, DTprecPos, RFprecPos])\n",
    "plt.plot(['Logistic', 'Decision Tree', 'Random Forest'], [LRprecNeg, DTprecNeg, RFprecNeg])\n",
    "plt.legend(['Churn', 'Not Churn'])\n",
    "plt.plot([LRprecPos, DTprecPos, RFprecPos], 'ro')\n",
    "plt.plot([LRprecNeg, DTprecNeg, RFprecNeg], 'ro')\n",
    "plt.yticks(np.arange(0, 1.2, 0.2))\n",
    "plt.show()"
   ]
  },
  {
   "cell_type": "markdown",
   "metadata": {},
   "source": [
    "F1 SCORE : rata-rata harmoni dari Precision(+) & Recall(+)"
   ]
  },
  {
   "cell_type": "markdown",
   "metadata": {},
   "source": [
    "$\\displaystyle 2 * \\frac {PrecisionP * RecallP} {PrecisionP + RecallP}$"
   ]
  },
  {
   "cell_type": "code",
   "execution_count": 76,
   "metadata": {
    "colab": {},
    "colab_type": "code",
    "id": "AAFiTUQgZ6Vy"
   },
   "outputs": [],
   "source": [
    "LRf1Pos = f1_score(yts, LRtun.predict(Xts), pos_label = 1)\n",
    "LRf1Neg = f1_score(yts, LRtun.predict(Xts), pos_label = 0)\n",
    "DTf1Pos = f1_score(yts, DTtun.predict(Xts), pos_label = 1)\n",
    "DTf1Neg = f1_score(yts, DTtun.predict(Xts), pos_label = 0)\n",
    "RFf1Pos = f1_score(yts, RFtun.predict(Xts), pos_label = 1)\n",
    "RFf1Neg = f1_score(yts, RFtun.predict(Xts), pos_label = 0)"
   ]
  },
  {
   "cell_type": "code",
   "execution_count": 77,
   "metadata": {
    "colab": {
     "base_uri": "https://localhost:8080/",
     "height": 338
    },
    "colab_type": "code",
    "executionInfo": {
     "elapsed": 836,
     "status": "ok",
     "timestamp": 1582534584438,
     "user": {
      "displayName": "Rudy Harun",
      "photoUrl": "https://lh3.googleusercontent.com/a-/AAuE7mCT3Fx-iOuTA6Pj1ltySexlcUpy8kFQ-XpcfzQZ=s64",
      "userId": "16923104043717379311"
     },
     "user_tz": -420
    },
    "id": "ZCZTkqwEaLh9",
    "outputId": "aa039f2d-2421-4843-918f-66f87fa3e041"
   },
   "outputs": [
    {
     "data": {
      "image/png": "[encoded data removed]",
      "text/plain": [
       "<Figure size 864x360 with 1 Axes>"
      ]
     },
     "metadata": {},
     "output_type": "display_data"
    }
   ],
   "source": [
    "plt.figure(figsize = (12, 5))\n",
    "plt.title('F1 Score')\n",
    "plt.plot(['Logistic', 'Decision Tree', 'Random Forest'], [LRf1Pos, DTf1Pos, RFf1Pos])\n",
    "plt.plot(['Logistic', 'Decision Tree', 'Random Forest'], [LRf1Neg, DTf1Neg, RFf1Neg])\n",
    "plt.legend(['Churn', 'Not Churn'])\n",
    "plt.plot([LRf1Pos, DTf1Pos, RFf1Pos], 'ro')\n",
    "plt.plot([LRf1Neg, DTf1Neg, RFf1Neg], 'ro')\n",
    "plt.yticks(np.arange(0, 1.2, 0.2))\n",
    "plt.show()"
   ]
  },
  {
   "cell_type": "markdown",
   "metadata": {},
   "source": [
    "CLASSIFICATION REPORT"
   ]
  },
  {
   "cell_type": "code",
   "execution_count": 78,
   "metadata": {
    "colab": {
     "base_uri": "https://localhost:8080/",
     "height": 537
    },
    "colab_type": "code",
    "executionInfo": {
     "elapsed": 800,
     "status": "ok",
     "timestamp": 1582534767161,
     "user": {
      "displayName": "Rudy Harun",
      "photoUrl": "https://lh3.googleusercontent.com/a-/AAuE7mCT3Fx-iOuTA6Pj1ltySexlcUpy8kFQ-XpcfzQZ=s64",
      "userId": "16923104043717379311"
     },
     "user_tz": -420
    },
    "id": "m7STz1SyahHq",
    "outputId": "ad9cf87f-93de-4bf1-b8b1-11401317844c"
   },
   "outputs": [
    {
     "name": "stdout",
     "output_type": "stream",
     "text": [
      "Classification report logistic regression :\n",
      "               precision    recall  f1-score   support\n",
      "\n",
      "           0       0.79      0.83      0.81      1166\n",
      "           1       0.80      0.76      0.78      1067\n",
      "\n",
      "    accuracy                           0.79      2233\n",
      "   macro avg       0.79      0.79      0.79      2233\n",
      "weighted avg       0.79      0.79      0.79      2233\n",
      "\n",
      "Classification report Decision tree classifier :\n",
      "               precision    recall  f1-score   support\n",
      "\n",
      "           0       0.73      0.76      0.74      1166\n",
      "           1       0.72      0.69      0.70      1067\n",
      "\n",
      "    accuracy                           0.72      2233\n",
      "   macro avg       0.72      0.72      0.72      2233\n",
      "weighted avg       0.72      0.72      0.72      2233\n",
      "\n",
      "Classification report random forest classifier :\n",
      "               precision    recall  f1-score   support\n",
      "\n",
      "           0       0.84      0.80      0.82      1166\n",
      "           1       0.79      0.84      0.81      1067\n",
      "\n",
      "    accuracy                           0.82      2233\n",
      "   macro avg       0.82      0.82      0.82      2233\n",
      "weighted avg       0.82      0.82      0.82      2233\n",
      "\n"
     ]
    }
   ],
   "source": [
    "print('Classification report logistic regression :\\n', classification_report(yts, tunLRpr))\n",
    "print('Classification report Decision tree classifier :\\n', classification_report(yts, tunDTpr))\n",
    "print('Classification report random forest classifier :\\n', classification_report(yts, tunRFpr))"
   ]
  },
  {
   "cell_type": "markdown",
   "metadata": {},
   "source": [
    "Berdasarkan perbandingan score, hyperparameter tuning, auc score, serta precision, recall dan f1 score, dari msing-masing model, RandomForest menunjukkan performa yang lebih baik dibandingkan dua model lainnya"
   ]
  },
  {
   "cell_type": "code",
   "execution_count": 89,
   "metadata": {},
   "outputs": [
    {
     "data": {
      "text/html": [
       "<div>\n",
       "<style scoped>\n",
       "    .dataframe tbody tr th:only-of-type {\n",
       "        vertical-align: middle;\n",
       "    }\n",
       "\n",
       "    .dataframe tbody tr th {\n",
       "        vertical-align: top;\n",
       "    }\n",
       "\n",
       "    .dataframe thead th {\n",
       "        text-align: right;\n",
       "    }\n",
       "</style>\n",
       "<table border=\"1\" class=\"dataframe\">\n",
       "  <thead>\n",
       "    <tr style=\"text-align: right;\">\n",
       "      <th></th>\n",
       "      <th>index</th>\n",
       "      <th>actual</th>\n",
       "      <th>pred</th>\n",
       "    </tr>\n",
       "  </thead>\n",
       "  <tbody>\n",
       "    <tr>\n",
       "      <th>0</th>\n",
       "      <td>5527</td>\n",
       "      <td>0</td>\n",
       "      <td>1</td>\n",
       "    </tr>\n",
       "    <tr>\n",
       "      <th>1</th>\n",
       "      <td>6480</td>\n",
       "      <td>0</td>\n",
       "      <td>0</td>\n",
       "    </tr>\n",
       "    <tr>\n",
       "      <th>2</th>\n",
       "      <td>6781</td>\n",
       "      <td>0</td>\n",
       "      <td>1</td>\n",
       "    </tr>\n",
       "    <tr>\n",
       "      <th>3</th>\n",
       "      <td>6620</td>\n",
       "      <td>0</td>\n",
       "      <td>0</td>\n",
       "    </tr>\n",
       "    <tr>\n",
       "      <th>4</th>\n",
       "      <td>5778</td>\n",
       "      <td>0</td>\n",
       "      <td>0</td>\n",
       "    </tr>\n",
       "    <tr>\n",
       "      <th>...</th>\n",
       "      <td>...</td>\n",
       "      <td>...</td>\n",
       "      <td>...</td>\n",
       "    </tr>\n",
       "    <tr>\n",
       "      <th>95</th>\n",
       "      <td>9755</td>\n",
       "      <td>0</td>\n",
       "      <td>1</td>\n",
       "    </tr>\n",
       "    <tr>\n",
       "      <th>96</th>\n",
       "      <td>7676</td>\n",
       "      <td>0</td>\n",
       "      <td>0</td>\n",
       "    </tr>\n",
       "    <tr>\n",
       "      <th>97</th>\n",
       "      <td>6434</td>\n",
       "      <td>0</td>\n",
       "      <td>1</td>\n",
       "    </tr>\n",
       "    <tr>\n",
       "      <th>98</th>\n",
       "      <td>10393</td>\n",
       "      <td>0</td>\n",
       "      <td>0</td>\n",
       "    </tr>\n",
       "    <tr>\n",
       "      <th>99</th>\n",
       "      <td>10508</td>\n",
       "      <td>0</td>\n",
       "      <td>0</td>\n",
       "    </tr>\n",
       "  </tbody>\n",
       "</table>\n",
       "<p>100 rows × 3 columns</p>\n",
       "</div>"
      ],
      "text/plain": [
       "    index  actual  pred\n",
       "0    5527       0     1\n",
       "1    6480       0     0\n",
       "2    6781       0     1\n",
       "3    6620       0     0\n",
       "4    5778       0     0\n",
       "..    ...     ...   ...\n",
       "95   9755       0     1\n",
       "96   7676       0     0\n",
       "97   6434       0     1\n",
       "98  10393       0     0\n",
       "99  10508       0     0\n",
       "\n",
       "[100 rows x 3 columns]"
      ]
     },
     "execution_count": 89,
     "metadata": {},
     "output_type": "execute_result"
    }
   ],
   "source": [
    "ypr = RFtun.predict(Xts)\n",
    "trial = pd.DataFrame({'actual': yts, 'pred': ypr}, dtype='int64')\n",
    "trial.sort_values('actual',inplace=True)\n",
    "trial.reset_index(inplace=True)\n",
    "trial.head(100)"
   ]
  },
  {
   "cell_type": "code",
   "execution_count": 90,
   "metadata": {},
   "outputs": [
    {
     "data": {
      "image/png": "[encoded data removed]",
      "text/plain": [
       "<Figure size 2160x144 with 1 Axes>"
      ]
     },
     "metadata": {},
     "output_type": "display_data"
    }
   ],
   "source": [
    "plt.figure(figsize=(30,2))\n",
    "plt.plot(trial.head(100).index.tolist(), trial.head(100).actual, 'ro')\n",
    "plt.plot(trial.head(100).index.tolist(), trial.head(100).pred, 'bo')\n",
    "plt.show()"
   ]
  },
  {
   "cell_type": "code",
   "execution_count": 93,
   "metadata": {},
   "outputs": [
    {
     "data": {
      "text/plain": [
       "index     22\n",
       "actual    22\n",
       "pred      22\n",
       "dtype: int64"
      ]
     },
     "execution_count": 93,
     "metadata": {},
     "output_type": "execute_result"
    }
   ],
   "source": [
    "trial.head(100)[trial['actual'] != trial['pred']].count()"
   ]
  },
  {
   "cell_type": "code",
   "execution_count": 94,
   "metadata": {},
   "outputs": [
    {
     "data": {
      "text/plain": [
       "index     78\n",
       "actual    78\n",
       "pred      78\n",
       "dtype: int64"
      ]
     },
     "execution_count": 94,
     "metadata": {},
     "output_type": "execute_result"
    }
   ],
   "source": [
    "trial.head(100)[trial['actual'] == trial['pred']].count()"
   ]
  },
  {
   "cell_type": "markdown",
   "metadata": {},
   "source": [
    "Dari 100 data, model mampu memprediksi sebesar 78%, dan meleset 22%"
   ]
  },
  {
   "cell_type": "code",
   "execution_count": 95,
   "metadata": {},
   "outputs": [],
   "source": [
    "import pickle\n",
    "with open('modelPickle', 'wb') as modelku:\n",
    "    pickle.dump(RFtun, modelku)"
   ]
  },
  {
   "cell_type": "code",
   "execution_count": null,
   "metadata": {},
   "outputs": [],
   "source": []
  }
 ],
 "metadata": {
  "colab": {
   "authorship_tag": "ABX9TyPsXDPxltZJx8hRvDhgx4M/",
   "name": "Untitled5.ipynb",
   "provenance": []
  },
  "kernelspec": {
   "display_name": "Python 3",
   "language": "python",
   "name": "python3"
  },
  "language_info": {
   "codemirror_mode": {
    "name": "ipython",
    "version": 3
   },
   "file_extension": ".py",
   "mimetype": "text/x-python",
   "name": "python",
   "nbconvert_exporter": "python",
   "pygments_lexer": "ipython3",
   "version": "3.7.4"
  }
 },
 "nbformat": 4,
 "nbformat_minor": 4
}
